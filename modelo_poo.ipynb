{
 "cells": [
  {
   "cell_type": "code",
   "execution_count": 38,
   "metadata": {},
   "outputs": [],
   "source": [
    "import numpy as np\n",
    "import matplotlib.pyplot as plt\n",
    "from enum import Enum\n",
    "from shapely import Polygon,Point\n",
    "from scipy import signal\n",
    "import json"
   ]
  },
  {
   "cell_type": "code",
   "execution_count": 120,
   "metadata": {},
   "outputs": [],
   "source": [
    "def distancia_entre_puntos (x1,y1,x2,y2):\n",
    "    \"\"\"Función que mide la distancia entre dos puntos.\n",
    "\n",
    "    Args:\n",
    "        x1 (float): Coordenada x del primer punto.\n",
    "        y1 (float): Coordenada y del primer punto.\n",
    "        x2 (float): Coordenada x del segundo punto.\n",
    "        y2 (float): Coordenada y del segundo punto.\n",
    "\n",
    "    Returns:\n",
    "        float: La función devuelve la distancia entre los dos puntos.\n",
    "    \"\"\"\n",
    "    return np.sqrt((x1-x2)**2 + (y1-y2)**2)\n",
    "\n",
    "def distancia_entre_circulos(x1,y1,radio1,x2,y2,radio2):\n",
    "    \"\"\"Método que devuelve la distancia entre dos círculos.\n",
    "\n",
    "    Args:\n",
    "        x1 (float): Coordenada x del primer círculo.\n",
    "        y1 (float): Coordenada y del primer círculo.\n",
    "        radio1 (float): Radio del primer círculo.\n",
    "        x2 (float): Coordenada x del segundo círculo.\n",
    "        y2 (float): Coordenada y del segundo círculo.\n",
    "        radio2 (float): Radio del segundo círculo.\n",
    "\n",
    "    Returns:\n",
    "        float: Devuelve el cálculo de la distancia entre los dos círculos.\n",
    "    \"\"\"\n",
    "    return (distancia_entre_puntos(x1=x1,y1=y1,x2=x2,y2=y2))-radio1-radio2\n",
    "\n",
    "def is_inside_puntoencirculo (r0,x,y,x0,y0): #!\n",
    "    \"\"\"Función con la que se evalúa si un punto se encuentra adentro de un círculo.\n",
    "\n",
    "    Args:\n",
    "        r0 (float): Radio del círculo\n",
    "        x (float): Coordenada x del punto\n",
    "        y (float): Coordenada y del punto\n",
    "        x0 (float, optional): Coordenada x del centro del círculo. Por defecto es 0.\n",
    "        y0 (float, optional): Coordenada y del centro del círculo. Por defecto es 0.\n",
    "\n",
    "    Returns:\n",
    "        bool: Devuelve True o False de acuerdo a si el punto se encuentra dentro del círculo o no.\n",
    "    \"\"\"\n",
    "    return r0 >= distancia_entre_puntos(x1=x,y1=y,x2=x0,y2=y0)\n",
    "\n",
    "def is_inside_circencirc(r1,x1,y1,r0,x0,y0):\n",
    "    \"\"\"Función con la que se evalúa si un primer círculo (x1,y1,r1) se encuentra dentro de un segundo círculo (x0,y0,r0).\n",
    "\n",
    "    Args:\n",
    "        r1 (float): Radio del primer círculo.\n",
    "        x1 (float): Coordenada x del primer círculo.\n",
    "        y1 (float): Coordenada y del primer círculo.\n",
    "        r0 (float): Radio del círculo al que se le evalúa si contiene al primer círculo.\n",
    "        x0 (float, optional): Coordenada x del círculo al que se le evalúa si contiene al primer círculo. Por defecto es 0.\n",
    "        y0 (float, optional): Coordenada y del círculo al que se le evalúa si contiene al primer círculo. Por defecto es 0.\n",
    "\n",
    "    Returns:\n",
    "        bool: Devuelve True o False de acuerdo a si el primer círculo está contenido dentro del segundo o no.\n",
    "    \"\"\"\n",
    "    return r0 >= r1 + distancia_entre_puntos(x1=x1,y1=y1,x2=x0,y2=y0)\n",
    "\n",
    "def funcion_trapecio(x,z,d,a):\n",
    "    \"\"\"Función trapecio. Devuelve el valor de la función trapecio para un dado x.\n",
    "\n",
    "    Args:\n",
    "        x (float): Valor en el cual se evaluará la función trapecio.\n",
    "        z (float): Centro simétrico del trapecio.\n",
    "        d (float): La mitad del valor del largo inferior del trapecio.\n",
    "        a (float): La mitad del largo superior del trapecio.\n",
    "\n",
    "    Returns:\n",
    "        float: Devuelve el valor de la función evaluado en un dado x.\n",
    "    \"\"\"\n",
    "    if (x>z-d-a and x<z-a):\n",
    "        return (x-z+d+a)/d\n",
    "    elif (x>z+a and x<z+a+d):\n",
    "        return (z+a+d-x)/d\n",
    "    elif (x>=z-a and x<=z+a):\n",
    "        return 1\n",
    "    else:\n",
    "        return 0\n",
    "\n",
    "def funcion_gaussiana(x,z,d,a):\n",
    "    \"\"\"Función exponencial con caída como una función gaussiana. \n",
    "\n",
    "    Args:\n",
    "        x (float): Valor en el cual se evaluará la función.\n",
    "        z (float): mu, esperanza de la función gaussiana.\n",
    "        d (float): Valor hasta el cual se quiere lograr la caída de la función.\n",
    "        a (float): Valor hasta el cual se quiere mantener la función igual a 1.\n",
    "\n",
    "    Returns:\n",
    "        float: Devuelve el valor de la función evaluado en un dado x.\n",
    "    \"\"\"\n",
    "    if (x>z-d-a and x<z-a):\n",
    "        exponente = -(x - (z -a))**2 / (2 * (d/3)**2)\n",
    "        return np.exp(exponente)\n",
    "    elif (x>z+a and x<z+a+d):\n",
    "        exponente = -(x - (z +a))**2 / (2 * (d/3)**2)\n",
    "        return np.exp(exponente)\n",
    "    elif (x>=z-a and x<=z+a):\n",
    "        return 1\n",
    "    else:\n",
    "        return 0\n",
    "\n",
    "def funcion_constante(x,z,d,a,valor):\n",
    "    \"\"\"Función que devuelve un valor constante en un cierto rango.\n",
    "\n",
    "    Args:\n",
    "        x (float): Valor en el cual se evaluará la función.\n",
    "        z (float): Centro de la función.\n",
    "        d (float): Valor del ancho de la función.\n",
    "        a (float): Extensión para el ancho de la función.\n",
    "        valor (float): El valor de la función cuando no es cero.\n",
    "\n",
    "    Returns:\n",
    "        _type_: Devuelve el valor de la función evaluado en un dado x.\n",
    "    \"\"\"\n",
    "    if x>=z-d-a and x<=z+d+a:\n",
    "        return valor\n",
    "    else:\n",
    "        return 0\n",
    "\n",
    "def insertar_estimulo(estimulo,posicion,fm,tiempo_registro,velocidad,peso):\n",
    "    total_muestras = int(tiempo_registro * fm)\n",
    "    #tiempo = np.arange(1/fm,tiempo_registro+1/fm,1/fm)\n",
    "    muestras_estimulo = len(estimulo)\n",
    "    vector = np.zeros(total_muestras)\n",
    "\n",
    "    \n",
    "    inicio = int((posicion/(velocidad*1000000)) * fm) #retardo\n",
    "    \n",
    "    if muestras_estimulo > total_muestras - inicio:\n",
    "        muestras_estimulo = total_muestras-inicio\n",
    "    \n",
    "    vector[inicio:inicio+muestras_estimulo] = estimulo[:muestras_estimulo]*peso\n",
    "  \n",
    "    return vector\n",
    "\n",
    "def array_to_multiarray(array,estimulo,fm,tiempo_registro,velocidad,peso):\n",
    "    for i,posicion in enumerate(array):\n",
    "        if i == 0:\n",
    "            multiarray = [insertar_estimulo(estimulo=estimulo,posicion=posicion,fm=fm,tiempo_registro=tiempo_registro,velocidad=velocidad,peso=peso[i])]\n",
    "        else:\n",
    "            a = insertar_estimulo(estimulo=estimulo,posicion=posicion,fm=fm,tiempo_registro=tiempo_registro,velocidad=velocidad,peso=peso[i])\n",
    "            multiarray = np.vstack((multiarray,a))\n",
    "    return multiarray\n",
    "\n",
    "def suma_multiarray(multiarray):\n",
    "    return np.sum(multiarray,axis = 0)\n",
    "\n",
    "class InputError(Exception):\n",
    "    pass\n",
    "\n",
    "class LoadingError(Exception):\n",
    "    pass\n",
    "\n",
    "class OutOfBounds(Exception):\n",
    "    pass\n",
    "\n",
    "class FiberCollision(Exception):\n",
    "    pass\n",
    "\n",
    "class TipoElectrodo(Enum): \n",
    "    punto = 'punto'\n",
    "    circulo = 'circulo'\n",
    "    poligono = 'poligono'\n",
    "\n",
    "class FormaDePloteo(Enum):\n",
    "    fibras_sin_diametro = 'fibras_sin_diametro'\n",
    "    fibras_con_diametro = 'fibras_con_diametro'\n",
    "\n",
    "class PoblacionNervio(Enum):\n",
    "    uniforme_con_superposicion = 'uniforme_con_superposicion',\n",
    "    manual = 'manual'\n",
    "    desde_archivo = 'desde_archivo'\n",
    "    uniforme_sin_superposicion = \"uniforme_sin_superposicion\"\n",
    "\n",
    "class VariacionNodos (Enum):\n",
    "    uniforme = 'uniforme'\n",
    "    normal = 'normal'\n",
    "\n",
    "class TipoEstimulo(Enum):\n",
    "    sin_nombre = 'sin_nombre'\n",
    "    cuadrado = 'cuadrado'\n",
    "    manual = 'manual'\n",
    "    desde_archivo = 'desde_archivo'\n",
    "\n",
    "class Nervio:\n",
    "    \"\"\"Nervio. REESCRIBIR ESTO\n",
    "\n",
    "    Atributos:\n",
    "        diametro: es un entero que indica el diámetro del nervio\n",
    "        fibras: es una lista con los objetos fibras\n",
    "        cantidad_fibras: es un entero que indica la cantidad de fibras que se encuentran en el nervio\n",
    "        limites: es una lista que contiene los límites espaciales del nervio de la siguiente forma: [límite superior,límite inferior,límite derecho, límite izquierdo]\n",
    "        centro_de_coordenadas: ubicación del centro de coordenadas x e y (centro del nervio).\n",
    "    \"\"\"\n",
    "    def __init__(self,diametro = 250,longitud = 50000,conductividad_transversal = None,porcentaje_cobertura = None):\n",
    "        \"\"\"Método constructor de la clase Nervio.\n",
    "\n",
    "        Args:\n",
    "            diametro (int, optional): Diámetro del nervio. Por defecto 250 um.\n",
    "            longitud (int, optional): _description_. Por defecto 50000.\n",
    "            conductividad_transversal (float, optional): Conductividad transversal del nervio. Por defecto None.\n",
    "            porcentaje_cobertura (float, optional): Porcentaje del nervio al cual llega el electrodo. Por defecto None.\n",
    "\n",
    "        Raises:\n",
    "            InputError: Se levanta este error si no se ingresa un valor de conductividad_transversal o de pocentaje_cobertura, dado que uno de los dos es necesario para realizar cálculos posteriores.\n",
    "        \"\"\"\n",
    "        self.radio = diametro/2\n",
    "        self.fibras = []\n",
    "        self.cantidad_fibras = 0\n",
    "        self.limite_lateral_izquierdo = -self.radio\n",
    "        self.limite_lateral_derecho = self.radio\n",
    "        self.limite_superior = self.radio\n",
    "        self.limite_inferior = -self.radio\n",
    "        self.centro_nervio_x = 0\n",
    "        self.centro_nervio_y = 0 \n",
    "        self.informacion_nodos = []\n",
    "        self.longitud_nervio = longitud\n",
    "        self.conductividad_transversal = conductividad_transversal\n",
    "        self.porcentaje_cobertura = porcentaje_cobertura\n",
    "\n",
    "        if self.conductividad_transversal is None and self.porcentaje_cobertura is None:\n",
    "            raise InputError(\"Se debe ingresar ya sea un valor de conductividad transversal o un porcentaje de cobertura.\")\n",
    "    \n",
    "    def info_nervio(self):\n",
    "        return {\n",
    "            \"diametro\" : 2 * self.radio,\n",
    "            \"cantidad_fibras\" : self.cantidad_fibras,\n",
    "            \"longitud\" : self.longitud_nervio,\n",
    "            \"posicion_centro_nervio\" : [self.centro_nervio_x,self.centro_nervio_y],\n",
    "            \"conductividad_transversal\" : self.conductividad_transversal,\n",
    "            \"porcentaje_de_cobertura\" : self.porcentaje_cobertura\n",
    "        }\n",
    "        \n",
    "    def obtener_lista_fibras(self):\n",
    "        \"\"\"Método para obtener una lista con la información de las fibras dentro del nervio.\n",
    "\n",
    "        Returns:\n",
    "            numpy.ndarray: Devuelve un array cuyas dos primeras columnas son las coordenadas x e y de cada fibra, y la tercera columna contiene información del diámetro de las fibras.\n",
    "        \"\"\"\n",
    "        return np.array([fibra.obtener_info_fibra() for fibra in self.fibras])\n",
    " \n",
    "    def poblar(self,metodo_poblacion='uniforme_con_superposicion',num_fibras=200,semilla=None,diametro_fibra = 0, var_diametro = 0,alfa = 7.6,velocidad = None,**kwargs):\n",
    "        \"\"\"Método para poblar el nervio con las fibras nerviosas.\n",
    "\n",
    "        Args:\n",
    "            metodo_poblacion (str, optional): Tipo de método de población de fibras en el nervio. Por defecto es 'uniforme'.\n",
    "            num_fibras (int, optional): Número de fibras que contendrá el nervio. Por defecto son 200.\n",
    "            semilla (int, optional): Número de la semilla. Por defecto es None.\n",
    "            diametro_fibra (float, optional): Diámetro de la fibra en micrones. Por defecto es 0, si se trata de fibras puntuales.\n",
    "            var_diametro (int, optional): La variación del diámetro se hace con la función normal, por lo que este es el sigma. Por defecto es 0 (sin variación).\n",
    "            alfa (float, optional): Valor para calcular la velocidad de conducción de las fibras. Por defecto es 7.6.\n",
    "        \n",
    "        Keyword Args:\n",
    "            lista_fibras (numpy.ndarray): Array con la ubicación y diámetro de las fibras en el método de población manual.\n",
    "            ubicacion_archivo (str): String con la ubicación del archivo csv para el método de población desde_archivo.\n",
    "\n",
    "        Raises:\n",
    "            InputError: Si el método de población ingresado no se encuentra entre las opciones disponibles.\n",
    "        \"\"\"\n",
    "       \n",
    "        if metodo_poblacion == PoblacionNervio.uniforme_con_superposicion.name:\n",
    "            self.uniforme_con_superposicion(num_fibras=num_fibras,semilla=semilla,diametro_fibra=diametro_fibra,var_diametro = var_diametro,alfa = alfa,velocidad=velocidad)\n",
    "        elif metodo_poblacion == PoblacionNervio.uniforme_sin_superposicion.name:\n",
    "            self.uniforme_sin_suporsicion(num_fibras=num_fibras,semilla=semilla,diametro_fibra=diametro_fibra,var_diametro=var_diametro,alfa = alfa,velocidad=velocidad)\n",
    "        elif metodo_poblacion == PoblacionNervio.manual.name:\n",
    "            self.manual(lista_fibras = kwargs.get('lista_fibras',None))\n",
    "        elif metodo_poblacion == PoblacionNervio.desde_archivo.name:\n",
    "            self.desde_archivo(ubicacion_archivo = kwargs.get('ubicacion_archivo',None))\n",
    "        # elif metodo_poblacion == PoblacionNervio.manual.name:\n",
    "        #     self.manual(diametro_fibra=diametro_fibra,lista_fibras = kwargs.get('lista_fibras',None),alfa = alfa)\n",
    "        # elif metodo_poblacion == PoblacionNervio.desde_archivo.name:\n",
    "        #     self.desde_archivo(diametro_fibra=diametro_fibra, ubicacion_archivo = kwargs.get('ubicacion_archivo',None),alfa = alfa)\n",
    "        else:\n",
    "            raise InputError ('El método de población ingresado no es correcto.')\n",
    "        \n",
    "    def uniforme_con_superposicion(self,num_fibras,semilla,diametro_fibra,var_diametro,alfa,velocidad):\n",
    "        \"\"\"Función para poblar el nervio con distribución uniforme, con superposición de las fibras.\n",
    "\n",
    "        Args:\n",
    "            num_fibras (int, optional): Número de fibras que contendrá el nervio.\n",
    "            semilla (int, optional): Número de la semilla.\n",
    "            diametro_fibra (float, optional): Diámetro de la fibra en micrones.\n",
    "            var_diametro (int, optional): La variación del diámetro se hace con la función normal, por lo que este es el sigma.\n",
    "            alfa (float, optional): Valor para calcular la velocidad de conducción de las fibras.\n",
    "        \"\"\"\n",
    "        #Tiene centro en (0,0), implementar el traslado \n",
    "        np.random.seed(semilla)\n",
    "        longitud = np.random.uniform(0,self.radio**2, size = num_fibras)\n",
    "        angulo = np.pi * np.random.uniform(0,2,size = num_fibras)\n",
    "        diametros = np.random.normal(diametro_fibra,var_diametro,size = num_fibras)\n",
    "        x = np.sqrt(longitud) * np.cos(angulo)\n",
    "        y = np.sqrt(longitud) * np.sin(angulo)\n",
    "        matriz = np.column_stack((x,y,diametros))\n",
    "        #self.fibras = [Fibra(x,y,diam,velocidad) if velocidad is not None else Fibra(x,y,diam,alfa*diam) for x,y,diam in matriz]\n",
    "        self.fibras = [Fibra(x=x,y=y,diametro=diam,velocidad = alfa*diam) if velocidad is None else Fibra(x=x,y=y,diametro=diam,velocidad = velocidad) for x,y,diam in matriz]\n",
    "        self.cantidad_fibras = num_fibras\n",
    "\n",
    "    def uniforme_sin_suporsicion(self,num_fibras,semilla,diametro_fibra,var_diametro,alfa,velocidad):\n",
    "        \"\"\"Función para poblar el nervio con distribución uniforme, sin superposición de las fibras.\n",
    "\n",
    "        Args:\n",
    "            num_fibras (int, optional): Número de fibras que contendrá el nervio.\n",
    "            semilla (int, optional): Número de la semilla.\n",
    "            diametro_fibra (float, optional): Diámetro de la fibra en micrones.\n",
    "            var_diametro (int, optional): La variación del diámetro se hace con la función normal, por lo que este es el sigma.\n",
    "            alfa (float, optional): Valor para calcular la velocidad de conducción de las fibras.\n",
    "        \"\"\"\n",
    "        np.random.seed(semilla)\n",
    "        lista = []\n",
    "        while len(lista) < num_fibras:\n",
    "            choque = False\n",
    "            length = np.random.uniform(0,self.radio**2)\n",
    "            angle = np.pi * np.random.uniform(0, 2)\n",
    "            diam = np.random.normal(diametro_fibra,var_diametro)\n",
    "            x = np.sqrt(length) * np.cos(angle)\n",
    "            y = np.sqrt(length) * np.sin(angle)\n",
    "\n",
    "            for a,b,c in lista:\n",
    "                if distancia_entre_circulos(x,y,diam/2,a,b,c/2) < 0:\n",
    "                    choque = True\n",
    "            if choque is False and is_inside_circencirc(diam/2,x,y,self.radio,self.centro_nervio_x,self.centro_nervio_y):\n",
    "                lista.append([x,y,diam])\n",
    "        #self.fibras = [Fibra(x,y,diam,velocidad) if velocidad is not None else Fibra(x,y,diam,alfa*diam) for x,y,diam in lista]\n",
    "        self.fibras = [Fibra(x=x,y=y,diametro=diam,velocidad=alfa*diam) if velocidad is None else Fibra(x=x,y=y,diametro=diam,velocidad=velocidad) for x,y,diam in lista]\n",
    "        self.cantidad_fibras = num_fibras\n",
    "\n",
    "    def manual(self,lista_fibras,diametro_fibra,alfa): #! ver si hago que si o si entre \n",
    "        \"\"\"Función para poblar el nervio de forma manual, a partir de un array con la posición de las fibras, y sus diámetros.\n",
    "\n",
    "        Args:\n",
    "            lista_fibras (numpy.ndarray): Array con la posición y diámetros de las fibras, si lo tuviera.\n",
    "            diametro_fibra (float): Diámetro que se le dará a la fibra, si es que lista_fibras no tuviera una columna con esta información.\n",
    "            alfa (float, optional): Valor necesario para calcular la velocidad de conducción de las fibras.\n",
    "\n",
    "        Raises:\n",
    "            OutOfBounds: Error que se levanta si se encuentra que alguna de las fibras ingresadas supera los límites del nervio.\n",
    "        \"\"\"\n",
    "        try:  \n",
    "            f = [Fibra(x,y,d,alfa) for x,y,d in lista_fibras if is_inside_circencirc(d/2,x,y,self.radio,self.centro_nervio_x,self.centro_nervio_y)]\n",
    "        except ValueError:\n",
    "            f = [Fibra(x,y,diametro_fibra,alfa) for x,y in lista_fibras if is_inside_circencirc(diametro_fibra/2,x,y,self.radio,self.centro_nervio_x,self.centro_nervio_y)]\n",
    "        if len(f)!=len(lista_fibras):\n",
    "            raise OutOfBounds (\"Se encontró por lo menos una fibra fuera de los límites del nervio.\")        \n",
    "        self.fibras= f\n",
    "        self.cantidad_fibras = len(lista_fibras)\n",
    "        \n",
    "    def manual(self,lista_fibras): #! ver si hago que si o si entre NUEVO, VER SI LE CAMBIO EL NOMBRE A LISTA_FIBRAS POR INFO_FIBRAS\n",
    "        \"\"\"Función para poblar el nervio de forma manual, a partir de un array con la posición de las fibras, y sus diámetros.\n",
    "\n",
    "        Args:\n",
    "            lista_fibras (numpy.ndarray): Array con la posición y diámetros de las fibras, si lo tuviera.\n",
    "            diametro_fibra (float): Diámetro que se le dará a la fibra, si es que lista_fibras no tuviera una columna con esta información.\n",
    "            alfa (float, optional): Valor necesario para calcular la velocidad de conducción de las fibras.\n",
    "\n",
    "        Raises:\n",
    "            OutOfBounds: Error que se levanta si se encuentra que alguna de las fibras ingresadas supera los límites del nervio.\n",
    "        \"\"\"\n",
    "        try:  \n",
    "            f = [Fibra(x,y,d,v) for x,y,d,v in lista_fibras if is_inside_circencirc(d/2,x,y,self.radio,self.centro_nervio_x,self.centro_nervio_y)]\n",
    "        except ValueError:\n",
    "            raise ValueError ('Se necesitan los datos de ubicación de fibras en eje x e y, diámetros y velocidades para este método.')\n",
    "        \n",
    "        if len(f)!=len(lista_fibras):\n",
    "            raise OutOfBounds (\"Se encontró por lo menos una fibra fuera de los límites del nervio.\")\n",
    "                \n",
    "        self.fibras= f\n",
    "        self.cantidad_fibras = len(lista_fibras)\n",
    "    \n",
    "    def desde_archivo(self,ubicacion_archivo): #! nuevo\n",
    "        \"\"\"Función para poblar un nervio, a partir de un archivo csv.\n",
    "\n",
    "        Args:\n",
    "            diametro_fibra (float): Diámetro que se le dará a la fibra, si es que lista_fibras no tuviera una columna con esta información.\n",
    "            ubicacion_archivo (str): String con la ubicación del archivo csv.\n",
    "            alfa (float, optional): Valor necesario para calcular la velocidad de conducción de las fibras.\n",
    "\n",
    "        Raises:\n",
    "            LoadingError: Error que se levanta cuando no se puede cargar el archivo.\n",
    "            ValueError: Error que se levanta cuando se detecta que algún caracter ingresado en el archivo no es numérico.\n",
    "        \"\"\"\n",
    "        try:\n",
    "            fibras = np.genfromtxt(ubicacion_archivo, delimiter = ',')\n",
    "        except Exception as e:\n",
    "            raise LoadingError('Fallo en carga de archivo.') from e\n",
    "        \n",
    "        if not np.isnan(sum(fibras)).any() and np.issubdtype(fibras.dtype, np.number):\n",
    "            self.manual_final(lista_fibras = fibras)   \n",
    "        else:\n",
    "            raise ValueError (\"La lista contiene caracteres que no son números.\")\n",
    "\n",
    "    def ploteo_fibras_puntos(self,borde_nervio = 'blue', relleno_nervio = 'None', color_fibras = 'r'):\n",
    "        \"\"\"Método para graficar una vista transversal del nervio. Las fibras se muestran como puntos (sin diámetro real).\n",
    "\n",
    "        Args:\n",
    "            borde_nervio (str, optional): Color del borde del nervio. Por defecto es azul ('blue').\n",
    "            relleno_nervio (str, optional): Color del relleno del nervio. Por defecto no tiene color ('None').\n",
    "            color_fibras (str, optional): Color de las fibras, graficadas como puntos. Escribirlo según formato aceptable por Matplotlib. Por defecto es rojo ('r').\n",
    "        \"\"\"\n",
    "        \n",
    "        #Ploteo de las fibras\n",
    "        forma_fibras = color_fibras + \" .\"\n",
    "        matriz = self.obtener_lista_fibras()\n",
    "        plt.plot(matriz[:,0],matriz[:,1],forma_fibras,label = 'Fibras')\n",
    "\n",
    "        #Ploteo del nervio\n",
    "        plt.gca().add_patch(plt.Circle((0,0),self.radio, edgecolor = borde_nervio, facecolor = relleno_nervio,label = 'Nervio'))\n",
    "        \n",
    "        # plt.axis('equal')\n",
    "        # plt.show()\n",
    "    \n",
    "    def ploteo_fibras_circulos(self, borde_nervio = 'blue', relleno_nervio = 'None', borde_fibras = 'red', relleno_fibras = 'None'):\n",
    "        \"\"\"Método para graficar una vista transversal del nervio. Las fibras se muestran como círculos, con su respectivo diámetro.\n",
    "\n",
    "        Args:\n",
    "            borde_nervio (str, optional): Color del borde del nervio. Por defecto es azul ('blue').\n",
    "            relleno_nervio (str, optional): Color del relleno del nervio. Por defecto no tiene color ('None').\n",
    "            borde_fibras (str, optional): Color del borde de las fibras. Por defecto es rojo ('red').\n",
    "            relleno_fibras (str, optional): Color del relleno de las fibras. Por defecto no tiene color ('None').\n",
    "\n",
    "        Raises:\n",
    "            InputError: Cuando se encuentra por lo menos una fibra con diámetro igual a 0.\n",
    "        \"\"\"\n",
    "        matriz = self.obtener_lista_fibras()\n",
    "        if matriz[:,2].any() == 0:\n",
    "            raise InputError (\"Por lo menos una fibra tiene diámetro igual a 0.\")\n",
    "\n",
    "        #Ploteo de las fibras\n",
    "        for i in range(len(matriz)):\n",
    "            circle = plt.Circle((matriz[i,0],matriz[i,1]),matriz[i,2],edgecolor = borde_fibras,facecolor = relleno_fibras,label=\"Fibras\" if i == 0 else \"\")\n",
    "            plt.gca().add_patch(circle)\n",
    "\n",
    "        #Ploteo del nervio\n",
    "        plt.gca().add_patch(plt.Circle((0,0),self.radio, edgecolor = borde_nervio, facecolor = relleno_nervio, label = 'Nervio'))\n",
    "\n",
    "        # plt.axis('equal')\n",
    "        # plt.show()\n",
    "    \n",
    "    def detectar_colisiones (self): #!\n",
    "        #! ver que rayos hago con este método, porque no le estaría encontrando razón de ser\n",
    "        \"\"\"Función que detecta colisiones entre fibras, y de fibras con el límite del nervio.\n",
    "\n",
    "        Raises:\n",
    "            FiberCollision: Error que indica que se encontró por lo menos una colisión entre fibras.\n",
    "            OutOfBounds: Error que indica cuando se encuentra por lo menos una fibra colisionando con el límite del nervio.\n",
    "        \"\"\"\n",
    "    \n",
    "        matriz = self.obtener_lista_fibras()\n",
    "        \n",
    "        for j in range(len(matriz)):\n",
    "            x1, y1, r1 = matriz[j]\n",
    "            for i in range(j+1,len(matriz)):\n",
    "                x2, y2, r2  = matriz[i]\n",
    "                if distancia_entre_puntos(x1,y1,x2,y2) < r1+r2:\n",
    "                    raise FiberCollision (\"Las fibras están colisionando.\")\n",
    "            if not is_inside_circencirc(r1,x1,y1,self.radio,self.centro_nervio_x,self.centro_nervio_y):\n",
    "                raise OutOfBounds (\"Por lo menos una fibra se encuentra fuera de los límites del nervio.\")\n",
    "   \n",
    "    def agregar_nodos(self,distancia_nodos,variacion,desplazamiento,distribucion_variacion = 'uniforme'):\n",
    "        \"\"\"Método que permite agregar nodos a las fibras. \n",
    "\n",
    "        Args:\n",
    "            distancia_nodos (flaot): Distancia entre nodos en las fibras en micrómetros.\n",
    "            variacion (float): Variación de la distancia entre nodos en micrómetros.\n",
    "            desplazamiento (float): Desplazamiento de los nodos en micrómetros. \n",
    "            distribucion_variacion (str, optional): Distribución de la variación de la distancia entre nodos. Se espera un valor correspondiente a alguna de las opciones de VariacionNodos. Por defecto es 'uniforme'.\n",
    "        \"\"\"\n",
    "        self.informacion_nodos = [f.ubicar_nodos(distancia_nodos = distancia_nodos,variacion = variacion, desplazamiento=np.random.uniform(-desplazamiento,desplazamiento),distribucion_variacion=distribucion_variacion,longitud_fibra= self.longitud_nervio) for f in self.fibras]\n",
    "\n",
    "class Fibra: \n",
    "    \"\"\"Fibra.\n",
    "    \"\"\"\n",
    "    def __init__(self,x,y,diametro,velocidad):\n",
    "        \"\"\"Método constructor de la clase Fibra.\n",
    "\n",
    "        Args:\n",
    "            x (float): Posición x del centro de la fibra. En micrómetros.\n",
    "            y (float): Posición y del centro de la fibra. En micrómetros.\n",
    "            diametro (float): Diámetro de la fibra. En micrómetros.\n",
    "            alfa (float): Valor necesario para calcular la velocidad de conducción de la fibra. En [m/(s*micrómetros)]\n",
    "        \"\"\"\n",
    "        \n",
    "        self.x = x\n",
    "        self.y = y\n",
    "        self.radio = diametro/2\n",
    "        self.ubicacion_nodos = []\n",
    "        self.velocidad = velocidad\n",
    "\n",
    "    def info_fibra(self,numero,pesos,estimulo):\n",
    "        datos_fibras = {\n",
    "                        \"fibra\": numero,\n",
    "                        \"posicion_transversal_fibra\" : [self.x,self.y],\n",
    "                        \"diametro\" : 2*self.radio,\n",
    "                        \"velocidad\" : self.velocidad,\n",
    "                        \"nodos\": [{\"ubicacion\": ubicacion,\"peso\": pesos[i],\"estimulo\": estimulo[i].tolist()} for i,ubicacion in enumerate(self.ubicacion_nodos)]\n",
    "                        }\n",
    "        return datos_fibras   \n",
    "        \n",
    "    def obtener_info_fibra(self):\n",
    "        \"\"\"Método que permite obtener información sobre la fibra, en forma de lista.\n",
    "\n",
    "        Returns:\n",
    "            list: Información sobre la fibra (posición en eje x, posición en eje y, radio de la fibra).\n",
    "        \"\"\"\n",
    "        return [self.x,self.y,self.radio,self.velocidad]\n",
    "    \n",
    "    def ubicar_nodos(self,longitud_fibra,distancia_nodos,variacion,desplazamiento, distribucion_variacion):\n",
    "        \"\"\"Método para agregar nodos a una fibra.\n",
    "        Args:\n",
    "            longitud_fibra (float): Longitud de la fibra en micrómetros.\n",
    "            distancia_nodos (flaot): Distancia entre nodos en las fibras en micrómetros.\n",
    "            variacion (float): Variación de la distancia entre nodos en micrómetros.\n",
    "            desplazamiento (float): Desplazamiento de los nodos en micrómetros. \n",
    "            distribucion_variacion (str, optional): Distribución de la variación de la distancia entre nodos. Se espera un valor correspondiente a alguna de las opciones de VariacionNodos. Por defecto es 'uniforme'.\n",
    "\n",
    "        Returns:\n",
    "            list: Devuelve la ubicación de los nodos de la fibra.\n",
    "        \"\"\"\n",
    "        arr = np.arange(-longitud_fibra/2,longitud_fibra*1.5 +1,distancia_nodos)\n",
    "        if distribucion_variacion == VariacionNodos.uniforme.name:\n",
    "            var = np.random.uniform(-variacion/2,variacion/2,len(arr)) + desplazamiento\n",
    "        elif distribucion_variacion == VariacionNodos.normal.name:\n",
    "            var = np.random.normal(0,variacion,len(arr)) + desplazamiento\n",
    "        \n",
    "        ubicacion = arr + var\n",
    "        ubicacion = ubicacion[(ubicacion > 0) & (ubicacion < longitud_fibra)]\n",
    "        self.ubicacion_nodos = ubicacion\n",
    "        return ubicacion\n",
    "\n",
    "class Electrodo:    \n",
    "    \"\"\"Electrodo.\n",
    "    \"\"\"\n",
    "    def __init__(self,tipo,zona_influencia,grosor = 0,**kwargs):\n",
    "        \"\"\"Método constructor de la clase Electrodo.\n",
    "\n",
    "        Args:\n",
    "            tipo (str): Tipo de electrodo. Puede ser los enumerados en el Enum TipoElectrodo.\n",
    "            zona_influencia (float): Es la zona a cualquiera de los lados a la cual tiene alcance el electrodo.\n",
    "            grosor (int, optional): Grosor del electrodo. Por defecto es 0.\n",
    "        \n",
    "        Keyword Args:\n",
    "            pos_x (float): Posición del electrodo en el eje x. En micrómetros.\n",
    "            pos_y (float): Posición del electrodo en el eje y. En micrómetros.\n",
    "            pos_z (float): Posición del electrodo en el eje z. En micrómetros.\n",
    "            radio (float): Radio del electrodo tipo Circulo. En micrómetros.\n",
    "            lista_coordenadas (list): Coordenadas del electrodo tipo Poligono.\n",
    "\n",
    "        Raises:\n",
    "            InputError: Si el tipo de electrodo ingresado no es correcto.\n",
    "            Exception: Si no se ingresan los parámetros necesarios para cada tipo de electrodo.\n",
    "        \"\"\"\n",
    "\n",
    "        try:\n",
    "            self.tipo = tipo\n",
    "        except ValueError as e:\n",
    "            raise InputError('El tipo de electrodo ingresado no es correcto.') from e\n",
    "        \n",
    "        self.dist_al_electrodo = []\n",
    "        self.wmax = [] \n",
    "        self.wlong = []\n",
    "        self.pesos = []\n",
    "        self.grosor = grosor\n",
    "        self.zona_influencia = zona_influencia #es la zona a izquierda o derecha que abarca el electrodo, no la zona completa\n",
    "        self.sfap = None\n",
    "        self.cap = None\n",
    "        self.array_estimulos = None\n",
    "        \n",
    "        if self.tipo == TipoElectrodo.punto.name:\n",
    "            self.x = kwargs.get('pos_x')\n",
    "            self.y = kwargs.get('pos_y')\n",
    "            self.z = kwargs.get('pos_z')\n",
    "            self.shape = Point(self.x,self.y)\n",
    "            if self.x is None or self.y is None or self.z is None:\n",
    "                raise Exception('Los parámetros pos_x, pos_y, pos_z son necesarios para electrodo tipo Punto.')\n",
    "        elif self.tipo == TipoElectrodo.circulo.name:\n",
    "            self.x = kwargs.get('pos_x')\n",
    "            self.y = kwargs.get('pos_y')\n",
    "            self.z = kwargs.get('pos_z')\n",
    "            self.radio = kwargs.get('radio')\n",
    "            self.shape = Point(self.x,self.y).buffer(self.radio)\n",
    "            if self.x is None or self.y is None or self.radio is None or self.z is None:\n",
    "                raise Exception('Los parámetros pos_x, pos_y, pos_z, radio son necesarios para el electrodo tipo Círculo.')\n",
    "        elif self.tipo == TipoElectrodo.poligono.name:\n",
    "            self.z = kwargs.get('pos_z')\n",
    "            self.coordenadas = kwargs.get('lista_coordenadas')\n",
    "            self.shape = Polygon(self.coordenadas)\n",
    "            if self.z is None or self.coordenadas is None:\n",
    "                raise Exception(\"Los parámetros pos_z y lista_coordenadas son necesarios para el electrodo tipo Polígono.\")\n",
    "\n",
    "    def info_electrodo(self,idx):\n",
    "        return {\n",
    "            \"electrodo_numero\" : idx,\n",
    "            \"tipo\": self.tipo,\n",
    "            \"posicion_transversal_electrodo\": [self.x,self.y],\n",
    "            \"posicion_longitudinal_electrodo\": self.z,\n",
    "            \"espesor\": self.grosor,\n",
    "            \"zona_de_influencia\": self.zona_influencia,\n",
    "        }\n",
    "        \n",
    "    def ploteo_electrodo(self,idx):\n",
    "        \"\"\"_summary_\n",
    "\n",
    "        Args:\n",
    "            idx (int): Ubicación del electrodo en la lista de electrodos de la clase Entorno.\n",
    "        \"\"\"\n",
    "        if self.tipo == TipoElectrodo.punto:\n",
    "            x,y = self.shape.x,self.shape.y\n",
    "            plt.plot(x,y,'.',label = f\"Electrodo {idx}\")\n",
    "        elif self.tipo == TipoElectrodo.circulo or self.tipo == TipoElectrodo.poligono:\n",
    "            x,y = self.shape.exterior.xy\n",
    "            plt.plot(x,y,label = f\"Electrodo {idx}\")\n",
    "\n",
    "    def calcular_distancias(self,lista_fibras): \n",
    "        \"\"\"Método para calcular distancias desde el electrodo a las fibras.\n",
    "\n",
    "        Args:\n",
    "            lista_fibras (list): Liista de objetos Fibra.\n",
    "        \"\"\"\n",
    "        self.dist_al_electrodo = np.array([self.shape.distance(Point(f.x,f.y)) if f.radio == 0 else self.shape.distance(Point(f.x,f.y).buffer(f.radio)) for f in lista_fibras]) \n",
    "\n",
    "    def calcular_wmax(self,nervio):\n",
    "        \"\"\"Método para calcular los Wmax para cada fibra del nervio.\n",
    "\n",
    "        Args:\n",
    "            nervio (Nervio): El nervio que contiene las fibras con las cuales se calculará el Wmax.\n",
    "        \"\"\"\n",
    "               \n",
    "        if nervio.conductividad_transversal != None:\n",
    "            cond_transversal = nervio.conductividad_transversal\n",
    "        else:\n",
    "            cond_transversal = nervio.porcentaje_cobertura/100 * max(self.dist_al_electrodo)\n",
    "\n",
    "        self.wmax = np.array([1-(x/cond_transversal) if (x>=0 and x<cond_transversal) else 0 for x in self.dist_al_electrodo])\n",
    "    \n",
    "    def calcular_wlong(self,funcion,matriz_nodos): \n",
    "        \"\"\"Método para calcular los Wlong por cada nodo de cada fibra.\n",
    "\n",
    "        Args:\n",
    "            funcion (Callable): Función con la cual se calcularán los Wlong\n",
    "            matriz_nodos (list): Lista con la información de la ubicación de nodos de cada fibra.\n",
    "        \"\"\"\n",
    "        a = self.grosor/2\n",
    "        d = self.zona_influencia\n",
    "        wlong = np.array([np.array([funcion(x=x, z=self.z, a=a, d=d) for x in lista]) for lista in matriz_nodos])\n",
    "        self.wlong = wlong\n",
    "    \n",
    "    def calcular_pesos(self,nervio,funcion,matriz_nodos):\n",
    "        \"\"\"Método que calcula los pesos en cada nodo para cada fibra del nervio.\n",
    "\n",
    "        Args:\n",
    "            nervio (Nervio): Objeto de la clase Nervio. Nervio que contiene las fibras.\n",
    "            funcion (Callable): Función con la cual se calcularán los Wlong.\n",
    "            matriz_nodos (list): Lista con la ubicación de los nodos de cada fibra.\n",
    "        \"\"\"\n",
    "        self.calcular_wmax(nervio)\n",
    "        self.calcular_wlong(funcion,matriz_nodos)\n",
    "        self.pesos = np.array([np.array([wmax * wlong for wlong in lista_wlong]) for wmax, lista_wlong in zip(self.wmax, self.wlong)])\n",
    "    \n",
    "    # def sfap_funcion(self,frec_muestreo,velocidad_fibras,tiempo_registro,estimulo,ubicacion_nodos,num_fibras):\n",
    "    #     for i,fibra in enumerate(ubicacion_nodos):\n",
    "    #         estimulo_por_nodo = array_to_multiarray(array = fibra,estimulo=estimulo[i],fm=frec_muestreo,tiempo_registro = tiempo_registro,velocidad=velocidad_fibras[i],peso = self.pesos[i])\n",
    "    #         sfap = suma_multiarray(estimulo_por_nodo)\n",
    "    #         if i == 0:\n",
    "    #             sfap_matriz = [sfap]\n",
    "    #             array_estimulos = [list(estimulo_por_nodo)]\n",
    "    #         else:\n",
    "    #             sfap_matriz = np.vstack((sfap_matriz,sfap))\n",
    "    #             array_estimulos = np.vstack((array_estimulos,list(estimulo_por_nodo)))\n",
    "        \n",
    "    #     self.array_estimulos = array_estimulos\n",
    "    #     self.sfap = sfap_matriz/num_fibras\n",
    "    \n",
    "    def sfap_funcion(self,frec_muestreo,velocidad_fibras,tiempo_registro,estimulo,ubicacion_nodos,num_fibras):\n",
    "        estimulo_por_nodo = [array_to_multiarray(array = fibra,estimulo=estimulo[i],fm=frec_muestreo,tiempo_registro = tiempo_registro,velocidad=velocidad_fibras[i],peso = self.pesos[i]) for i,fibra in enumerate(ubicacion_nodos)]\n",
    "        for i in range(len(estimulo_por_nodo)):\n",
    "            sfap = suma_multiarray(estimulo_por_nodo[i])\n",
    "            if i == 0:\n",
    "                sfap_matriz = [sfap]\n",
    "            else:\n",
    "                sfap_matriz = np.vstack((sfap_matriz,sfap))\n",
    "\n",
    "        self.array_estimulos = estimulo_por_nodo\n",
    "        self.sfap = sfap_matriz/num_fibras\n",
    "        \n",
    "    def cap_funcion(self):\n",
    "        self.cap = np.sum(self.sfap,axis = 0)\n",
    "    \n",
    "class Estimulador:\n",
    "    \"\"\"Encargado de generar el impulso de entrada al Nervio.\n",
    "    \"\"\"\n",
    "    def __init__(self,frec_muestreo, tiempo_estimulo, num_fibras):\n",
    "        \"\"\"Método constructor de la clase Estimulador.\n",
    "\n",
    "        Args:\n",
    "            frec_muestreo (float): Frecuencia de muestreo.\n",
    "            tiempo_estimulo (float): Tiempo total que durará el registro.\n",
    "            num_fibras (int): Número de fibras del nervio.\n",
    "        \"\"\"\n",
    "        self.cant_muestras = int(frec_muestreo*tiempo_estimulo) #!para que sea entero\n",
    "        self.frec = frec_muestreo\n",
    "        self.tiempo_estimulo = tiempo_estimulo\n",
    "        self.num_fibras = num_fibras\n",
    "        self.estimulo = None\n",
    "        self.vector_tiempo = np.arange(1/self.frec,self.tiempo_estimulo+1/self.frec,1/self.frec)\n",
    "        self.tipo_estimulo = None\n",
    "    \n",
    "    def crear_estimulo(self,tipo_estimulo,tiempo_inicio,**kwargs):\n",
    "        \"\"\"Método para crear el estímulo que se usará con las fibras del nervio.\n",
    "\n",
    "        Args:\n",
    "            tipo_estimulo (str): Tipo de estímulo que se creará. Se detallan en el enum TipoEstimulo. En segundos.\n",
    "            tiempo_inicio (float, optional): Momento en el que inicia el estímulo. Por defecto es 0. En segundos.\n",
    "        \n",
    "        Keyword Args:\n",
    "            duracion(float): Tiempo en segundos que durará la señal cuadrada.\n",
    "            lista_tiempo_inicio(list): Lista con los tiempos en los cuales se quiere tener una spike.\n",
    "            frec_corte(float): Frecuencia de corte del filtro Butterworth.\n",
    "            orden_filtro(int): Orden del filtro pasa bajos.\n",
    "            ubicacion_archivo(str): Ubicación del archivo csv con la señal de estimulación.\n",
    "            estimulo(numpy.ndarray): Numpy array con la señal de estimulación.\n",
    "\n",
    "        Raises:\n",
    "            InputError: Se levanta cuando se ingresa un tipo de estímulo no válido.\n",
    "        \"\"\"\n",
    "        self.tipo_estimulo = tipo_estimulo\n",
    "        if tipo_estimulo == TipoEstimulo.cuadrado.name:\n",
    "            self.estimulo_cuadrado(tiempo_inicio=tiempo_inicio,duracion = kwargs.get('duracion',0.0))\n",
    "        elif tipo_estimulo == TipoEstimulo.sin_nombre.name:\n",
    "            self.sinnombre(tiempo_inicio=tiempo_inicio,frec_corte=kwargs.get('frec_corte',2000),orden_filtro=kwargs.get('orden_filtro',2))\n",
    "        elif tipo_estimulo == TipoEstimulo.manual.name:\n",
    "            self.estimulo_manual(estimulo= kwargs.get('estimulo',None),tiempo_inicio=tiempo_inicio,tiempo_estimulo=kwargs.get('tiempo_estimulo',None))\n",
    "        elif tipo_estimulo == TipoEstimulo.desde_archivo.name:\n",
    "            self.estimulo_desde_archivo(tiempo_inicio=tiempo_inicio,tiempo_estimulo = kwargs.get('tiempo_estimulo',None),ubicacion_archivo = kwargs.get('ubicacion_archivo',None))\n",
    "        else:\n",
    "            raise InputError (\"El tipo de impulso ingresado no es correcto.\")\n",
    "    \n",
    "    def estimulo_cuadrado(self,tiempo_inicio,duracion):\n",
    "        \"\"\"Método para crear un estímulo cuadrado o spike.\n",
    "\n",
    "        Args:\n",
    "            tiempo_inicio (float): Tiempo en el que se desea iniciar el estímulo.\n",
    "            duracion (float): Tiempo que durará el estímulo. Si es cero, se tendrá una spike.\n",
    "        \"\"\"\n",
    "        inicio = int(tiempo_inicio*self.frec) \n",
    "        duracion = duracion * self.frec\n",
    "        self.estimulo = np.array([np.array([1 if (j >= inicio and j<= (inicio+duracion)) else 0 for j in range(self.cant_muestras)]) for i in range(self.num_fibras)])\n",
    "        \n",
    "    def sinnombre(self,tiempo_inicio,frec_corte,orden_filtro):\n",
    "        \"\"\"Método para crear un estímulo VER QUE RAYOS PONGO AQUI.\n",
    "\n",
    "        Args:\n",
    "            tiempo_inicio (float): Tiempo en el que se desea iniciar el estímulo.\n",
    "            lista_tiempo_inicio (list): Lista con los momentos en donde se desea tener la señal.\n",
    "            frec_corte (float): Frecuencia de corte del filtro pasabajos Butterworth.\n",
    "            orden_filtro (int): Orden del filtro Butterworth.\n",
    "        \"\"\"\n",
    "              \n",
    "        inicio = int(tiempo_inicio*self.frec)\n",
    "\n",
    "        #Señal de entrada\n",
    "        x = np.zeros_like(self.vector_tiempo)\n",
    "        x[inicio] = 1\n",
    "\n",
    "        #Filtro Butter\n",
    "        b,a = signal.butter(orden_filtro,frec_corte/(self.frec/2))\n",
    "        Vm = signal.lfilter(b,a,x)\n",
    "        Vm = Vm/np.max(Vm) #Vm normalizado\n",
    "\n",
    "        self.estimulo = np.repeat([Vm],self.num_fibras,axis = 0)\n",
    "\n",
    "    def estimulo_manual (self,estimulo,tiempo_inicio):\n",
    "        \"\"\"Método para crear un estímulo de forma manual, a partir de un array con la señal.\n",
    "\n",
    "        Args:\n",
    "            estimulo (numpy.ndarray): Señal con la cual se estimularán las fibras del nervio.\n",
    "            tiempo_inicio (float): Tiempo en el que inicia el estímulo.\n",
    "        \"\"\"\n",
    "        if len(estimulo) != self.num_fibras:\n",
    "            raise Exception (\"EL array con la señal del estímulo debe tener tantas filas como fibras haya en el nervio.\")\n",
    "        \n",
    "        estim = np.zeros((len(estimulo),self.cant_muestras))\n",
    "        inicio = int(tiempo_inicio * self.frec)\n",
    "        flag = False\n",
    "        \n",
    "        if not np.isnan(sum(estimulo)).any() and np.issubdtype(estimulo.dtype, np.number):\n",
    "            for i in range(len(estimulo)):\n",
    "                muestras_estimulo = len(estimulo[i])\n",
    "                if muestras_estimulo>self.cant_muestras-inicio:\n",
    "                    muestras_estimulo = self.cant_muestras-inicio\n",
    "                    flag = True\n",
    "                estim[i][inicio:inicio+muestras_estimulo] = estimulo[i][:muestras_estimulo]\n",
    "        if flag is True:\n",
    "            print(\"Se recortó por lo menos una señal de estímulo debido a su tamaño.\")\n",
    "\n",
    "        estim_normalizado = estim/np.amax(estim,axis = 1, keepdims = True)\n",
    "        self.estimulo = estim_normalizado\n",
    "    \n",
    "    def estimulo_desde_archivo (self,ubicacion_archivo,tiempo_inicio):\n",
    "        \"\"\"Método para cargar un estímulo desde un archivo csv.\n",
    "\n",
    "        Args:\n",
    "            ubicacion_archivo (str): Ubicación del archivo csv.\n",
    "            tiempo_inicio (float): Tiempo en el que se iniciará el estímulo.\n",
    "\n",
    "        Raises:\n",
    "            LoadingError: Error que se levanta cuando no se puede leer el archivo.\n",
    "        \"\"\"\n",
    "        try:\n",
    "            estimulo = np.genfromtxt(ubicacion_archivo, delimiter = ',')\n",
    "        except Exception as e:\n",
    "            raise LoadingError('Fallo en la carga del archivo.') from e\n",
    "        \n",
    "        self.estimulo_manual(estimulo= estimulo,tiempo_inicio=tiempo_inicio)\n",
    "\n",
    "class Entorno:\n",
    "    \"\"\"Entorno.\n",
    "    \"\"\"\n",
    "    def __init__(self,nombre = None):\n",
    "        \"\"\"Método constructor de la clase Entorno.\n",
    "        \"\"\"\n",
    "        self.nombre_experimento = nombre\n",
    "        self.nervio = None \n",
    "        self.electrodos = []\n",
    "        self.estimulador = None\n",
    "        self.estimulo = None\n",
    "        self.tiempo_registro = None\n",
    "        self.frec_muestreo = None\n",
    "    \n",
    "    def crear_nervio(self,diametro = 250,longitud = 50000,metodo_poblacion='uniforme_con_superposicion',num_fibras=200,semilla=None,diametro_fibra = 0,var_diametro = 0,distancia_nodos = 100,variacion = 0, desplazamiento = 0, distribucion_variacion = 'uniforme',conductividad_transversal = None, porcentaje_cobertura=None,alfa = 7.6,velocidad = None,**kwargs): \n",
    "        #! revisar valores por defecto\n",
    "        \"\"\"Método para crear un nervio, poblarlo con fibras y agregar nodos a esas fibras.\n",
    "\n",
    "        Args:\n",
    "            diametro (float, optional): Diámetro del Nervio. Por defecto es 250.\n",
    "            longitud (float, optional): Longitud del nervio y por ende, de las fibras. Por defecto es 50000.\n",
    "            metodo_poblacion (str, optional): Método con el cual se quiere poblar el nervio. Pueden ser los del enum PoblacionNervio. Por defecto es 'uniforme'.\n",
    "            num_fibras (int, optional): Número de fibras con la que se quiere poblar el nervio. Por defecto es 200.\n",
    "            semilla (int, optional): Número de la semilla para replicar la distribución. Por defecto es None.\n",
    "            diametro_fibra (float, optional): Diámetro de las fibras. Por defecto es 0.\n",
    "            var_diametro (float,optional): Variación del diámetro de las fibras con la distribución normal (Sigma). Por defecto es 0.\n",
    "            distancia_nodos (float, optional): Distancia promedio entre nodos en las fibras. Por defecto es 100.\n",
    "            variacion (float, optional): Variación de la distancia entre nodos. Por defecto es 0.\n",
    "            desplazamiento (float, optional): Desplazamiento de todos los nodos en las fibras. Por defecto es 0.\n",
    "            distribucion_variacion (str, optional): Forma de distribución de la variación de los nodos. Puede ser 'uniforme' o 'normal'. Por defecto es 'uniforme'.\n",
    "            conductividad_transversal (float, optional): Conductividad transversal del nervio. Por defecto es None.\n",
    "            porcentaje_cobertura (float, optional): Porcentaje de alcance del electrodo en el nervio. Por defecto es None.\n",
    "            alfa (float, optional): Valor necesario para el cálculo de la velocidad de conducción de las fibras. Por defecto es 7.6.\n",
    "\n",
    "        Keyword Args:\n",
    "\n",
    "        \"\"\"\n",
    "        self.nervio = Nervio(conductividad_transversal = conductividad_transversal,porcentaje_cobertura=porcentaje_cobertura,diametro=diametro,longitud=longitud)\n",
    "        self.nervio.poblar(metodo_poblacion=metodo_poblacion,num_fibras=num_fibras,semilla=semilla,diametro_fibra=diametro_fibra,var_diametro = var_diametro,alfa = alfa,**kwargs)\n",
    "        self.nervio.agregar_nodos(distancia_nodos=distancia_nodos,variacion = variacion, desplazamiento=desplazamiento,distribucion_variacion=distribucion_variacion)\n",
    "        #self.nervio.setear_velocidad_conduccion(velocidad=velocidad)\n",
    "\n",
    "    def crear_electrodo(self,tipo,zona_influencia,grosor,funcion = funcion_trapecio,**kwargs): \n",
    "        \"\"\"Método para crear un electrodo en el entorno de medición.\n",
    "\n",
    "        Args:\n",
    "            tipo (str): Tipo de electrodo. Puede ser los enumerados en el Enum TipoElectrodo.\n",
    "            zona_influencia (float): Es la zona a cualquiera de los lados a la cual tiene alcance el electrodo.\n",
    "            grosor (int, optional): Grosor del electrodo.\n",
    "            funcion (Callable, optional): Función con la cual se calcularán los pesos para cada nodo. Por defecto se usa la funcion_trapecio.\n",
    "        \n",
    "        Keyword Args:\n",
    "            pos_x (float): Posición del electrodo en el eje x. En micrómetros.\n",
    "            pos_y (float): Posición del electrodo en el eje y. En micrómetros.\n",
    "            pos_z (float): Posición del electrodo en el eje z. En micrómetros.\n",
    "            radio (float): Radio del electrodo tipo Circulo. En micrómetros.\n",
    "            lista_coordenadas (list): Coordenadas del electrodo tipo Poligono.\n",
    "\n",
    "        Raises:\n",
    "            Exception: Se levanta el error cuando se quiere crear un Electrodo antes de crear un Nervio.\n",
    "        \"\"\"\n",
    "        if self.nervio is None:\n",
    "            raise Exception(\"Se debe crear un nervio antes de crear un electrodo.\")\n",
    "        nuevo_electrodo = Electrodo(tipo=tipo,zona_influencia= zona_influencia,grosor = grosor,**kwargs)\n",
    "        nuevo_electrodo.calcular_distancias(lista_fibras=self.nervio.fibras)\n",
    "        nuevo_electrodo.calcular_pesos(nervio=self.nervio,matriz_nodos = self.nervio.informacion_nodos,funcion = funcion)\n",
    "        self.electrodos.append(nuevo_electrodo)\n",
    "\n",
    "    def crear_estimulo(self,tipo_estimulo,frec_muestreo,tiempo_estimulo,tiempo_inicio,**kwargs):\n",
    "        \"\"\"Método que permite crear el estímulo que se aplicará en el nervio.\n",
    "\n",
    "        Args:\n",
    "            tipo_estimulo (str): Tipo de estímulo que se creará. Se detallan en el enum TipoEstimulo. En segundos.\n",
    "            frec_muestreo (float): Frecuencia de muestreo de la señal. En Hz.\n",
    "            tiempo_estimulo (float): Tiempo total en el que se realizará la medición. En segundos.\n",
    "            tiempo_inicio (float, optional): Momento en el que inicia el estímulo. En segundos.\n",
    "        \n",
    "        Keyword Args:\n",
    "            duracion(float): Tiempo en segundos que durará la señal cuadrada. En segundos.\n",
    "            frec_corte(float): Frecuencia de corte del filtro Butterworth. En Hz.\n",
    "            orden_filtro(int): Orden del filtro pasa bajos.\n",
    "            ubicacion_archivo(str): Ubicación del archivo csv con la señal de estimulación.\n",
    "            estimulo(numpy.ndarray): Numpy array con la señal de estimulación.\n",
    "        \"\"\"\n",
    "        self.estimulador = Estimulador(frec_muestreo=frec_muestreo,tiempo_estimulo=tiempo_estimulo,num_fibras=self.nervio.cantidad_fibras)\n",
    "        self.estimulador.crear_estimulo(tipo_estimulo=tipo_estimulo,tiempo_inicio = tiempo_inicio,**kwargs)\n",
    "        self.estimulo = self.estimulador.estimulo\n",
    "        self.frec_muestreo = frec_muestreo\n",
    "        self.tiempo_registro = tiempo_estimulo * 3\n",
    "    \n",
    "    def sfap(self):\n",
    "        for electrodo in self.electrodos:\n",
    "            electrodo.sfap_funcion(frec_muestreo = self.frec_muestreo,velocidad_fibras = self.nervio.obtener_lista_fibras()[:,3],tiempo_registro = self.tiempo_registro,estimulo = self.estimulo,ubicacion_nodos = self.nervio.informacion_nodos,num_fibras = self.nervio.cantidad_fibras)\n",
    "    \n",
    "    def cap(self):\n",
    "        for electrodo in self.electrodos:\n",
    "            electrodo.cap_funcion()\n",
    "    \n",
    "    def cap_diferencial(self,posicion_1,posicion_2):\n",
    "        return self.electrodos[posicion_1].cap - self.electrodos[posicion_2].cap\n",
    "    \n",
    "    def informacion_json(self):\n",
    "        data = {}\n",
    "        for idx,electrodo in enumerate(self.electrodos):\n",
    "            data[idx] = {\n",
    "            \"Electrodo\": electrodo.info_electrodo(idx = idx),\n",
    "            \"Nervio\": self.nervio.info_nervio(),\n",
    "            \"Fibras\": [fibra.info_fibra(numero = x,pesos = electrodo.pesos[x],estimulo = electrodo.array_estimulos[x]) for x,fibra in enumerate(self.nervio.fibras)]\n",
    "        }\n",
    "        with open('data.json','w') as file:\n",
    "            json.dump(data,file,indent=4)\n",
    "    \n",
    "    def informe_experimento(self):\n",
    "        # print(f\"Nombre del experimento: {self.nombre_experimento} \\nDatos del nervio: \\n *Diametro : {2*self.nervio.radio} \\n *Número de fibras: {self.nervio.cantidad_fibras} \\n \\\n",
    "        # Posicion del centro del nervio: [{self.nervio.centro_nervio_x},{self.nervio.centro_nervio_y}] \\nSe cuenta con {len(self.electrodos)} electrodos.\\nEl estímulo es de tipo {self.estimulador.tipo_estimulo} \")\n",
    "        ubicaciones_electrodos = [[e.x,e.y,e.z] for e in self.electrodos]\n",
    "        txt = f'''\n",
    "Nombre del experimento: {self.nombre_experimento}\n",
    "Datos del nervio:\n",
    "        *Diametro : {2*self.nervio.radio} micrómetros\n",
    "        *Longitud : {self.nervio.longitud_nervio} micrómetros\n",
    "Electrodos:\n",
    "        *Cantidad de electrodos: {len(self.electrodos)}\n",
    "        *Ubicacion de electrodos: {ubicaciones_electrodos}\n",
    "Estimulador:\n",
    "        *Tipo de estimulo: {self.estimulador.tipo_estimulo}\n",
    "        *Frecuencia de muestreo: {self.frec_muestreo} Hz\n",
    "        *Tiempo de estimulo: {self.estimulador.tiempo_estimulo} segundos\n",
    "        *Tiempo de registro : {self.tiempo_registro} segundos\n",
    "        '''\n",
    "        print(txt)\n",
    "    def graficar_estimulos(self):\n",
    "        \"\"\"Método para graficar los estímulos que entrarán al nervio.\n",
    "        \"\"\"\n",
    "        for i in range(len(self.estimulador.estimulo)):\n",
    "            plt.plot(self.estimulador.vector_tiempo,self.estimulador.estimulo[i])\n",
    "        plt.show()\n",
    "\n",
    "    def quitar_electrodo(self,posicion):\n",
    "        \"\"\"Método para quitar un electrodo.\n",
    "\n",
    "        Args:\n",
    "            posicion (int): Posición del electrodo que se quiere quitar.\n",
    "        \"\"\"\n",
    "        del self.electrodos[posicion]\n",
    "    \n",
    "    def dibujar_entorno(self,forma_ploteo = 'fibras_sin_diametro',titulo = 'Entorno',xlabel = 'x (μm)',ylabel = 'y (μm)',borde_nervio = 'blue',relleno_nervio = 'None',**kwargs):\n",
    "        \"\"\"Método para dibujar el entorno de trabajo.\n",
    "        Args:\n",
    "            forma_ploteo (str, optional): Se puede dibujar las fibras con diámetro o como fibras puntuales. Por defecto es 'fibras_sin_diametro'.\n",
    "            titulo (str, optional): Título de la imagen.Por defecto es 'Entorno'.\n",
    "            xlabel (str, optional): Etiqueta en eje x. Por defecto es 'x (μm)'.\n",
    "            ylabel (str, optional): Etiqueta en eje y. Por defecto es 'y (μm)'.\n",
    "            borde_nervio (str, optional): Color del borde del nervio. Por defecto es 'blue'.\n",
    "            relleno_nervio (str, optional): Color del relleno del nervio. Por defecto es 'None'.\n",
    "\n",
    "        Raises:\n",
    "            InputError: Error al introducir una forma de ploteo incorrecta.\n",
    "        \"\"\"\n",
    "        if forma_ploteo == FormaDePloteo.fibras_con_diametro.name:\n",
    "            self.nervio.ploteo_fibras_circulos(borde_nervio=borde_nervio,relleno_nervio=relleno_nervio,borde_fibras=kwargs.get('borde_fibras','red'),relleno_fibras=kwargs.get('relleno_fibras','None'))\n",
    "        elif forma_ploteo == FormaDePloteo.fibras_sin_diametro.name:\n",
    "            self.nervio.ploteo_fibras_puntos(borde_nervio=borde_nervio,relleno_nervio=relleno_nervio,color_fibras=kwargs.get('color_fibras','r'))\n",
    "        else:\n",
    "            raise InputError('Ingrese una forma de ploteo correcta. Puede ser \\'fibras_con_diametro\\' o \\'fibras_sin_diametro\\' ')\n",
    "\n",
    "        for electrodo in self.electrodos:\n",
    "            idx = self.electrodos.index(electrodo)\n",
    "            electrodo.ploteo_electrodo(idx)\n",
    "        plt.xlabel(xlabel)\n",
    "        plt.ylabel(ylabel)\n",
    "        plt.title(titulo)\n",
    "        plt.legend(fontsize = 'xx-small')\n",
    "        plt.axis('equal')\n",
    "        plt.show()\n",
    "        \n",
    "    def imprimir_distancias(self): #TODO despues, hacer tareas de visualizacion sin graficar \n",
    "        lista = [electrodo.dist_al_electrodo for electrodo in self.electrodos]\n",
    "        return np.array(lista)\n",
    "                \n"
   ]
  },
  {
   "attachments": {},
   "cell_type": "markdown",
   "metadata": {},
   "source": [
    "### <stan style = \"color : cyan \">Prueba estimulador  </stan>"
   ]
  },
  {
   "attachments": {},
   "cell_type": "markdown",
   "metadata": {},
   "source": [
    "#### <stan style = \"color : orange \">Creación del estímulo cuadrado  </stan>"
   ]
  },
  {
   "cell_type": "code",
   "execution_count": null,
   "metadata": {},
   "outputs": [],
   "source": [
    "a = Estimulador(frec_muestreo=2000,tiempo_estimulo=10,num_fibras=5)\n",
    "a.crear_estimulo(tiempo_inicio=5,tipo_estimulo='cuadrado',duracion=1000)\n",
    "lista = a.estimulo\n",
    "np.savetxt(\"array.csv\", lista, delimiter=\",\")\n"
   ]
  },
  {
   "cell_type": "code",
   "execution_count": null,
   "metadata": {},
   "outputs": [],
   "source": [
    "a = [1,2,4,'hola']\n",
    "np.array(a)\n",
    "c = np.tile(a,(5,1))\n",
    "len(c)"
   ]
  },
  {
   "attachments": {},
   "cell_type": "markdown",
   "metadata": {},
   "source": [
    "#### <stan style = \"color : orange \">Creación estímulo sin nombre  </stan>"
   ]
  },
  {
   "cell_type": "code",
   "execution_count": null,
   "metadata": {},
   "outputs": [],
   "source": [
    "a = Estimulador(frec_muestreo=20000,tiempo_estimulo=0.8,num_fibras=5)\n",
    "a.crear_estimulo(tipo_estimulo='sin_nombre',tiempo_inicio=0.2,frec_corte = 2000,orden_filtro = 2)\n",
    "a.estimulo"
   ]
  },
  {
   "cell_type": "code",
   "execution_count": null,
   "metadata": {},
   "outputs": [],
   "source": [
    "for i in range(len(a.estimulo)):\n",
    "    plt.plot(a.estimulo[i])\n",
    "plt.show()"
   ]
  },
  {
   "attachments": {},
   "cell_type": "markdown",
   "metadata": {},
   "source": [
    "#### <stan style = \"color : orange \">Estímulo manual  </stan>"
   ]
  },
  {
   "cell_type": "code",
   "execution_count": null,
   "metadata": {},
   "outputs": [],
   "source": [
    "b = Estimulador(frec_muestreo=200,tiempo_estimulo=10,num_fibras=5)\n",
    "b.estimulo_manual(estimulo = c,tiempo_inicio=5)\n",
    "print(b.estimulo)"
   ]
  },
  {
   "cell_type": "code",
   "execution_count": null,
   "metadata": {},
   "outputs": [],
   "source": [
    "for i in range(len(b.estimulo)):\n",
    "    plt.plot(b.estimulo[i])\n",
    "plt.show()"
   ]
  },
  {
   "attachments": {},
   "cell_type": "markdown",
   "metadata": {},
   "source": [
    "#### <stan style = \"color : orange \">Desde archivo</stan>"
   ]
  },
  {
   "cell_type": "code",
   "execution_count": null,
   "metadata": {},
   "outputs": [],
   "source": [
    "d = Estimulador(frec_muestreo=2000,tiempo_estimulo=10,num_fibras=5)\n",
    "d.estimulo_desde_archivo(ubicacion_archivo=\"C:/Users/aguir/Desktop/Prroyecto/python/array.csv\",tiempo_inicio=2,tiempo_estimulo=10)"
   ]
  },
  {
   "cell_type": "code",
   "execution_count": null,
   "metadata": {},
   "outputs": [],
   "source": [
    "d.estimulo"
   ]
  },
  {
   "cell_type": "code",
   "execution_count": null,
   "metadata": {},
   "outputs": [],
   "source": [
    "len(d.estimulo)"
   ]
  },
  {
   "cell_type": "code",
   "execution_count": null,
   "metadata": {},
   "outputs": [],
   "source": [
    "for i in range(len(d.estimulo)):\n",
    "    plt.plot(d.estimulo[i])\n",
    "plt.show()"
   ]
  },
  {
   "attachments": {},
   "cell_type": "markdown",
   "metadata": {},
   "source": [
    "### <stan style = \"color : cyan \">Pruebas de shapely  </stan>"
   ]
  },
  {
   "cell_type": "code",
   "execution_count": null,
   "metadata": {},
   "outputs": [],
   "source": [
    "circle = Point(0, 0).buffer(1)\n",
    "#Point(3,3).distance(circle)\n",
    "circle.distance(Point(3,3))"
   ]
  },
  {
   "cell_type": "code",
   "execution_count": null,
   "metadata": {},
   "outputs": [],
   "source": [
    "circle1 = Point(0,0).buffer(1)\n",
    "circle2 = Point(2,0).buffer(1)\n",
    "circle1.distance(circle2)"
   ]
  },
  {
   "attachments": {},
   "cell_type": "markdown",
   "metadata": {},
   "source": [
    "### <stan style = \"color : cyan \">Pruebas de objetos nervio  </stan>"
   ]
  },
  {
   "attachments": {},
   "cell_type": "markdown",
   "metadata": {},
   "source": [
    "#### <stan style=\"color : orange\"> Nervios del paper</stan>"
   ]
  },
  {
   "cell_type": "code",
   "execution_count": null,
   "metadata": {},
   "outputs": [],
   "source": [
    "a = Nervio(diametro=1500)\n",
    "a.poblar(metodo_poblacion = 'uniforme_sin_superposicion', num_fibras=4000,diametro_fibra=5.5)\n",
    "a.ploteo_fibras_circulos(borde_fibras='cyan',borde_nervio='black')\n",
    "#a.detectar_colisiones()\n",
    "#a.ploteo_fibras_puntos()"
   ]
  },
  {
   "cell_type": "code",
   "execution_count": null,
   "metadata": {},
   "outputs": [],
   "source": [
    "# Nervio ciático\n",
    "a = Nervio(diametro=1500)\n",
    "a.megauniforme(num_fibras=4000,diametro_fibra=5.5,variacion=1.5,semilla=None)\n",
    "a.ploteo_fibras_circulos(borde_fibras='cyan',borde_nervio='black')"
   ]
  },
  {
   "cell_type": "code",
   "execution_count": null,
   "metadata": {},
   "outputs": [],
   "source": [
    "# Nervio infraorbitario\n",
    "a = Nervio(diametro=1265)\n",
    "a.megauniforme(num_fibras=5207,diametro_fibra=4.5,variacion=1.5,semilla=None)\n",
    "a.ploteo_fibras_circulos(borde_fibras='cyan',borde_nervio='black')"
   ]
  },
  {
   "attachments": {},
   "cell_type": "markdown",
   "metadata": {},
   "source": [
    "#### <stan style = \"color : orange \"> Manual - unión de los dos en uno solo </stan>"
   ]
  },
  {
   "cell_type": "code",
   "execution_count": null,
   "metadata": {},
   "outputs": [],
   "source": [
    "b = Nervio()\n",
    "b.manual(lista_fibras=[[73.23958313,3.92731714],[9.90834512,-38.99651803],[-57.91269168,39.38951769]],diametro_fibra=30)\n",
    "b.ploteo_fibras_circulos()"
   ]
  },
  {
   "cell_type": "code",
   "execution_count": null,
   "metadata": {},
   "outputs": [],
   "source": [
    "b = Nervio()\n",
    "b.manual(lista_fibras=[[ 105.90918048,-55.69804927,10],[7.98922866,-108.79089886,10],[95.24152036,-46.07808487,10]],diametro_fibra = 2)\n",
    "b.ploteo_fibras_circulos()"
   ]
  },
  {
   "attachments": {},
   "cell_type": "markdown",
   "metadata": {},
   "source": [
    "#### <stan style = \"color : orange \">Prueba de tiempo para el método con y sin superposición  </stan>"
   ]
  },
  {
   "cell_type": "code",
   "execution_count": null,
   "metadata": {},
   "outputs": [],
   "source": [
    "#ya no puedo correr esto porque les cambié el nombre\n",
    "import time\n",
    "fibs = [200, 250, 300]\n",
    "diams = [1,5,10]\n",
    "for fib in fibs:\n",
    "    print(f'Fibras: {fib}')\n",
    "    for diam in diams:\n",
    "        print(f'Diametro: {diam}')\n",
    "        for i in range(10):\n",
    "            start = time.time()\n",
    "            a = Nervio()\n",
    "            a.poblar(metodo_poblacion = 'uniforme_sin_superposicion',num_fibras=fib,diametro_fibra=diam)\n",
    "            #a.ploteo_fibras_circulos(borde_nervio= 'magenta', borde_fibras= 'cyan',relleno_fibras='cyan')\n",
    "            end = time.time()\n",
    "            print(f'Done in {end-start}')\n"
   ]
  },
  {
   "attachments": {},
   "cell_type": "markdown",
   "metadata": {},
   "source": [
    "#### <stan style = \"color : orange \"> Pruebas para poblar desde archivo - unión de los dos métodos  </stan>"
   ]
  },
  {
   "cell_type": "code",
   "execution_count": null,
   "metadata": {},
   "outputs": [],
   "source": [
    "c = Nervio(diametro=250)\n",
    "c.desde_archivo(diametro_fibra = 0,ubicacion_archivo = 'C:/Users/aguir/Desktop/Prroyecto/python/fibras_sindiametro.csv')\n",
    "c.ploteo_fibras_puntos()"
   ]
  },
  {
   "cell_type": "code",
   "execution_count": null,
   "metadata": {},
   "outputs": [],
   "source": [
    "c = Nervio(diametro=250)\n",
    "c.desde_archivo_condiametro(ubicacion_archivo = 'C:/Users/aguir/Desktop/Prroyecto/python/fibras_condiametro.csv')\n",
    "c.ploteo_fibras_circulos()"
   ]
  },
  {
   "cell_type": "code",
   "execution_count": null,
   "metadata": {},
   "outputs": [],
   "source": [
    "c = Nervio()\n",
    "c.desde_archivo_final(diametro_fibra=0,ubicacion_archivo='C:/Users/aguir/Desktop/Prroyecto/python/fibras_sindiametro.csv')\n",
    "#c.desde_archivo_final(diametro_fibra=0,ubicacion_archivo='C:/Users/aguir/Desktop/Prroyecto/python/fibras_condiametro.csv')\n",
    "c.ploteo_fibras_puntos()\n",
    "#c.ploteo_fibras_circulos()\n"
   ]
  },
  {
   "attachments": {},
   "cell_type": "markdown",
   "metadata": {},
   "source": [
    "#### <stan style = \"color : orange \">Prueba del método para setear los diámetros variables de las fibras </stan>"
   ]
  },
  {
   "cell_type": "code",
   "execution_count": null,
   "metadata": {},
   "outputs": [],
   "source": [
    "#Prueba de setear diametros de fibras\n",
    "#Esto solo tendría sentido si es que comienza siendo una fibra sin diametro y después se le asigna\n",
    "b = Nervio()\n",
    "b.poblar(num_fibras=10,diametro_fibra=1) #por mas que le setee un diametro a la fibra, si despues corro el setear diametros los cambia\n",
    "b.setear_diametros_fibras(10,1)\n",
    "b.ploteo_fibras_circulos()"
   ]
  },
  {
   "cell_type": "code",
   "execution_count": null,
   "metadata": {},
   "outputs": [],
   "source": [
    "b.obtener_lista_fibras()"
   ]
  },
  {
   "attachments": {},
   "cell_type": "markdown",
   "metadata": {},
   "source": [
    "#### <stan style=\"color : orange\">Uniforme con superposicion: diam variable vs fijo</stan>"
   ]
  },
  {
   "cell_type": "code",
   "execution_count": null,
   "metadata": {},
   "outputs": [],
   "source": [
    "a = Nervio()\n",
    "a.uniforme_diam_var(num_fibras=200,semilla=None,diametro_fibra=4.5,var = 0)\n",
    "a.ploteo_fibras_circulos()"
   ]
  },
  {
   "cell_type": "code",
   "execution_count": null,
   "metadata": {},
   "outputs": [],
   "source": [
    "a = Nervio()\n",
    "a.distribucion_uniforme(num_fibras=200,semilla=None,diametro_fibra=4.5)\n",
    "a.ploteo_fibras_circulos()"
   ]
  },
  {
   "attachments": {},
   "cell_type": "markdown",
   "metadata": {},
   "source": [
    "#### <stan style=\"color :orange\">Uniforme sin superposición: diam variable vs fijo</stan>"
   ]
  },
  {
   "cell_type": "code",
   "execution_count": null,
   "metadata": {},
   "outputs": [],
   "source": [
    "a = Nervio()\n",
    "a.megauniforme(num_fibras=200,semilla=None,diametro_fibra=4.5,variacion=0)\n",
    "a.ploteo_fibras_circulos()"
   ]
  },
  {
   "cell_type": "code",
   "execution_count": null,
   "metadata": {},
   "outputs": [],
   "source": [
    "a = Nervio()\n",
    "a.uniforme_sin_superposicion(num_fibras=200,semilla=None,diametro_fibra=4.5)\n",
    "a.ploteo_fibras_circulos()"
   ]
  },
  {
   "attachments": {},
   "cell_type": "markdown",
   "metadata": {},
   "source": [
    "### <stan style = \"color : cyan \">Pruebas de objetos electrodos  </stan>"
   ]
  },
  {
   "cell_type": "code",
   "execution_count": null,
   "metadata": {},
   "outputs": [],
   "source": [
    "a = Nervio()\n",
    "a.poblar(metodo_poblacion = 'manual', lista_fibras = [[-125,0]],diametro_fibra=10)\n",
    "a.ploteo_fibras_circulos()"
   ]
  },
  {
   "cell_type": "code",
   "execution_count": null,
   "metadata": {},
   "outputs": [],
   "source": [
    "a = Nervio()\n",
    "a.poblar(metodo_poblacion = 'manual', lista_fibras = [[0,0]],diametro_fibra=50)\n",
    "a.ploteo_fibras_circulos()"
   ]
  },
  {
   "cell_type": "code",
   "execution_count": null,
   "metadata": {},
   "outputs": [],
   "source": [
    "a = Nervio()\n",
    "a.poblar()\n",
    "a.ploteo_fibras_puntos()"
   ]
  },
  {
   "cell_type": "code",
   "execution_count": null,
   "metadata": {},
   "outputs": [],
   "source": [
    "e = Electrodo(tipo = 'circulo',x = 0,y = -150,z = 10, radio = 5)"
   ]
  },
  {
   "cell_type": "code",
   "execution_count": null,
   "metadata": {},
   "outputs": [],
   "source": [
    "e.calcular_distancias(a.fibras)"
   ]
  },
  {
   "cell_type": "code",
   "execution_count": null,
   "metadata": {},
   "outputs": [],
   "source": [
    "e.dist_al_electrodo"
   ]
  },
  {
   "cell_type": "code",
   "execution_count": null,
   "metadata": {},
   "outputs": [],
   "source": [
    "e = Electrodo(tipo = 'poligono',z = 10,lista_coordenadas = [(-125,-150),(125,-150),(125,-155),(-125,-155)])"
   ]
  },
  {
   "cell_type": "code",
   "execution_count": null,
   "metadata": {},
   "outputs": [],
   "source": [
    "e.distancia_al_electrodo_poligono(a.fibras)"
   ]
  },
  {
   "cell_type": "code",
   "execution_count": null,
   "metadata": {},
   "outputs": [],
   "source": [
    "a = Nervio(porcentaje_cobertura=100)\n",
    "a.poblar(num_fibras=5)\n",
    "a.agregar_nodos(distancia_nodos=100, variacion=50,desplazamiento=100,distribucion_variacion='uniforme')\n",
    "\n",
    "e = Electrodo(tipo='punto',x = 0,y = -125,z = 20000)\n",
    "a.informacion_nodos"
   ]
  },
  {
   "cell_type": "code",
   "execution_count": null,
   "metadata": {},
   "outputs": [],
   "source": [
    "e.calcular_wlong(matriz_nodos = a.informacion_nodos,grosor=0,zona_influencia=10000)"
   ]
  },
  {
   "cell_type": "code",
   "execution_count": null,
   "metadata": {},
   "outputs": [],
   "source": [
    "e.wlong"
   ]
  },
  {
   "cell_type": "code",
   "execution_count": null,
   "metadata": {},
   "outputs": [],
   "source": [
    "pos = list(range(1,101))\n",
    "y = [funcion_trapecio(x=x,z=50,d=20,a=0) for x in pos]"
   ]
  },
  {
   "cell_type": "code",
   "execution_count": null,
   "metadata": {},
   "outputs": [],
   "source": [
    "plt.plot(pos,y,'r .')"
   ]
  },
  {
   "attachments": {},
   "cell_type": "markdown",
   "metadata": {},
   "source": [
    "#### <stan style = \"color : orange \">Wmax</stan>\n"
   ]
  },
  {
   "cell_type": "code",
   "execution_count": null,
   "metadata": {},
   "outputs": [],
   "source": [
    "a = Nervio(porcentaje_cobertura=100)\n",
    "a.poblar(metodo_poblacion='uniforme_sin_superposicion',diametro_fibra=5)\n",
    "e = Electrodo(tipo='punto',x = 0,y=-125,z=5)\n",
    "e.calcular_distancias(a.fibras)\n",
    "e.calcular_wmax(a)\n",
    "e.wmax"
   ]
  },
  {
   "cell_type": "code",
   "execution_count": null,
   "metadata": {},
   "outputs": [],
   "source": [
    "a.ploteo_fibras_circulos()"
   ]
  },
  {
   "cell_type": "code",
   "execution_count": null,
   "metadata": {},
   "outputs": [],
   "source": [
    "e.dist_al_electrodo"
   ]
  },
  {
   "attachments": {},
   "cell_type": "markdown",
   "metadata": {},
   "source": [
    "### <stan style = \"color: cyan\"> Ubicacion de los nodos </stan>"
   ]
  },
  {
   "cell_type": "code",
   "execution_count": null,
   "metadata": {},
   "outputs": [],
   "source": [
    "#Uniforme\n",
    "a = Nervio()\n",
    "a.poblar(num_fibras=3)\n",
    "a.cantidad_fibras\n",
    "a.agregar_nodos(longitud_fibra=50000,distancia_nodos=10000, variacion= 0,desplazamiento=10)\n",
    "a.ubicacion_nodos"
   ]
  },
  {
   "attachments": {},
   "cell_type": "markdown",
   "metadata": {},
   "source": [
    "### <stan style = \"color : cyan \">Prueba clase Entorno  </stan>"
   ]
  },
  {
   "attachments": {},
   "cell_type": "markdown",
   "metadata": {},
   "source": [
    "#### General"
   ]
  },
  {
   "cell_type": "code",
   "execution_count": null,
   "metadata": {},
   "outputs": [],
   "source": [
    "# Dibujar entorno con varios electrodos\n",
    "a = Entorno()\n",
    "a.crear_nervio(metodo_poblacion = 'uniforme_sin_superposicion',diametro_fibra=5,distancia_nodos=1000,longitud=50000)\n",
    "a.crear_electrodo(tipo='circulo',x=0,y=-150,z=10,radio = 10)\n",
    "a.crear_electrodo(tipo='circulo',x=50,y=-150,z=10,radio = 15)\n",
    "a.crear_electrodo(tipo='punto',x = -50,y = -125,z = 3)\n",
    "a.crear_electrodo(tipo='poligono',lista_coordenadas = [(-25,-150),(25,-150),(25,-160),(-25,-160)],z=10)\n",
    "a.dibujar_entorno(forma_ploteo='fibras_con_diametro')\n",
    "\n",
    "\n"
   ]
  },
  {
   "cell_type": "code",
   "execution_count": null,
   "metadata": {},
   "outputs": [],
   "source": [
    "a = Entorno()\n",
    "a.crear_nervio(metodo_poblacion = 'uniforme_sin_superposicion',diametro_fibra=5,distancia_nodos=100,longitud=50000,porcentaje_cobertura=50,num_fibras=100)\n",
    "a.crear_electrodo(tipo='punto',pos_x = -50,pos_y = -125,pos_z = 25000,zona_influencia=10000,grosor=2000,funcion = funcion_gaussiana)\n",
    "a.dibujar_entorno()"
   ]
  },
  {
   "attachments": {},
   "cell_type": "markdown",
   "metadata": {},
   "source": [
    "#### <stan style = \"color : orange \">Porcentaje de cobertura del electrodo  </stan>"
   ]
  },
  {
   "cell_type": "code",
   "execution_count": null,
   "metadata": {},
   "outputs": [],
   "source": [
    "a = Entorno()\n",
    "a.crear_nervio(metodo_poblacion = 'uniforme_sin_superposicion',diametro_fibra=5,distancia_nodos=100,longitud=50000,porcentaje_cobertura=100)\n",
    "a.crear_electrodo(tipo='punto',pos_x = 0,pos_y = -125,pos_z = 25000,zona_influencia=10000,grosor=2000,funcion = funcion_gaussiana)\n",
    "a.dibujar_entorno()\n"
   ]
  },
  {
   "cell_type": "code",
   "execution_count": null,
   "metadata": {},
   "outputs": [],
   "source": [
    "lista1 = a.nervio.obtener_lista_fibras()\n",
    "lista2 = a.electrodos[0].wmax\n",
    "matriz1 = [lista1[i] for i, valor in enumerate(lista2) if valor != 0]\n",
    "matriz = np.array(matriz1)"
   ]
  },
  {
   "cell_type": "code",
   "execution_count": null,
   "metadata": {},
   "outputs": [],
   "source": [
    "for i in range(len(matriz)):\n",
    "    circle = plt.Circle((matriz[i,0],matriz[i,1]),matriz[i,2],edgecolor = None,facecolor = 'red')\n",
    "    plt.gca().add_patch(circle)\n",
    "\n",
    "plt.gca().add_patch(plt.Circle((0,0),125, edgecolor = 'black', facecolor = 'None'))\n",
    "\n",
    "plt.axis('equal')\n",
    "plt.show()"
   ]
  },
  {
   "cell_type": "code",
   "execution_count": null,
   "metadata": {},
   "outputs": [],
   "source": [
    "a.nervio.cantidad_fibras"
   ]
  },
  {
   "cell_type": "code",
   "execution_count": null,
   "metadata": {},
   "outputs": [],
   "source": [
    "len(matriz)"
   ]
  },
  {
   "cell_type": "code",
   "execution_count": null,
   "metadata": {},
   "outputs": [],
   "source": [
    "plt.plot(a.nervio.informacion_nodos[1],a.electrodos[0].pesos[1])"
   ]
  },
  {
   "attachments": {},
   "cell_type": "markdown",
   "metadata": {},
   "source": [
    "#### <stan style = \"color : orange \">Nodos</stan>"
   ]
  },
  {
   "cell_type": "code",
   "execution_count": null,
   "metadata": {},
   "outputs": [],
   "source": [
    "#desde clase nervio\n",
    "a = Nervio(longitud=500000)\n",
    "a.poblar(num_fibras=200)\n",
    "a.agregar_nodos(distancia_nodos=100,variacion=50,desplazamiento=0)\n",
    "#a.informacion_nodos"
   ]
  },
  {
   "cell_type": "code",
   "execution_count": null,
   "metadata": {},
   "outputs": [],
   "source": [
    "a.informacion_nodos"
   ]
  },
  {
   "cell_type": "code",
   "execution_count": null,
   "metadata": {},
   "outputs": [],
   "source": [
    "#Control de que la distancia promedio entre nodos se mantiene parecida a la que yo pongo\n",
    "lista = []\n",
    "for x in a.informacion_nodos:\n",
    "    for i in range(len(x)-1):\n",
    "        lista.append(x[i+1]-x[i])\n",
    "#print(lista)\n",
    "print(np.mean(lista))\n",
    "\n",
    "\n",
    "        "
   ]
  },
  {
   "cell_type": "code",
   "execution_count": null,
   "metadata": {},
   "outputs": [],
   "source": [
    "#desde clase entorno\n",
    "b = Entorno()\n",
    "#b.crear_nervio(metodo_poblacion = 'uniforme_sin_superposicion',diametro_fibra=5,distancia_nodos=1000,longitud=5000)\n",
    "#b.crear_nervio(metodo_poblacion = 'uniforme_sin_superposicion',diametro_fibra=5,distancia_nodos=1000,longitud=5000,desplazamiento=10)\n",
    "b.crear_nervio(metodo_poblacion = 'uniforme_sin_superposicion',diametro_fibra=5,distancia_nodos=1000,longitud=5000,variacion=10)\n",
    "b.nervio.informacion_nodos\n"
   ]
  },
  {
   "attachments": {},
   "cell_type": "markdown",
   "metadata": {},
   "source": [
    "### <stan style = \"color : magenta \">Clase entorno con sfap y cap  </stan>"
   ]
  },
  {
   "cell_type": "code",
   "execution_count": 121,
   "metadata": {},
   "outputs": [
    {
     "name": "stdout",
     "output_type": "stream",
     "text": [
      "\n",
      "Nombre del experimento: None\n",
      "Datos del nervio:\n",
      "        *Diametro : 1500.0 micrómetros\n",
      "        *Longitud : 50000 micrómetros\n",
      "Electrodos:\n",
      "        *Cantidad de electrodos: 2\n",
      "        *Ubicacion de electrodos: [[0, -750, 20000], [0, -750, 10000]]\n",
      "Estimulador:\n",
      "        *Tipo de estimulo: sin_nombre\n",
      "        *Frecuencia de muestreo: 100000 Hz\n",
      "        *Tiempo de estimulo: 0.0015 segundos\n",
      "        *Tiempo de registro : 0.0045000000000000005 segundos\n",
      "        \n"
     ]
    }
   ],
   "source": [
    "a = Entorno()\n",
    "a.crear_nervio(diametro = 1500,metodo_poblacion = 'uniforme_con_superposicion',diametro_fibra=4.5,distancia_nodos=2000,longitud=50000,porcentaje_cobertura=100,num_fibras=2,var_diametro=0,variacion = 10)\n",
    "a.crear_electrodo(tipo='punto',pos_x = 0,pos_y = -750,pos_z = 20000,zona_influencia=10000,grosor=5000,funcion = funcion_trapecio)\n",
    "a.crear_electrodo(tipo='punto',pos_x = 0,pos_y = -750,pos_z = 10000,zona_influencia=10000,grosor=0,funcion = funcion_trapecio)\n",
    "a.crear_estimulo(tipo_estimulo='sin_nombre',frec_muestreo=100000,tiempo_estimulo=0.0015,tiempo_inicio = 0,frec_corte = 2000,orden_filtro = 2)\n",
    "#a.crear_estimulo(tipo_estimulo='cuadrado',frec_muestreo=20000,tiempo_estimulo=0.003,tiempo_inicio=0,duracion=0)\n",
    "a.sfap()\n",
    "a.cap()\n",
    "a.informe_experimento()\n",
    "#a.graficar_estimulos()\n",
    "#a.dibujar_entorno()"
   ]
  },
  {
   "cell_type": "code",
   "execution_count": 74,
   "metadata": {},
   "outputs": [
    {
     "name": "stdout",
     "output_type": "stream",
     "text": [
      "Nombre del experimento: None \n",
      "Datos del nervio: \n",
      " *Diametro : 1500.0 \n",
      " *Número de fibras: 2 \n",
      " *Posicion del centro del nervio: [0,0.]\n"
     ]
    }
   ],
   "source": [
    "a.informe_experimento()"
   ]
  },
  {
   "cell_type": "code",
   "execution_count": 63,
   "metadata": {},
   "outputs": [],
   "source": [
    "a.informacion_json()"
   ]
  },
  {
   "cell_type": "code",
   "execution_count": 54,
   "metadata": {},
   "outputs": [
    {
     "data": {
      "text/plain": [
       "[<matplotlib.lines.Line2D at 0x1902d82f550>]"
      ]
     },
     "execution_count": 54,
     "metadata": {},
     "output_type": "execute_result"
    },
    {
     "data": {
      "image/png": "[encoded data removed]",
      "text/plain": [
       "<Figure size 640x480 with 1 Axes>"
      ]
     },
     "metadata": {},
     "output_type": "display_data"
    }
   ],
   "source": [
    "#CAP y CAP DIFERENCIAL\n",
    "\n",
    "fm = 100000\n",
    "t = np.arange(1/fm,a.tiempo_registro+1/fm,1/fm)\n",
    "plt.plot(t,a.electrodos[0].cap,'r .')\n",
    "plt.plot(t,a.electrodos[1].cap,'b .')\n",
    "plt.plot(t,a.cap_diferencial(posicion_1=0,posicion_2=1),'magenta')\n",
    "#plt.plot(t,a.electrodos[0].sfap[0]/max(a.electrodos[0].sfap[0]),'magenta')"
   ]
  },
  {
   "cell_type": "code",
   "execution_count": 40,
   "metadata": {},
   "outputs": [
    {
     "data": {
      "text/plain": [
       "[<matplotlib.lines.Line2D at 0x1902c0e2ad0>]"
      ]
     },
     "execution_count": 40,
     "metadata": {},
     "output_type": "execute_result"
    },
    {
     "data": {
      "image/png": "[encoded data removed]",
      "text/plain": [
       "<Figure size 640x480 with 1 Axes>"
      ]
     },
     "metadata": {},
     "output_type": "display_data"
    }
   ],
   "source": [
    "#CAP y CAP DIFERENCIAL\n",
    "\n",
    "fm = 100000\n",
    "t = np.arange(1/fm,a.tiempo_registro+1/fm,1/fm)\n",
    "plt.plot(t,a.electrodos[0].cap,'r .')\n",
    "plt.plot(t,a.electrodos[1].cap,'b .')\n",
    "plt.plot(t,a.cap_diferencial(posicion_1=0,posicion_2=1),'magenta')\n",
    "#plt.plot(t,a.electrodos[0].sfap[0]/max(a.electrodos[0].sfap[0]),'magenta')\n"
   ]
  },
  {
   "cell_type": "code",
   "execution_count": 46,
   "metadata": {},
   "outputs": [
    {
     "data": {
      "image/png": "[encoded data removed]",
      "text/plain": [
       "<Figure size 640x480 with 1 Axes>"
      ]
     },
     "metadata": {},
     "output_type": "display_data"
    }
   ],
   "source": [
    "#Plot de cada SFAP del electrodo 0\n",
    "\n",
    "for i in range(len(a.electrodos[0].sfap)):\n",
    "    plt.plot(a.electrodos[0].sfap[i])\n",
    "plt.show()"
   ]
  },
  {
   "cell_type": "code",
   "execution_count": 42,
   "metadata": {},
   "outputs": [
    {
     "data": {
      "text/plain": [
       "[<matplotlib.lines.Line2D at 0x20dae67a160>]"
      ]
     },
     "execution_count": 42,
     "metadata": {},
     "output_type": "execute_result"
    },
    {
     "data": {
      "image/png": "[encoded data removed]",
      "text/plain": [
       "<Figure size 640x480 with 1 Axes>"
      ]
     },
     "metadata": {},
     "output_type": "display_data"
    }
   ],
   "source": [
    "plt.plot(t,a.cap_diferencial(posicion_1=0,posicion_2=1))"
   ]
  },
  {
   "cell_type": "code",
   "execution_count": 43,
   "metadata": {},
   "outputs": [
    {
     "data": {
      "text/plain": [
       "[<matplotlib.lines.Line2D at 0x20daebd6040>]"
      ]
     },
     "execution_count": 43,
     "metadata": {},
     "output_type": "execute_result"
    },
    {
     "data": {
      "image/png": "[encoded data removed]",
      "text/plain": [
       "<Figure size 640x480 with 1 Axes>"
      ]
     },
     "metadata": {},
     "output_type": "display_data"
    }
   ],
   "source": [
    "plt.plot(t,a.cap_diferencial(posicion_1=1,posicion_2=0))"
   ]
  },
  {
   "attachments": {},
   "cell_type": "markdown",
   "metadata": {},
   "source": [
    "### <stan style = \"color : cyan \">Funciones auxiliares para sfap</stan>"
   ]
  },
  {
   "cell_type": "code",
   "execution_count": null,
   "metadata": {},
   "outputs": [],
   "source": [
    "def insertar_estimulo(estimulo,posicion,fm,tiempo_registro,velocidad,peso):\n",
    "    total_muestras = int(tiempo_registro * fm)\n",
    "    tiempo = np.arange(1/fm,tiempo_registro+1/fm,1/fm)\n",
    "    muestras_estimulo = len(estimulo)\n",
    "    vector = np.zeros(total_muestras)\n",
    "\n",
    "    \n",
    "    inicio = int((posicion/(velocidad*1000000)) * fm) #retardo\n",
    "    \n",
    "    if muestras_estimulo > total_muestras - inicio:\n",
    "        muestras_estimulo = total_muestras-inicio\n",
    "    \n",
    "    vector[inicio:inicio+muestras_estimulo] = estimulo[:muestras_estimulo]*peso\n",
    "    \n",
    "    #plt.plot(tiempo,vector)\n",
    "    #plt.show()\n",
    "    return vector"
   ]
  },
  {
   "cell_type": "code",
   "execution_count": null,
   "metadata": {},
   "outputs": [],
   "source": [
    "insertar_estimulo(estimulo=a.estimulo[0],posicion=10000,fm=20000,tiempo_registro=0.01,velocidad=34,peso = 1.1)"
   ]
  },
  {
   "cell_type": "code",
   "execution_count": null,
   "metadata": {},
   "outputs": [],
   "source": [
    "def array_to_multiarray(array,estimulo,fm,tiempo_registro,velocidad,peso):\n",
    "    for i,posicion in enumerate(array):\n",
    "        insertar_estimulo(estimulo=estimulo,posicion=posicion,fm=fm,tiempo_registro=tiempo_registro,velocidad=velocidad,peso=peso[i])\n",
    "        if i == 0:\n",
    "            multiarray = [insertar_estimulo(estimulo=estimulo,posicion=posicion,fm=fm,tiempo_registro=tiempo_registro,velocidad=velocidad,peso=peso[i])]\n",
    "        else:\n",
    "            a = insertar_estimulo(estimulo=estimulo,posicion=posicion,fm=fm,tiempo_registro=tiempo_registro,velocidad=velocidad,peso=peso[i])\n",
    "            multiarray = np.vstack((multiarray,a))\n",
    "    print(multiarray)\n",
    "    return multiarray"
   ]
  },
  {
   "cell_type": "code",
   "execution_count": null,
   "metadata": {},
   "outputs": [],
   "source": [
    "a = array_to_multiarray(estimulo=a.estimulo[0],array=np.array([0,10000,20000]),fm=20000,tiempo_registro=0.01,velocidad=34,peso = np.array([1,0.7,0.3]))"
   ]
  },
  {
   "cell_type": "code",
   "execution_count": null,
   "metadata": {},
   "outputs": [],
   "source": [
    "for i in range(len(a)):\n",
    "    plt.plot(a[i])"
   ]
  },
  {
   "cell_type": "code",
   "execution_count": null,
   "metadata": {},
   "outputs": [],
   "source": [
    "def suma_multiarray(multiarray):\n",
    "    return np.sum(multiarray,axis = 0)"
   ]
  },
  {
   "cell_type": "code",
   "execution_count": null,
   "metadata": {},
   "outputs": [],
   "source": [
    "b = suma_multiarray(a)"
   ]
  },
  {
   "cell_type": "code",
   "execution_count": null,
   "metadata": {},
   "outputs": [],
   "source": [
    "b"
   ]
  },
  {
   "cell_type": "code",
   "execution_count": null,
   "metadata": {},
   "outputs": [],
   "source": [
    "plt.plot(b)\n",
    "plt.show()"
   ]
  }
 ],
 "metadata": {
  "kernelspec": {
   "display_name": "env",
   "language": "python",
   "name": "python3"
  },
  "language_info": {
   "codemirror_mode": {
    "name": "ipython",
    "version": 3
   },
   "file_extension": ".py",
   "mimetype": "text/x-python",
   "name": "python",
   "nbconvert_exporter": "python",
   "pygments_lexer": "ipython3",
   "version": "3.9.1"
  },
  "orig_nbformat": 4,
  "vscode": {
   "interpreter": {
    "hash": "929332d5510375a6e59867eb15c6694920affb6ac30e7451fa3ee6d079df4e3a"
   }
  }
 },
 "nbformat": 4,
 "nbformat_minor": 2
}
