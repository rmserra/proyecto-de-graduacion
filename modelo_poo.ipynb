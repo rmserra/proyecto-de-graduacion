{
 "cells": [
  {
   "cell_type": "code",
   "execution_count": null,
   "metadata": {},
   "outputs": [],
   "source": [
    "import sys\n",
    "!{sys.executable} -m pip install shapely"
   ]
  },
  {
   "cell_type": "code",
   "execution_count": null,
   "metadata": {},
   "outputs": [],
   "source": [
    "import numpy as np\n",
    "import matplotlib.pyplot as plt\n",
    "from enum import Enum\n",
    "from shapely import Polygon,Point\n"
   ]
  },
  {
   "cell_type": "code",
   "execution_count": 19,
   "metadata": {},
   "outputs": [],
   "source": [
    "def distancia_entre_puntos (x1,y1,x2,y2):\n",
    "    \"\"\"Función que mide la distancia entre dos puntos.\n",
    "\n",
    "    Args:\n",
    "        x1 (float): Coordenada x del primer punto.\n",
    "        y1 (float): Coordenada y del primer punto.\n",
    "        x2 (float): Coordenada x del segundo punto.\n",
    "        y2 (float): Coordenada y del segundo punto.\n",
    "\n",
    "    Returns:\n",
    "        float: La función devuelve la distancia entre los dos puntos.\n",
    "    \"\"\"\n",
    "    return np.sqrt((x1-x2)**2 + (y1-y2)**2)\n",
    "\n",
    "def distancia_entre_circulos(x1,y1,radio1,x2,y2,radio2):\n",
    "    \"\"\"Método que devuelve la distancia entre dos círculos.\n",
    "\n",
    "    Args:\n",
    "        x1 (float): Coordenada x del primer círculo.\n",
    "        y1 (float): Coordenada y del primer círculo.\n",
    "        radio1 (float): Radio del primer círculo.\n",
    "        x2 (float): Coordenada x del segundo círculo.\n",
    "        y2 (float): Coordenada y del segundo círculo.\n",
    "        radio2 (float): Radio del segundo círculo.\n",
    "\n",
    "    Returns:\n",
    "        float: Devuelve el cálculo de la distancia entre los dos círculos.\n",
    "    \"\"\"\n",
    "    return (distancia_entre_puntos(x1=x1,y1=y1,x2=x2,y2=y2))-radio1-radio2\n",
    "\n",
    "def is_inside_puntoencirculo (r0,x,y,x0=0,y0=0):\n",
    "    \"\"\"Función con la que se evalúa si un punto se encuentra adentro de un círculo.\n",
    "\n",
    "    Args:\n",
    "        r0 (float): Radio del círculo\n",
    "        x (float): Coordenada x del punto\n",
    "        y (float): Coordenada y del punto\n",
    "        x0 (float, optional): Coordenada x del centro del círculo. Por defecto es 0.\n",
    "        y0 (float, optional): Coordenada y del centro del círculo. Por defecto es 0.\n",
    "\n",
    "    Returns:\n",
    "        bool: Devuelve True o False de acuerdo a si el punto se encuentra dentro del círculo o no.\n",
    "    \"\"\"\n",
    "    return r0 >= distancia_entre_puntos(x1=x,y1=y,x2=x0,y2=y0)\n",
    "\n",
    "def is_inside_circencirc(r1,x1,y1,r0,x0=0,y0=0):\n",
    "    \"\"\"Función con la que se evalúa si un primer círculo (x1,y1,r1) se encuentra dentro de un segundo círculo (x0,y0,r0).\n",
    "\n",
    "    Args:\n",
    "        r1 (float): Radio del primer círculo.\n",
    "        x1 (float): Coordenada x del primer círculo.\n",
    "        y1 (float): Coordenada y del primer círculo.\n",
    "        r0 (float): Radio del círculo al que se le evalúa si contiene al primer círculo.\n",
    "        x0 (float, optional): Coordenada x del círculo al que se le evalúa si contiene al primer círculo. Por defecto es 0.\n",
    "        y0 (float, optional): Coordenada y del círculo al que se le evalúa si contiene al primer círculo. Por defecto es 0.\n",
    "\n",
    "    Returns:\n",
    "        bool: Devuelve True o False de acuerdo a si el primer círculo está contenido dentro del segundo o no.\n",
    "    \"\"\"\n",
    "    return r0 >= r1 + distancia_entre_puntos(x1=x1,y1=y1,x2=x0,y2=y0)\n",
    "\n",
    "def funcion_trapecio(x,z,d,a):\n",
    "    if (x>z-d-a and x<z-a):\n",
    "        return (x-z+d+a)/d\n",
    "    elif (x>z+a and x<z+a+d):\n",
    "        return (z+a+d-x)/d\n",
    "    elif (x>=z-a and x<=z+a):\n",
    "        return 1\n",
    "    else:\n",
    "        return 0\n",
    "    \n",
    "class InputError(Exception):\n",
    "    pass\n",
    "\n",
    "class LoadingError(Exception):\n",
    "    pass\n",
    "\n",
    "class OutOfBounds(Exception):\n",
    "    pass\n",
    "\n",
    "class FiberCollision(Exception):\n",
    "    pass\n",
    "\n",
    "class TipoElectrodo(Enum): \n",
    "    punto = 'punto'\n",
    "    circulo = 'circulo'\n",
    "    poligono = 'poligono'\n",
    "\n",
    "class FormaDePloteo(Enum):\n",
    "    fibras_sin_diametro = 'fibras_sin_diametro'\n",
    "    fibras_con_diametro = 'fibras_con_diametro'\n",
    "\n",
    "class DistribucionNervio(Enum):\n",
    "\n",
    "    uniforme_con_superposicion = 'uniforme_con_superposicion',\n",
    "    manual = 'manual'\n",
    "    desde_archivo = 'desde_archivo'\n",
    "    uniforme_sin_superposicion = \"uniforme_sin_superposicion\"\n",
    "\n",
    "class VariacionNodos (Enum):\n",
    "    uniforme = 'uniforme'\n",
    "    normal = 'normal'\n",
    "\n",
    "class Nervio:\n",
    "    \"\"\"Nervio.\n",
    "\n",
    "    Atributos:\n",
    "        diametro: es un entero que indica el diámetro del nervio\n",
    "        fibras: es una lista con los objetos fibras\n",
    "        cantidad_fibras: es un entero que indica la cantidad de fibras que se encuentran en el nervio\n",
    "        limites: es una lista que contiene los límites espaciales del nervio de la siguiente forma: [límite superior,límite inferior,límite derecho, límite izquierdo]\n",
    "        centro_de_coordenadas: ubicación del centro de coordenadas x e y (centro del nervio).\n",
    "    \"\"\"\n",
    "    def __init__(self,diametro = 250,longitud = 50000,conductividad_transversal = None,porcentaje_cobertura = None):\n",
    "        #! valores por defecto de cond o porcentaje?\n",
    "        \"\"\"Método constructor de la clase Nervio.\n",
    "\n",
    "        Args:\n",
    "            diametro (int, optional): Diámetro del nervio. Por defecto 250 um.\n",
    "        \"\"\"\n",
    "        self.radio = diametro/2\n",
    "        self.fibras = []\n",
    "        self.cantidad_fibras = 0\n",
    "        self.limite_lateral_izquierdo = -self.radio\n",
    "        self.limite_lateral_derecho = self.radio\n",
    "        self.limite_superior = self.radio\n",
    "        self.limite_inferior = -self.radio\n",
    "        self.centro_nervio_x = 0\n",
    "        self.centro_nervio_y = 0 \n",
    "        self.informacion_nodos = []\n",
    "        self.longitud_nervio = longitud\n",
    "        self.conductividad_transversal = conductividad_transversal\n",
    "        self.porcentaje_cobertura = porcentaje_cobertura\n",
    "\n",
    "        if self.conductividad_transversal is None and self.porcentaje_cobertura is None:\n",
    "            raise InputError(\"Se debe ingresar ya sea un valor de conductividad transversal o un porcentaje de cobertura.\")\n",
    "       \n",
    "    \n",
    "    def obtener_lista_fibras(self):\n",
    "        \"\"\"Método para obtener una lista con la información de las fibras dentro del nervio.\n",
    "\n",
    "        Returns:\n",
    "            numpy.ndarray: Devuelve un array cuyas dos primeras columnas son las coordenadas x e y de cada fibra, y la tercera columna contiene información del diámetro de las fibras.\n",
    "        \"\"\"\n",
    "        return np.array([fibra.obtener_info_fibra() for fibra in self.fibras])\n",
    " \n",
    "    def poblar(self,metodo_poblacion='uniforme_con_superposicion',num_fibras=200,semilla=None,diametro_fibra = 0, var_diametro = 0,**kwargs): #!\n",
    "        #! cual deberia ser el predeterminado?\n",
    "        \"\"\"Método para poblar el nervio con las fibras nerviosas. \n",
    "\n",
    "        Args:\n",
    "            metodo_poblacion (str, optional): Tipo de método de población de fibras en el nervio. Por defecto es 'uniforme'.\n",
    "            num_fibras (int, optional): Número de fibras que contendrá el nervio. Por defecto son 200.\n",
    "            semilla (int, optional): Número de la semilla. Por defecto es None.\n",
    "            diametro_fibra (float, optional): Diámetro de la fibra en micrones. Por defecto es 0, si se trata de fibras puntuales.\n",
    "\n",
    "        Raises:\n",
    "            InputError: Si el método de población ingresado no se encuentra entre las opciones disponibles.\n",
    "        \"\"\"\n",
    "       \n",
    "        if metodo_poblacion == DistribucionNervio.uniforme_con_superposicion.name:\n",
    "            self.uniforme_con_superposicion(num_fibras=num_fibras,semilla=semilla,diametro_fibra=diametro_fibra,var_diametro = var_diametro)\n",
    "        elif metodo_poblacion == DistribucionNervio.manual.name:\n",
    "            self.manual(diametro_fibra=diametro_fibra,lista_fibras = kwargs.get('lista_fibras',None))\n",
    "        elif metodo_poblacion == DistribucionNervio.desde_archivo.name:\n",
    "            self.desde_archivo(diametro_fibra=diametro_fibra, ubicacion_archivo = kwargs.get('ubicacion_archivo',None))\n",
    "        elif metodo_poblacion == DistribucionNervio.uniforme_sin_superposicion.name:\n",
    "            self.uniforme_sin_suporsicion(num_fibras=num_fibras,semilla=semilla,diametro_fibra=diametro_fibra,var_diametro=var_diametro)\n",
    "        else:\n",
    "            raise InputError ('El método de población ingresado no es correcto.')\n",
    "    \n",
    "    def uniforme_con_superposicion(self,num_fibras,semilla,diametro_fibra,var_diametro):\n",
    "        #Tiene centro en (0,0), implementar el traslado \n",
    "        np.random.seed(semilla)\n",
    "        longitud = np.random.uniform(0,self.radio**2, size = num_fibras)\n",
    "        angulo = np.pi * np.random.uniform(0,2,size = num_fibras)\n",
    "        diametros = np.random.normal(diametro_fibra,var_diametro,size = num_fibras)\n",
    "        x = np.sqrt(longitud) * np.cos(angulo)\n",
    "        y = np.sqrt(longitud) * np.sin(angulo)\n",
    "        matriz = np.column_stack((x,y,diametros))\n",
    "        self.fibras = [Fibra(x,y,z) for x,y,z in matriz]\n",
    "        self.cantidad_fibras = num_fibras\n",
    "\n",
    "    def uniforme_sin_suporsicion(self,num_fibras,semilla,diametro_fibra,var_diametro): #!\n",
    "        #! ver que rayos hago con este método\n",
    "        np.random.seed(semilla)\n",
    "\n",
    "        lista = []\n",
    "        while len(lista) < num_fibras:\n",
    "            choque = False\n",
    "            length = np.random.uniform(0,self.radio**2)\n",
    "            angle = np.pi * np.random.uniform(0, 2)\n",
    "            diam = np.random.normal(diametro_fibra,var_diametro)\n",
    "            x = np.sqrt(length) * np.cos(angle)\n",
    "            y = np.sqrt(length) * np.sin(angle)\n",
    "\n",
    "            for a,b,c in lista:\n",
    "                if distancia_entre_circulos(x,y,diam/2,a,b,c/2) < 0:\n",
    "                    choque = True\n",
    "            if choque is False and is_inside_circencirc(diam/2,x,y,self.radio,self.centro_nervio_x,self.centro_nervio_y):\n",
    "                lista.append([x,y,diam])\n",
    "        self.fibras = [Fibra(x,y,diam) for x,y,diam in lista]\n",
    "        self.cantidad_fibras = num_fibras\n",
    "\n",
    "    def manual(self,lista_fibras,diametro_fibra): #! nuevo método\n",
    "        try:  \n",
    "            f = [Fibra(x,y,d) for x,y,d in lista_fibras if is_inside_circencirc(d/2,x,y,self.radio,self.centro_nervio_x,self.centro_nervio_y)]\n",
    "        except ValueError:\n",
    "            f = [Fibra(x,y,diametro_fibra) for x,y in lista_fibras if is_inside_circencirc(diametro_fibra/2,x,y,self.radio,self.centro_nervio_x,self.centro_nervio_y)]\n",
    "        if len(f)!=len(lista_fibras):\n",
    "            raise OutOfBounds (\"Se encontró por lo menos una fibra fuera de los límites del nervio.\")        \n",
    "        self.fibras= f\n",
    "        self.cantidad_fibras = len(lista_fibras)\n",
    "    \n",
    "    def desde_archivo(self,diametro_fibra,ubicacion_archivo): #! nuevo método\n",
    "        try:\n",
    "            fibras = np.genfromtxt(ubicacion_archivo, delimiter = ',')\n",
    "        except Exception as e:\n",
    "            raise LoadingError('Fallo en carga de archivo.') from e\n",
    "        \n",
    "        if not np.isnan(sum(fibras)).any() and np.issubdtype(fibras.dtype, np.number):\n",
    "            self.manual_final(diametro_fibra=diametro_fibra,lista_fibras = fibras)   \n",
    "        else:\n",
    "            raise ValueError (\"La lista contiene caracteres que no son números.\")\n",
    " \n",
    "    def setear_diametros_fibras(self,diametro,variacion):\n",
    "        radio = diametro/2\n",
    "        for f in self.fibras:\n",
    "            f.radio = np.random.normal(radio,variacion)\n",
    "\n",
    "    def ploteo_fibras_puntos(self,borde_nervio = 'blue', relleno_nervio = 'None', color_fibras = 'r'):\n",
    "        \"\"\"Método para graficar una vista transversal del nervio. Las fibras se muestran como puntos (sin diámetro real).\n",
    "\n",
    "        Args:\n",
    "            borde_nervio (str, optional): Color del borde del nervio. Por defecto es azul ('blue').\n",
    "            relleno_nervio (str, optional): Color del relleno del nervio. Por defecto no tiene color ('None').\n",
    "            color_fibras (str, optional): Color de las fibras, graficadas como puntos. Escribirlo según formato aceptable por Matplotlib. Por defecto es rojo ('r').\n",
    "        \"\"\"\n",
    "        \n",
    "        #Ploteo de las fibras\n",
    "        forma_fibras = color_fibras + \" .\"\n",
    "        matriz = self.obtener_lista_fibras()\n",
    "        plt.plot(matriz[:,0],matriz[:,1],forma_fibras,label = 'Fibras')\n",
    "\n",
    "        #Ploteo del nervio\n",
    "        plt.gca().add_patch(plt.Circle((0,0),self.radio, edgecolor = borde_nervio, facecolor = relleno_nervio,label = 'Nervio'))\n",
    "        \n",
    "        plt.axis('equal')\n",
    "        plt.show()\n",
    "    \n",
    "    def ploteo_fibras_circulos(self, borde_nervio = 'blue', relleno_nervio = 'None', borde_fibras = 'red', relleno_fibras = 'None'):\n",
    "        \"\"\"Método para graficar una vista transversal del nervio. Las fibras se muestran como círculos, con su respectivo diámetro.\n",
    "\n",
    "        Args:\n",
    "            borde_nervio (str, optional): Color del borde del nervio. Por defecto es azul ('blue').\n",
    "            relleno_nervio (str, optional): Color del relleno del nervio. Por defecto no tiene color ('None').\n",
    "            borde_fibras (str, optional): Color del borde de las fibras. Por defecto es rojo ('red').\n",
    "            relleno_fibras (str, optional): Color del relleno de las fibras. Por defecto no tiene color ('None').\n",
    "\n",
    "        Raises:\n",
    "            InputError: Cuando se encuentra por lo menos una fibra con diámetro igual a 0.\n",
    "        \"\"\"\n",
    "        matriz = self.obtener_lista_fibras()\n",
    "        if matriz[:,2].any() == 0:\n",
    "            raise InputError (\"Por lo menos una fibra tiene diámetro igual a 0.\")\n",
    "\n",
    "        #Ploteo de las fibras\n",
    "        for i in range(len(matriz)):\n",
    "            circle = plt.Circle((matriz[i,0],matriz[i,1]),matriz[i,2],edgecolor = borde_fibras,facecolor = relleno_fibras,label=\"Fibras\" if i == 0 else \"\")\n",
    "            plt.gca().add_patch(circle)\n",
    "\n",
    "        #Ploteo del nervio\n",
    "        plt.gca().add_patch(plt.Circle((0,0),self.radio, edgecolor = borde_nervio, facecolor = relleno_nervio, label = 'Nervio'))\n",
    "\n",
    "        plt.axis('equal')\n",
    "        plt.show()\n",
    "    \n",
    "    def detectar_colisiones (self): #!\n",
    "        #! ver que rayos hago con este método, porque no le estaría encontrando razón de ser\n",
    "        \"\"\"Función que detecta colisiones entre fibras, y de fibras con el límite del nervio.\n",
    "\n",
    "        Raises:\n",
    "            FiberCollision: Error que indica que se encontró por lo menos una colisión entre fibras.\n",
    "            OutOfBounds: Error que indica cuando se encuentra por lo menos una fibra colisionando con el límite del nervio.\n",
    "        \"\"\"\n",
    "    \n",
    "        matriz = self.obtener_lista_fibras()\n",
    "        \n",
    "        for j in range(len(matriz)):\n",
    "            x1, y1, r1 = matriz[j]\n",
    "            for i in range(j+1,len(matriz)):\n",
    "                x2, y2, r2  = matriz[i]\n",
    "                if distancia_entre_puntos(x1,y1,x2,y2) < r1+r2:\n",
    "                    raise FiberCollision (\"Las fibras están colisionando.\")\n",
    "            if not is_inside_circencirc(r1,x1,y1,self.radio,self.centro_nervio_x,self.centro_nervio_y):\n",
    "                raise OutOfBounds (\"Por lo menos una fibra se encuentra fuera de los límites del nervio.\")\n",
    "   \n",
    "    def agregar_nodos(self,distancia_nodos,variacion,desplazamiento,distribucion_variacion = 'uniforme'):\n",
    "        \"\"\"_summary_\n",
    "\n",
    "        Args:\n",
    "            longitud_fibra (_type_): _description_\n",
    "            distancia_nodos (_type_): _description_\n",
    "            variacion (_type_): _description_\n",
    "            desplazamiento (_type_): _description_\n",
    "            distribucion_variacion (str, optional): _description_. Defaults to 'uniforme'.\n",
    "        \"\"\"\n",
    "        self.informacion_nodos = [f.ubicar_nodos(distancia_nodos = distancia_nodos,variacion = variacion, desplazamiento=np.random.uniform(-desplazamiento,desplazamiento),distribucion_variacion=distribucion_variacion,longitud_fibra= self.longitud_nervio) for f in self.fibras]\n",
    "\n",
    "class Fibra: \n",
    "    #! agregar un booleano para ver si es puntual o no, independientemente del radio\n",
    "    #! diametro va a ser para la velocidad de conduccion o para cuestiones geométricas\n",
    "    \"\"\"Fibra.\n",
    "    \"\"\"\n",
    "    def __init__(self,x,y,diametro):\n",
    "        \"\"\"Método constructor de la clase Fibra.\n",
    "\n",
    "        Args:\n",
    "            x (float): Posición x del centro de la fibra\n",
    "            y (float): Posición y del centro de la fibra\n",
    "            diametro (float): Diámetro de la fibra.\n",
    "        \"\"\"\n",
    "        self.x = x\n",
    "        self.y = y\n",
    "        self.radio = diametro/2\n",
    "        self.ubicacion_nodos = []\n",
    "        self.cantidad_nodos = len(self.ubicacion_nodos)\n",
    "\n",
    "    def obtener_info_fibra(self):\n",
    "        return [self.x,self.y,self.radio]\n",
    "    \n",
    "    def ubicar_nodos(self,longitud_fibra,distancia_nodos,variacion,desplazamiento, distribucion_variacion):\n",
    "        \"\"\"_summary_\n",
    "\n",
    "        Args:\n",
    "            longitud_fibra (_type_): _description_\n",
    "            distancia_nodos (_type_): _description_\n",
    "            variacion (_type_): _description_\n",
    "            desplazamiento (_type_): _description_\n",
    "            distribucion_variacion (_type_): _description_\n",
    "\n",
    "        Returns:\n",
    "            _type_: _description_\n",
    "        \"\"\"\n",
    "        arr = np.arange(-longitud_fibra/2,longitud_fibra*1.5 +1,distancia_nodos)\n",
    "        if distribucion_variacion == VariacionNodos.uniforme.name:\n",
    "            var = np.random.uniform(-variacion/2,variacion/2,len(arr)) + desplazamiento\n",
    "        elif distribucion_variacion == VariacionNodos.normal.name:\n",
    "            var = np.random.normal(0,variacion,len(arr)) + desplazamiento\n",
    "        \n",
    "        ubicacion = arr + var\n",
    "        ubicacion = ubicacion[(ubicacion > 0) & (ubicacion < longitud_fibra)]\n",
    "        self.ubicacion_nodos = ubicacion\n",
    "        return ubicacion\n",
    "\n",
    "class Electrodo:    \n",
    "    \"\"\"Electrodo.\n",
    "    \"\"\"\n",
    "    \n",
    "    def __init__(self,tipo,zona_influencia,grosor = 0,**kwargs):\n",
    "        \"\"\"Método constructor de la clase Electrodo.\n",
    "\n",
    "        Args:\n",
    "            tipo (str): Tipo de electrodo. Puede ser 'punto', 'circulo' o 'poligono'.\n",
    "\n",
    "        Raises:\n",
    "            InputError: Si el tipo de electrodo ingresado no es correcto.\n",
    "            Exception: Si no se ingresan los parámetros necesarios para cada tipo de electrodo.\n",
    "        \"\"\"\n",
    "        try:\n",
    "            self.tipo = TipoElectrodo(tipo)\n",
    "        except ValueError as e:\n",
    "            raise InputError('El tipo de electrodo ingresado no es correcto.') from e\n",
    "        \n",
    "        #!ver si me manejo con listas o arrays\n",
    "        self.dist_al_electrodo = []\n",
    "        self.wmax = [] #!ver si lo hago transversal\n",
    "        self.wlong = []\n",
    "        self.grosor = grosor\n",
    "        self.zona_influencia = zona_influencia\n",
    "\n",
    "        if self.tipo == TipoElectrodo.punto:\n",
    "            self.x = kwargs.get('x')\n",
    "            self.y = kwargs.get('y')\n",
    "            self.z = kwargs.get('z')\n",
    "            self.shape = Point(self.x,self.y)\n",
    "            if self.x is None or self.y is None or self.z is None:\n",
    "                raise Exception('Los parámetros x, y, z son necesarios para electrodo tipo Punto.')\n",
    "        elif self.tipo == TipoElectrodo.circulo:\n",
    "            self.x = kwargs.get('x')\n",
    "            self.y = kwargs.get('y')\n",
    "            self.z = kwargs.get('z')\n",
    "            self.radio = kwargs.get('radio')\n",
    "            self.shape = Point(self.x,self.y).buffer(self.radio)\n",
    "            if self.x is None or self.y is None or self.radio is None or self.z is None:\n",
    "                raise Exception('Los parámetros x, y, z, radio son necesarios para el electrodo tipo Círculo.')\n",
    "        elif self.tipo == TipoElectrodo.poligono:\n",
    "            self.z = kwargs.get('z')\n",
    "            self.coordenadas = kwargs.get('lista_coordenadas')\n",
    "            self.shape = Polygon(self.coordenadas)\n",
    "            if self.z is None or self.coordenadas is None:\n",
    "                raise Exception(\"Los parámetros z y lista_coordenadas son necesarios para el electrodo tipo Polígono.\")\n",
    "\n",
    "    def ploteo_electrodo(self,idx):\n",
    "        if self.tipo == TipoElectrodo.punto:\n",
    "            x,y = self.shape.x,self.shape.y\n",
    "            plt.plot(x,y,'.',label = f\"Electrodo {idx}\")\n",
    "        elif self.tipo == TipoElectrodo.circulo or self.tipo == TipoElectrodo.poligono:\n",
    "            x,y = self.shape.exterior.xy\n",
    "            plt.plot(x,y,label = f\"Electrodo {idx}\")\n",
    "\n",
    "    def calcular_distancias(self,lista_fibras): \n",
    "        \"\"\"Método para calcular distancias desde el electrodo a las fibras.\n",
    "\n",
    "        Args:\n",
    "            lista_fibras (list): Liista de objetos Fibra.\n",
    "        \"\"\"\n",
    "        self.dist_al_electrodo = [self.shape.distance(Point(f.x,f.y)) if f.radio == 0 else self.shape.distance(Point(f.x,f.y).buffer(f.radio)) for f in lista_fibras] \n",
    "\n",
    "    def calcular_wmax(self,nervio):\n",
    "        if nervio.porcentaje_cobertura != None:\n",
    "            cond_transversal = nervio.porcentaje_cobertura/100 * max(self.dist_al_electrodo)\n",
    "        else:\n",
    "            cond_transversal = nervio.conductividad_transversal\n",
    "\n",
    "        self.wmax = [1-(x/cond_transversal) if (x>=0 and x<cond_transversal) else 0 for x in self.dist_al_electrodo]\n",
    "        \n",
    "    def calcular_wlong(self,matriz_nodos):\n",
    "        wlong = []\n",
    "        for lista in matriz_nodos:\n",
    "            wlong.append([funcion_trapecio(x= x,z = self.z,a = self.grosor/2,d = self.zona_influencia) for x in lista])\n",
    "        self.wlong = wlong\n",
    "        \n",
    "class Entorno:\n",
    "    \"\"\"Entorno.\n",
    "    \"\"\"\n",
    "    def __init__(self):\n",
    "        \"\"\"Método constructor de la clase Entorno.\n",
    "        \"\"\"\n",
    "        self.nervio = None \n",
    "        self.electrodos = []\n",
    "    \n",
    "    def crear_nervio(self,diametro = 250,longitud = 50000,metodo_poblacion='uniforme',num_fibras=200,semilla=None,diametro_fibra = 0,distancia_nodos = 100,variacion = 0, desplazamiento = 0, distribucion_variacion = 'uniforme',conductividad_transversal = None, porcentaje_cobertura=None,**kwargs): #! revisar valores por defecto\n",
    "        \"\"\"Método para crear un nervio, poblarlo con fibras y agregar nodos a esas fibras.\n",
    "\n",
    "        Args:\n",
    "            diametro (int, optional): _description_. Defaults to 250.\n",
    "            longitud (int, optional): _description_. Defaults to 50000.\n",
    "            metodo_poblacion (str, optional): _description_. Defaults to 'uniforme'.\n",
    "            num_fibras (int, optional): _description_. Defaults to 200.\n",
    "            semilla (int, optional): _description_. Defaults to None.\n",
    "            diametro_fibra (int, optional): _description_. Defaults to 0.\n",
    "            distancia_nodos (int, optional): _description_. Defaults to 100.\n",
    "            variacion (int, optional): _description_. Defaults to 0.\n",
    "            desplazamiento (int, optional): _description_. Defaults to 0.\n",
    "            distribucion_variacion (str, optional): _description_. Defaults to 'uniforme'.\n",
    "        \"\"\"\n",
    "        self.nervio = Nervio(conductividad_transversal = conductividad_transversal,porcentaje_cobertura=porcentaje_cobertura,diametro=diametro,longitud=longitud,)\n",
    "        self.nervio.poblar(metodo_poblacion=metodo_poblacion,num_fibras=num_fibras,semilla=semilla,diametro_fibra=diametro_fibra,**kwargs)\n",
    "        self.nervio.agregar_nodos(distancia_nodos=distancia_nodos,variacion = variacion, desplazamiento=desplazamiento,distribucion_variacion=distribucion_variacion)\n",
    "    \n",
    "    def crear_electrodo(self,tipo,**kwargs): \n",
    "        \"\"\"Método para crear un electrodo. \n",
    "\n",
    "        Args:\n",
    "            tipo (_type_): _description_\n",
    "        \"\"\"\n",
    "        if self.nervio is None:\n",
    "            raise Exception(\"Se debe crear un nervio antes de crear un electrodo.\")\n",
    "        nuevo_electrodo = Electrodo(tipo,**kwargs)\n",
    "        nuevo_electrodo.calcular_distancias(lista_fibras=self.nervio.fibras)\n",
    "        nuevo_electrodo.calcular_wmax(nervio=self.nervio)\n",
    "        nuevo_electrodo.calcular_wlong(matriz_nodos = self.nervio.informacion_nodos)\n",
    "        self.electrodos.append(nuevo_electrodo)\n",
    "\n",
    "    def quitar_electrodo(self,posicion):\n",
    "        \"\"\"Método para quitar un electrodo.\n",
    "\n",
    "        Args:\n",
    "            posicion (int): Posición del electrodo que se quiere quitar.\n",
    "        \"\"\"\n",
    "        del self.electrodos[posicion]\n",
    "    \n",
    "    def dibujar_entorno(self,forma_ploteo = 'fibras_sin_diametro',titulo = 'Entorno',xlabel = 'x (μm)',ylabel = 'y (μm)',borde_nervio = 'blue',relleno_nervio = 'None',**kwargs):\n",
    "        #! por defecto None en los titulos y labels?\n",
    "        \"\"\"Método para dibujar el entorno de trabajo.\n",
    "        Args:\n",
    "            forma_ploteo (str, optional): Se puede dibujar las fibras con diámetro o como fibras puntuales. Por defecto es 'fibras_sin_diametro'.\n",
    "            titulo (str, optional): Título de la imagen.Por defecto es 'Entorno'.\n",
    "            xlabel (str, optional): Etiqueta en eje x. Por defecto es 'x (μm)'.\n",
    "            ylabel (str, optional): Etiqueta en eje y. Por defecto es 'y (μm)'.\n",
    "            borde_nervio (str, optional): Color del borde del nervio. Por defecto es 'blue'.\n",
    "            relleno_nervio (str, optional): Color del relleno del nervio. Por defecto es 'None'.\n",
    "\n",
    "        Raises:\n",
    "            InputError: Error al introducir una forma de ploteo incorrecta.\n",
    "        \"\"\"\n",
    "        if forma_ploteo == FormaDePloteo.fibras_con_diametro.name:\n",
    "            self.nervio.ploteo_fibras_circulos(borde_nervio=borde_nervio,relleno_nervio=relleno_nervio,borde_fibras=kwargs.get('borde_fibras','red'),relleno_fibras=kwargs.get('relleno_fibras','None'))\n",
    "        elif forma_ploteo == FormaDePloteo.fibras_sin_diametro.name:\n",
    "            self.nervio.ploteo_fibras_puntos(borde_nervio=borde_nervio,relleno_nervio=relleno_nervio,color_fibras=kwargs.get('color_fibras','r'))\n",
    "        else:\n",
    "            raise InputError('Ingrese una forma de ploteo correcta. Puede ser \\'fibras_con_diametro\\' o \\'fibras_sin_diametro\\' ')\n",
    "\n",
    "        for electrodo in self.electrodos:\n",
    "            idx = self.electrodos.index(electrodo)\n",
    "            electrodo.ploteo_electrodo(idx)\n",
    "        plt.xlabel(xlabel)\n",
    "        plt.ylabel(ylabel)\n",
    "        plt.title(titulo)\n",
    "        plt.legend(fontsize = 'xx-small')\n",
    "        plt.axis('equal')\n",
    "        plt.show()\n",
    "        \n",
    "    def imprimir_distancias(self): #TODO despues, hacer tareas de visualizacion sin graficar \n",
    "        lista = [electrodo.dist_al_electrodo for electrodo in self.electrodos]\n",
    "        return np.array(lista)\n",
    "                \n"
   ]
  },
  {
   "attachments": {},
   "cell_type": "markdown",
   "metadata": {},
   "source": [
    "### <stan style = \"color : cyan \">Pruebas de shapely  </stan>"
   ]
  },
  {
   "cell_type": "code",
   "execution_count": null,
   "metadata": {},
   "outputs": [],
   "source": [
    "circle = Point(0, 0).buffer(1)\n",
    "#Point(3,3).distance(circle)\n",
    "circle.distance(Point(3,3))"
   ]
  },
  {
   "cell_type": "code",
   "execution_count": null,
   "metadata": {},
   "outputs": [],
   "source": [
    "circle1 = Point(0,0).buffer(1)\n",
    "circle2 = Point(2,0).buffer(1)\n",
    "circle1.distance(circle2)"
   ]
  },
  {
   "attachments": {},
   "cell_type": "markdown",
   "metadata": {},
   "source": [
    "### <stan style = \"color : cyan \">Pruebas de objetos nervio  </stan>"
   ]
  },
  {
   "attachments": {},
   "cell_type": "markdown",
   "metadata": {},
   "source": [
    "#### <stan style=\"color : orange\"> Nervios del paper</stan>"
   ]
  },
  {
   "cell_type": "code",
   "execution_count": null,
   "metadata": {},
   "outputs": [],
   "source": [
    "a = Nervio(diametro=1500)\n",
    "a.poblar(metodo_poblacion = 'uniforme_sin_superposicion', num_fibras=4000,diametro_fibra=5.5)\n",
    "a.ploteo_fibras_circulos(borde_fibras='cyan',borde_nervio='black')\n",
    "#a.detectar_colisiones()\n",
    "#a.ploteo_fibras_puntos()"
   ]
  },
  {
   "cell_type": "code",
   "execution_count": null,
   "metadata": {},
   "outputs": [],
   "source": [
    "# Nervio ciático\n",
    "a = Nervio(diametro=1500)\n",
    "a.megauniforme(num_fibras=4000,diametro_fibra=5.5,variacion=1.5,semilla=None)\n",
    "a.ploteo_fibras_circulos(borde_fibras='cyan',borde_nervio='black')"
   ]
  },
  {
   "cell_type": "code",
   "execution_count": null,
   "metadata": {},
   "outputs": [],
   "source": [
    "# Nervio infraorbitario\n",
    "a = Nervio(diametro=1265)\n",
    "a.megauniforme(num_fibras=5207,diametro_fibra=4.5,variacion=1.5,semilla=None)\n",
    "a.ploteo_fibras_circulos(borde_fibras='cyan',borde_nervio='black')"
   ]
  },
  {
   "attachments": {},
   "cell_type": "markdown",
   "metadata": {},
   "source": [
    "#### <stan style = \"color : orange \"> Manual - unión de los dos en uno solo </stan>"
   ]
  },
  {
   "cell_type": "code",
   "execution_count": null,
   "metadata": {},
   "outputs": [],
   "source": [
    "b = Nervio()\n",
    "b.manual(lista_fibras=[[73.23958313,3.92731714],[9.90834512,-38.99651803],[-57.91269168,39.38951769]],diametro_fibra=30)\n",
    "b.ploteo_fibras_circulos()"
   ]
  },
  {
   "cell_type": "code",
   "execution_count": null,
   "metadata": {},
   "outputs": [],
   "source": [
    "b = Nervio()\n",
    "b.manual(lista_fibras=[[ 105.90918048,-55.69804927,10],[7.98922866,-108.79089886,10],[95.24152036,-46.07808487,10]],diametro_fibra = 2)\n",
    "b.ploteo_fibras_circulos()"
   ]
  },
  {
   "attachments": {},
   "cell_type": "markdown",
   "metadata": {},
   "source": [
    "#### <stan style = \"color : orange \">Prueba de tiempo para el método con y sin superposición  </stan>"
   ]
  },
  {
   "cell_type": "code",
   "execution_count": null,
   "metadata": {},
   "outputs": [],
   "source": [
    "#ya no puedo correr esto porque les cambié el nombre\n",
    "import time\n",
    "fibs = [200, 250, 300]\n",
    "diams = [1,5,10]\n",
    "for fib in fibs:\n",
    "    print(f'Fibras: {fib}')\n",
    "    for diam in diams:\n",
    "        print(f'Diametro: {diam}')\n",
    "        for i in range(10):\n",
    "            start = time.time()\n",
    "            a = Nervio()\n",
    "            a.poblar(metodo_poblacion = 'uniforme_sin_superposicion',num_fibras=fib,diametro_fibra=diam)\n",
    "            #a.ploteo_fibras_circulos(borde_nervio= 'magenta', borde_fibras= 'cyan',relleno_fibras='cyan')\n",
    "            end = time.time()\n",
    "            print(f'Done in {end-start}')\n"
   ]
  },
  {
   "attachments": {},
   "cell_type": "markdown",
   "metadata": {},
   "source": [
    "#### <stan style = \"color : orange \"> Pruebas para poblar desde archivo - unión de los dos métodos  </stan>"
   ]
  },
  {
   "cell_type": "code",
   "execution_count": null,
   "metadata": {},
   "outputs": [],
   "source": [
    "c = Nervio(diametro=250)\n",
    "c.desde_archivo(diametro_fibra = 0,ubicacion_archivo = 'C:/Users/aguir/Desktop/Prroyecto/python/fibras_sindiametro.csv')\n",
    "c.ploteo_fibras_puntos()"
   ]
  },
  {
   "cell_type": "code",
   "execution_count": null,
   "metadata": {},
   "outputs": [],
   "source": [
    "c = Nervio(diametro=250)\n",
    "c.desde_archivo_condiametro(ubicacion_archivo = 'C:/Users/aguir/Desktop/Prroyecto/python/fibras_condiametro.csv')\n",
    "c.ploteo_fibras_circulos()"
   ]
  },
  {
   "cell_type": "code",
   "execution_count": null,
   "metadata": {},
   "outputs": [],
   "source": [
    "c = Nervio()\n",
    "c.desde_archivo_final(diametro_fibra=0,ubicacion_archivo='C:/Users/aguir/Desktop/Prroyecto/python/fibras_sindiametro.csv')\n",
    "#c.desde_archivo_final(diametro_fibra=0,ubicacion_archivo='C:/Users/aguir/Desktop/Prroyecto/python/fibras_condiametro.csv')\n",
    "c.ploteo_fibras_puntos()\n",
    "#c.ploteo_fibras_circulos()\n"
   ]
  },
  {
   "attachments": {},
   "cell_type": "markdown",
   "metadata": {},
   "source": [
    "#### <stan style = \"color : orange \">Prueba del método para setear los diámetros variables de las fibras </stan>"
   ]
  },
  {
   "cell_type": "code",
   "execution_count": null,
   "metadata": {},
   "outputs": [],
   "source": [
    "#Prueba de setear diametros de fibras\n",
    "#Esto solo tendría sentido si es que comienza siendo una fibra sin diametro y después se le asigna\n",
    "b = Nervio()\n",
    "b.poblar(num_fibras=10,diametro_fibra=1) #por mas que le setee un diametro a la fibra, si despues corro el setear diametros los cambia\n",
    "b.setear_diametros_fibras(10,1)\n",
    "b.ploteo_fibras_circulos()"
   ]
  },
  {
   "cell_type": "code",
   "execution_count": null,
   "metadata": {},
   "outputs": [],
   "source": [
    "b.obtener_lista_fibras()"
   ]
  },
  {
   "attachments": {},
   "cell_type": "markdown",
   "metadata": {},
   "source": [
    "#### <stan style=\"color : orange\">Uniforme con superposicion: diam variable vs fijo</stan>"
   ]
  },
  {
   "cell_type": "code",
   "execution_count": null,
   "metadata": {},
   "outputs": [],
   "source": [
    "a = Nervio()\n",
    "a.uniforme_diam_var(num_fibras=200,semilla=None,diametro_fibra=4.5,var = 0)\n",
    "a.ploteo_fibras_circulos()"
   ]
  },
  {
   "cell_type": "code",
   "execution_count": null,
   "metadata": {},
   "outputs": [],
   "source": [
    "a = Nervio()\n",
    "a.distribucion_uniforme(num_fibras=200,semilla=None,diametro_fibra=4.5)\n",
    "a.ploteo_fibras_circulos()"
   ]
  },
  {
   "attachments": {},
   "cell_type": "markdown",
   "metadata": {},
   "source": [
    "#### <stan style=\"color :orange\">Uniforme sin superposición: diam variable vs fijo</stan>"
   ]
  },
  {
   "cell_type": "code",
   "execution_count": null,
   "metadata": {},
   "outputs": [],
   "source": [
    "a = Nervio()\n",
    "a.megauniforme(num_fibras=200,semilla=None,diametro_fibra=4.5,variacion=0)\n",
    "a.ploteo_fibras_circulos()"
   ]
  },
  {
   "cell_type": "code",
   "execution_count": null,
   "metadata": {},
   "outputs": [],
   "source": [
    "a = Nervio()\n",
    "a.uniforme_sin_superposicion(num_fibras=200,semilla=None,diametro_fibra=4.5)\n",
    "a.ploteo_fibras_circulos()"
   ]
  },
  {
   "attachments": {},
   "cell_type": "markdown",
   "metadata": {},
   "source": [
    "### <stan style = \"color : cyan \">Pruebas de objetos electrodos  </stan>"
   ]
  },
  {
   "cell_type": "code",
   "execution_count": null,
   "metadata": {},
   "outputs": [],
   "source": [
    "a = Nervio()\n",
    "a.poblar(metodo_poblacion = 'manual', lista_fibras = [[-125,0]],diametro_fibra=10)\n",
    "a.ploteo_fibras_circulos()"
   ]
  },
  {
   "cell_type": "code",
   "execution_count": null,
   "metadata": {},
   "outputs": [],
   "source": [
    "a = Nervio()\n",
    "a.poblar(metodo_poblacion = 'manual', lista_fibras = [[0,0]],diametro_fibra=50)\n",
    "a.ploteo_fibras_circulos()"
   ]
  },
  {
   "cell_type": "code",
   "execution_count": null,
   "metadata": {},
   "outputs": [],
   "source": [
    "a = Nervio()\n",
    "a.poblar()\n",
    "a.ploteo_fibras_puntos()"
   ]
  },
  {
   "cell_type": "code",
   "execution_count": null,
   "metadata": {},
   "outputs": [],
   "source": [
    "e = Electrodo(tipo = 'circulo',x = 0,y = -150,z = 10, radio = 5)"
   ]
  },
  {
   "cell_type": "code",
   "execution_count": null,
   "metadata": {},
   "outputs": [],
   "source": [
    "e.calcular_distancias(a.fibras)"
   ]
  },
  {
   "cell_type": "code",
   "execution_count": null,
   "metadata": {},
   "outputs": [],
   "source": [
    "e.dist_al_electrodo"
   ]
  },
  {
   "cell_type": "code",
   "execution_count": null,
   "metadata": {},
   "outputs": [],
   "source": [
    "e = Electrodo(tipo = 'poligono',z = 10,lista_coordenadas = [(-125,-150),(125,-150),(125,-155),(-125,-155)])"
   ]
  },
  {
   "cell_type": "code",
   "execution_count": null,
   "metadata": {},
   "outputs": [],
   "source": [
    "e.distancia_al_electrodo_poligono(a.fibras)"
   ]
  },
  {
   "cell_type": "code",
   "execution_count": null,
   "metadata": {},
   "outputs": [],
   "source": [
    "a = Nervio(porcentaje_cobertura=100)\n",
    "a.poblar(num_fibras=5)\n",
    "a.agregar_nodos(distancia_nodos=100, variacion=50,desplazamiento=100,distribucion_variacion='uniforme')\n",
    "\n",
    "e = Electrodo(tipo='punto',x = 0,y = -125,z = 20000)\n",
    "a.informacion_nodos"
   ]
  },
  {
   "cell_type": "code",
   "execution_count": null,
   "metadata": {},
   "outputs": [],
   "source": [
    "e.calcular_wlong(matriz_nodos = a.informacion_nodos,grosor=0,zona_influencia=10000)"
   ]
  },
  {
   "cell_type": "code",
   "execution_count": null,
   "metadata": {},
   "outputs": [],
   "source": [
    "e.wlong"
   ]
  },
  {
   "cell_type": "code",
   "execution_count": null,
   "metadata": {},
   "outputs": [],
   "source": [
    "pos = list(range(1,101))\n",
    "y = [funcion_trapecio(x=x,z=50,d=20,a=0) for x in pos]"
   ]
  },
  {
   "cell_type": "code",
   "execution_count": null,
   "metadata": {},
   "outputs": [],
   "source": [
    "plt.plot(pos,y,'r .')"
   ]
  },
  {
   "attachments": {},
   "cell_type": "markdown",
   "metadata": {},
   "source": [
    "#### <stan style = \"color : orange \">Wmax</stan>\n"
   ]
  },
  {
   "cell_type": "code",
   "execution_count": null,
   "metadata": {},
   "outputs": [],
   "source": [
    "a = Nervio(porcentaje_cobertura=100)\n",
    "a.poblar(metodo_poblacion='uniforme_sin_superposicion',diametro_fibra=5)\n",
    "e = Electrodo(tipo='punto',x = 0,y=-125,z=5)\n",
    "e.calcular_distancias(a.fibras)\n",
    "e.calcular_wmax(a)\n",
    "e.wmax"
   ]
  },
  {
   "cell_type": "code",
   "execution_count": null,
   "metadata": {},
   "outputs": [],
   "source": [
    "a.ploteo_fibras_circulos()"
   ]
  },
  {
   "cell_type": "code",
   "execution_count": null,
   "metadata": {},
   "outputs": [],
   "source": [
    "e.dist_al_electrodo"
   ]
  },
  {
   "attachments": {},
   "cell_type": "markdown",
   "metadata": {},
   "source": [
    "### <stan style = \"color: cyan\"> Ubicacion de los nodos </stan>"
   ]
  },
  {
   "cell_type": "code",
   "execution_count": null,
   "metadata": {},
   "outputs": [],
   "source": [
    "#Uniforme\n",
    "a = Nervio()\n",
    "a.poblar(num_fibras=3)\n",
    "a.cantidad_fibras\n",
    "a.agregar_nodos(longitud_fibra=50000,distancia_nodos=10000, variacion= 0,desplazamiento=10)\n",
    "a.ubicacion_nodos"
   ]
  },
  {
   "cell_type": "code",
   "execution_count": null,
   "metadata": {},
   "outputs": [],
   "source": [
    "#Gauss\n",
    "a = Nervio()\n",
    "a.poblar()\n",
    "a.agregar_nodos_gauss(z = 10, cantidad_nodos=5,distancia_nodos=3,sigma_desplazamiento=1,sigma_distancia=5)"
   ]
  },
  {
   "attachments": {},
   "cell_type": "markdown",
   "metadata": {},
   "source": [
    "### <stan style = \"color : cyan \">Prueba clase Entorno  </stan>"
   ]
  },
  {
   "cell_type": "code",
   "execution_count": null,
   "metadata": {},
   "outputs": [],
   "source": [
    "a = Entorno()\n",
    "a.crear_nervio(metodo_poblacion = 'uniforme_sin_superposicion',diametro_fibra=5,distancia_nodos=1000,longitud=50000)\n",
    "a.crear_electrodo(tipo='circulo',x=0,y=-150,z=10,radio = 10)\n",
    "a.crear_electrodo(tipo='circulo',x=50,y=-150,z=10,radio = 15)\n",
    "a.crear_electrodo(tipo='punto',x = -50,y = -125,z = 3)\n",
    "a.crear_electrodo(tipo='poligono',lista_coordenadas = [(-25,-150),(25,-150),(25,-160),(-25,-160)],z=10)\n",
    "a.dibujar_entorno(forma_ploteo='fibras_con_diametro')\n",
    "\n",
    "\n"
   ]
  },
  {
   "cell_type": "code",
   "execution_count": null,
   "metadata": {},
   "outputs": [],
   "source": [
    "a.nervio.obtener_lista_fibras()"
   ]
  },
  {
   "cell_type": "code",
   "execution_count": null,
   "metadata": {},
   "outputs": [],
   "source": [
    "a.imprimir_distancias()"
   ]
  },
  {
   "attachments": {},
   "cell_type": "markdown",
   "metadata": {},
   "source": [
    "#### <stan style = \"color : orange \">Nodos</stan>"
   ]
  },
  {
   "cell_type": "code",
   "execution_count": null,
   "metadata": {},
   "outputs": [],
   "source": [
    "#desde clase nervio\n",
    "a = Nervio(longitud=500000)\n",
    "a.poblar(num_fibras=200)\n",
    "a.agregar_nodos(distancia_nodos=100,variacion=50,desplazamiento=0)\n",
    "#a.informacion_nodos"
   ]
  },
  {
   "cell_type": "code",
   "execution_count": null,
   "metadata": {},
   "outputs": [],
   "source": [
    "a.informacion_nodos"
   ]
  },
  {
   "cell_type": "code",
   "execution_count": null,
   "metadata": {},
   "outputs": [],
   "source": [
    "#Control de que la distancia promedio entre nodos se mantiene parecida a la que yo pongo\n",
    "lista = []\n",
    "for x in a.informacion_nodos:\n",
    "    for i in range(len(x)-1):\n",
    "        lista.append(x[i+1]-x[i])\n",
    "#print(lista)\n",
    "print(np.mean(lista))\n",
    "\n",
    "\n",
    "        "
   ]
  },
  {
   "cell_type": "code",
   "execution_count": null,
   "metadata": {},
   "outputs": [],
   "source": [
    "#desde clase entorno\n",
    "b = Entorno()\n",
    "#b.crear_nervio(metodo_poblacion = 'uniforme_sin_superposicion',diametro_fibra=5,distancia_nodos=1000,longitud=5000)\n",
    "#b.crear_nervio(metodo_poblacion = 'uniforme_sin_superposicion',diametro_fibra=5,distancia_nodos=1000,longitud=5000,desplazamiento=10)\n",
    "b.crear_nervio(metodo_poblacion = 'uniforme_sin_superposicion',diametro_fibra=5,distancia_nodos=1000,longitud=5000,variacion=10)\n",
    "b.nervio.informacion_nodos\n"
   ]
  },
  {
   "attachments": {},
   "cell_type": "markdown",
   "metadata": {},
   "source": [
    "#### <stan style = \"color : orange \">Distancias de las fibras al electrodo</stan>"
   ]
  },
  {
   "cell_type": "code",
   "execution_count": 21,
   "metadata": {},
   "outputs": [],
   "source": [
    "a = Entorno()\n",
    "a.crear_nervio(num_fibras = 20,metodo_poblacion = 'uniforme_sin_superposicion',diametro_fibra=5,distancia_nodos=100,longitud=50000,porcentaje_cobertura = 100)\n",
    "a.crear_electrodo(tipo='circulo',x=0,y=-150,z=10,radio = 10,zona_influencia = 1000,grosor =100)"
   ]
  }
 ],
 "metadata": {
  "kernelspec": {
   "display_name": "venv",
   "language": "python",
   "name": "python3"
  },
  "language_info": {
   "codemirror_mode": {
    "name": "ipython",
    "version": 3
   },
   "file_extension": ".py",
   "mimetype": "text/x-python",
   "name": "python",
   "nbconvert_exporter": "python",
   "pygments_lexer": "ipython3",
   "version": "3.11.0"
  },
  "orig_nbformat": 4,
  "vscode": {
   "interpreter": {
    "hash": "d3d4790347978e8d919f28a79ea164b484ce0ef44808485edf22c4e47cf92347"
   }
  }
 },
 "nbformat": 4,
 "nbformat_minor": 2
}
