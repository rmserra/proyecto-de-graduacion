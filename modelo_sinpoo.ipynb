{
 "cells": [
  {
   "cell_type": "markdown",
   "metadata": {},
   "source": [
    "# <stan style=\"color:orange\">Distribución espacial de las fibras y cálculo de sus distancias al electrodo </stan>"
   ]
  },
  {
   "cell_type": "code",
   "execution_count": 1,
   "metadata": {},
   "outputs": [],
   "source": [
    "import numpy as np\n",
    "import matplotlib.pyplot as plt\n",
    "from scipy import signal\n",
    "#import pandas as pd\n",
    "#from scipy.interpolate import interp1d\n",
    "import random\n",
    "from shapely import Polygon,Point\n",
    "from shapely.plotting import plot_polygon, plot_points\n",
    "#import geopandas as gpd"
   ]
  },
  {
   "cell_type": "code",
   "execution_count": null,
   "metadata": {},
   "outputs": [],
   "source": [
    "import sys\n",
    "!{sys.executable} -m pip install geopandas"
   ]
  },
  {
   "cell_type": "markdown",
   "metadata": {},
   "source": [
    "## <span style=\"color: cyan\"> Señal de entrada</stan>\n"
   ]
  },
  {
   "cell_type": "markdown",
   "metadata": {},
   "source": [
    "Esto no es parte del modelo. Es una forma de generar la entrada al modelo. Esta es una forma medio pobre, voy a tener que buscarle una forma mejor. "
   ]
  },
  {
   "cell_type": "code",
   "execution_count": 5,
   "metadata": {},
   "outputs": [
    {
     "name": "stdout",
     "output_type": "stream",
     "text": [
      "<class 'numpy.ndarray'>\n",
      "[5.0000e-05 1.0000e-04 1.5000e-04 ... 3.9990e-01 3.9995e-01 4.0000e-01] <class 'numpy.ndarray'> 8000\n"
     ]
    },
    {
     "data": {
      "image/png": "[encoded data removed]",
      "text/plain": [
       "<Figure size 640x480 with 1 Axes>"
      ]
     },
     "metadata": {},
     "output_type": "display_data"
    }
   ],
   "source": [
    "fs = 20000\n",
    "#t1 = np.linspace(1/fs, 0.4, 8000)\n",
    "t1=np.arange(1/fs,0.4+1/fs,1/fs)\n",
    "fc = 2000\n",
    "orden = 2\n",
    "b, a = signal.butter(orden, fc/(fs/2))\n",
    "x = np.zeros_like(t1)\n",
    "x[3999] = 1\n",
    "Vm = signal.lfilter(b, a, x)\n",
    "Vm = Vm / np.max(Vm)\n",
    "plt.plot(t1, Vm)\n",
    "print(type(Vm))\n",
    "print(t1,type(t1),len(t1))"
   ]
  },
  {
   "cell_type": "code",
   "execution_count": 40,
   "metadata": {},
   "outputs": [],
   "source": [
    "fs = 20000\n",
    "t_estimulo = 0.4\n",
    "t_inicio = 0.2\n",
    "z = int(t_inicio*fs)\n",
    "\n",
    "# Filtro\n",
    "fc = 100\n",
    "orden = 2"
   ]
  },
  {
   "cell_type": "code",
   "execution_count": 47,
   "metadata": {},
   "outputs": [
    {
     "ename": "TypeError",
     "evalue": "int() argument must be a string, a bytes-like object or a number, not 'list'",
     "output_type": "error",
     "traceback": [
      "\u001b[1;31m---------------------------------------------------------------------------\u001b[0m",
      "\u001b[1;31mTypeError\u001b[0m                                 Traceback (most recent call last)",
      "\u001b[1;32mc:\\Users\\aguir\\Desktop\\Prroyecto\\python\\modelo_sinpoo.ipynb Cell 8\u001b[0m in \u001b[0;36m4\n\u001b[0;32m      <a href='vscode-notebook-cell:/c%3A/Users/aguir/Desktop/Prroyecto/python/modelo_sinpoo.ipynb#Y354sZmlsZQ%3D%3D?line=1'>2</a>\u001b[0m t_estimulo \u001b[39m=\u001b[39m \u001b[39m0.4\u001b[39m\n\u001b[0;32m      <a href='vscode-notebook-cell:/c%3A/Users/aguir/Desktop/Prroyecto/python/modelo_sinpoo.ipynb#Y354sZmlsZQ%3D%3D?line=2'>3</a>\u001b[0m t_inicio \u001b[39m=\u001b[39m [\u001b[39m0.1\u001b[39m,\u001b[39m0.3\u001b[39m]\n\u001b[1;32m----> <a href='vscode-notebook-cell:/c%3A/Users/aguir/Desktop/Prroyecto/python/modelo_sinpoo.ipynb#Y354sZmlsZQ%3D%3D?line=3'>4</a>\u001b[0m z \u001b[39m=\u001b[39m \u001b[39mint\u001b[39;49m(t_inicio\u001b[39m*\u001b[39;49mfs)\n\u001b[0;32m      <a href='vscode-notebook-cell:/c%3A/Users/aguir/Desktop/Prroyecto/python/modelo_sinpoo.ipynb#Y354sZmlsZQ%3D%3D?line=4'>5</a>\u001b[0m fc \u001b[39m=\u001b[39m \u001b[39m100\u001b[39m\n\u001b[0;32m      <a href='vscode-notebook-cell:/c%3A/Users/aguir/Desktop/Prroyecto/python/modelo_sinpoo.ipynb#Y354sZmlsZQ%3D%3D?line=5'>6</a>\u001b[0m orden \u001b[39m=\u001b[39m \u001b[39m2\u001b[39m\n",
      "\u001b[1;31mTypeError\u001b[0m: int() argument must be a string, a bytes-like object or a number, not 'list'"
     ]
    }
   ],
   "source": [
    "fs = 20000\n",
    "t_estimulo = 0.4\n",
    "t_inicio = [0.1,0.3]\n",
    "z = int(t_inicio*fs)\n",
    "fc = 100\n",
    "orden = 2\n",
    "t = np.arange(1/fs,t_estimulo+1/fs,1/fs)\n",
    "b,a = signal.butter(orden,fc/(fs/2))\n",
    "x = np.zeros_like(t)\n",
    "x[100] = 1\n",
    "x[500] = 1\n",
    "Vm = signal.lfilter(b,a,x)\n",
    "Vm = Vm/np.max(Vm)\n",
    "plt.plot(t,Vm)"
   ]
  },
  {
   "cell_type": "code",
   "execution_count": 50,
   "metadata": {},
   "outputs": [
    {
     "data": {
      "text/plain": [
       "[<matplotlib.lines.Line2D at 0x1c704388a60>]"
      ]
     },
     "execution_count": 50,
     "metadata": {},
     "output_type": "execute_result"
    },
    {
     "data": {
      "image/png": "[encoded data removed]",
      "text/plain": [
       "<Figure size 640x480 with 1 Axes>"
      ]
     },
     "metadata": {},
     "output_type": "display_data"
    }
   ],
   "source": [
    "fs = 20000\n",
    "t_estimulo = 0.4\n",
    "inicio = [0.1,0.3]\n",
    "z = [int(x) for x in inicio]\n",
    "fc = 100\n",
    "orden = 2\n",
    "t = np.arange(1/fs,t_estimulo+1/fs,1/fs)\n",
    "b,a = signal.butter(orden,fc/(fs/2))\n",
    "x = np.zeros_like(t)\n",
    "x[100] = 1\n",
    "x[500] = 1\n",
    "Vm = signal.lfilter(b,a,x)\n",
    "Vm = Vm/np.max(Vm)\n",
    "plt.plot(t,Vm)"
   ]
  },
  {
   "cell_type": "code",
   "execution_count": 31,
   "metadata": {},
   "outputs": [
    {
     "data": {
      "text/plain": [
       "4000.0"
      ]
     },
     "execution_count": 31,
     "metadata": {},
     "output_type": "execute_result"
    }
   ],
   "source": [
    "z"
   ]
  },
  {
   "cell_type": "code",
   "execution_count": 49,
   "metadata": {},
   "outputs": [
    {
     "ename": "TypeError",
     "evalue": "int() argument must be a string, a bytes-like object or a number, not 'list'",
     "output_type": "error",
     "traceback": [
      "\u001b[1;31m---------------------------------------------------------------------------\u001b[0m",
      "\u001b[1;31mTypeError\u001b[0m                                 Traceback (most recent call last)",
      "\u001b[1;32mc:\\Users\\aguir\\Desktop\\Prroyecto\\python\\modelo_sinpoo.ipynb Cell 10\u001b[0m in \u001b[0;36m1\n\u001b[1;32m----> <a href='vscode-notebook-cell:/c%3A/Users/aguir/Desktop/Prroyecto/python/modelo_sinpoo.ipynb#Y355sZmlsZQ%3D%3D?line=0'>1</a>\u001b[0m \u001b[39mint\u001b[39;49m([\u001b[39m1\u001b[39;49m,\u001b[39m2\u001b[39;49m,\u001b[39m3\u001b[39;49m])\n",
      "\u001b[1;31mTypeError\u001b[0m: int() argument must be a string, a bytes-like object or a number, not 'list'"
     ]
    }
   ],
   "source": [
    "[int(x) for x in lista]"
   ]
  },
  {
   "cell_type": "markdown",
   "metadata": {},
   "source": [
    "## <stan style=\"color: cyan\"> Modelado del nervio y sus fibras </stan>"
   ]
  },
  {
   "cell_type": "markdown",
   "metadata": {},
   "source": [
    "AGREGAR:\n",
    "* Mejorar la distribución con coordenadas polares\n",
    "* Permitir hacer otro tipo de distribución que no sea la uniforme\n",
    "* Permitir ingresar manualmente la distribución de las fibras\n",
    "* Ver qué onda con el espacio finito de las fibras (que no se sobrepongan una sobre otra) (ver si tiene sentido)\n",
    "* Que el electrodo no sea un punto sino que tenga un tamaño, así la distancia de la fibra al electrodo sea la mínima distancia"
   ]
  },
  {
   "cell_type": "code",
   "execution_count": null,
   "metadata": {},
   "outputs": [],
   "source": [
    "#Distribución uniforme\n",
    "\n",
    "\n",
    "nu = 200 # cantidad de fibras\n",
    "diametro = 250 #diametro del nervio\n",
    "radio = diametro/2\n",
    "\n",
    "fibras = np.zeros((nu,2))\n",
    "np.random.seed(123)\n",
    "#Distribución uniforme\n",
    "for i,num in enumerate(fibras):\n",
    "    length = np.random.uniform(0,radio**2)\n",
    "    angle = np.pi * np.random.uniform(0, 2)\n",
    "    x = np.sqrt(length) * np.cos(angle)\n",
    "    y = np.sqrt(length) * np.sin(angle)\n",
    "    fibras[i] = [x,y]\n",
    "\n",
    "#print(fibras)\n",
    "\n",
    "plt.figure(figsize = (5,5))\n",
    "plt.plot(fibras[:,0],fibras[:,1],\"r .\")"
   ]
  },
  {
   "cell_type": "code",
   "execution_count": null,
   "metadata": {},
   "outputs": [],
   "source": [
    "#Distribución Normal (De 0 a pi)\n",
    "\n",
    "nu = 2000 # cantidad de fibras\n",
    "diametro = 250 #diametro del nervio\n",
    "radio = diametro/2\n",
    "\n",
    "fibras = np.zeros((nu,2))\n",
    "\n",
    "\n",
    "for i,num in enumerate(fibras):\n",
    "    length = np.random.normal(0,radio)\n",
    "    angle = np.pi * np.random.uniform(0, 1)\n",
    "    #print(length,angle)\n",
    "    while np.abs(length) > radio:\n",
    "        length = np.random.normal(0,radio)\n",
    "    #print(\"x\", length, angle)\n",
    "    x = length * np.cos(angle)\n",
    "    y = length * np.sin(angle)\n",
    "    fibras[i] = [x,y]\n",
    "\n",
    "#print(fibras, len(fibras))\n",
    "\n",
    "\n",
    "plt.figure(figsize = (5,5))\n",
    "plt.plot(fibras[:,0],fibras[:,1],\"r .\")"
   ]
  },
  {
   "cell_type": "code",
   "execution_count": null,
   "metadata": {},
   "outputs": [],
   "source": [
    "#Distribución Normal (De 0 a 2pi)\n",
    "\n",
    "nu = 2000 # cantidad de fibras\n",
    "diametro = 250 #diametro del nervio\n",
    "radio = diametro/2\n",
    "\n",
    "fibras = np.zeros((nu,2))\n",
    "\n",
    "for i,num in enumerate(fibras):\n",
    "    length = np.random.normal(0,radio)\n",
    "    angle = np.pi * np.random.uniform(0, 2)\n",
    "    while np.abs(length) > radio:\n",
    "        length = np.random.normal(0,radio)\n",
    "    x = length * np.cos(angle)\n",
    "    y = length * np.sin(angle)\n",
    "    # TODO así se carga fibra a fibra --> self.lista_fibras.append(Fibra(x,y))\n",
    "    fibras[i] = [x,y]\n",
    "\n",
    "plt.figure(figsize = (5,5))\n",
    "plt.plot(fibras[:,0],fibras[:,1],\"r .\")"
   ]
  },
  {
   "cell_type": "code",
   "execution_count": null,
   "metadata": {},
   "outputs": [],
   "source": [
    "#Ingreso manual de unicación de fibras\n",
    "\n",
    "fibras = pd.read_csv(\"fibras.csv\")\n",
    "\n",
    "numero_fibras = len(fibras)\n",
    "\n",
    "for i in range(0,numero_fibras):\n",
    "    x = fibras[\"x\"][i]\n",
    "    y = fibras[\"y\"][i]\n",
    "    #self.lista_fibras.append(Fibra(x,y))\n"
   ]
  },
  {
   "cell_type": "code",
   "execution_count": null,
   "metadata": {},
   "outputs": [],
   "source": [
    "# Calculo de distancia de cada fibra electrodo --------------------------------\n",
    "dist = []\n",
    "electrodo = [0,a] #ubicacion del electrodo\n",
    "for item in puntitos:\n",
    "    #dist.append(np.sqrt((item[0])**2 + (np.abs(a) + item[1])**2))\n",
    "    dist.append(np.linalg.norm(item-electrodo))\n",
    "\n",
    "dist = np.array(dist)\n",
    "\n",
    "#print(dist,len(dist),type(dist))\n",
    "\n",
    "#! Ver de cambiar la forma en la que creo dist y los puntos, así no sean primero listas\n"
   ]
  },
  {
   "cell_type": "code",
   "execution_count": null,
   "metadata": {},
   "outputs": [],
   "source": [
    "# Más parámetros del modelo\n",
    "\n",
    "nn = 2 #numero de nodos\n",
    "den = 1000 #distancia entre nodos\n",
    "dx = 12000 #distancia en micras al primer electrodo\n",
    "dx1 = 16000 #distancia en micras al segundo electrodo"
   ]
  },
  {
   "cell_type": "code",
   "execution_count": null,
   "metadata": {},
   "outputs": [],
   "source": [
    "#Prueba de distancia de un punto a una línea\n",
    "punto1 = np.array([0,4])\n",
    "punto2 = np.array([6,4])\n",
    "punto3 = np.array([50,1])\n",
    "d = np.linalg.norm(np.cross(punto2-punto1, punto1-punto3))/np.linalg.norm(punto2-punto1)\n",
    "print(d)"
   ]
  },
  {
   "cell_type": "code",
   "execution_count": null,
   "metadata": {},
   "outputs": [],
   "source": [
    "import numpy as np\n",
    "from numpy.linalg import norm\n",
    "\n",
    "A = np.array([0,4])\n",
    "B = np.array([6,4])\n",
    "P = np.array([10,0])\n",
    "\n",
    "if np.arccos(np.dot((P-A)/norm(P-A), (B-A)/norm(B-A))) > np.pi/2:\n",
    "    d = norm(P-A)\n",
    "elif np.arccos(np.dot((P-B)/norm(P-B), (A-B)/norm(A-B))) > np.pi/2:\n",
    "    d = norm(P-B)\n",
    "else:\n",
    "    d = norm(np.cross(B-A, A-P))/norm(B-A)\n",
    "\n",
    "print(d)"
   ]
  },
  {
   "cell_type": "markdown",
   "metadata": {},
   "source": [
    "## <stan style=\"color: cyan\"> Copia de la entrada para cada fibra del nervio</stan>"
   ]
  },
  {
   "cell_type": "code",
   "execution_count": null,
   "metadata": {},
   "outputs": [],
   "source": [
    "resp = [] #lo comienzo como una lista\n",
    "for i in range(0,nu): #punto de mejora de entradas, aqui digo que es el mismo\n",
    "    resp.append(Vm) \n",
    "\n",
    "#! Ver donde corcho vuelvo a usar esto porque ni idea"
   ]
  },
  {
   "cell_type": "markdown",
   "metadata": {},
   "source": [
    "## <stan style=\"color:cyan \"> Cálculo del factor mínimo de atenuación (Wmax) </stan>"
   ]
  },
  {
   "cell_type": "code",
   "execution_count": null,
   "metadata": {},
   "outputs": [],
   "source": [
    "Wmax = np.zeros_like(dist)\n",
    "for i,distancia in enumerate(dist):\n",
    "    if (1-(distancia/40))<0:\n",
    "        Wmax[i]=0.01\n",
    "    else:\n",
    "        Wmax[i]=1-(distancia/40)\n",
    "\n",
    "#print(Wmax,len(Wmax),type(Wmax))"
   ]
  },
  {
   "cell_type": "code",
   "execution_count": null,
   "metadata": {},
   "outputs": [],
   "source": [
    "range(5)"
   ]
  },
  {
   "cell_type": "markdown",
   "metadata": {},
   "source": [
    "## <stan style=\"color:cyan\">Función para calcular el factor de ponderación (pesosW en Matlab) </stan>"
   ]
  },
  {
   "cell_type": "code",
   "execution_count": null,
   "metadata": {},
   "outputs": [],
   "source": [
    "d=nn*den\n",
    "dx=500\n",
    "\n",
    "x=np.array(list(range(0,200000,50))) #con 200mil hay 4mil datos\n",
    "ww = np.zeros(len(x)) #tamaño 1x4mil\n",
    "sizeW = (len(Wmax),len(x))\n",
    "W = np.zeros(sizeW) #debería ser [1x4mil ...1x4mil] de tamaño Wmax(que es 200)\n",
    "\n",
    "for i,v in enumerate(Wmax):\n",
    "    for idx,num in enumerate(x):\n",
    "        if num<dx:\n",
    "            m = (num/d)-(dx/d)+v\n",
    "        else:\n",
    "            m = (-num/d)+(dx/d)+v\n",
    "        if m<0:\n",
    "            m = 0\n",
    "        W[i,idx]=m\n",
    "\n",
    "#print(W)\n",
    "\n",
    "#df = pd.DataFrame(W).T\n",
    "#df.to_excel(excel_writer =\"C:/Users/aguir/Desktop/Prroyecto/test.xlsx\")       "
   ]
  },
  {
   "cell_type": "markdown",
   "metadata": {},
   "source": [
    "## <stan style=\"color:cyan\">Cálculo de las velocidades de conducción nerviosa </stan>"
   ]
  },
  {
   "cell_type": "markdown",
   "metadata": {},
   "source": [
    "Se realiza la asignación de diámetros. Promedio 5.5 micras y desviación estándar de 1.5 micras.\n",
    "Las velocidades de conducción tienen una relación lineal con el diámetro de las fibras, y puede ser estimado multiplicandola por 7.6. <span style=\"color: red;\">Buscar bien por qué usan ese número.</span>"
   ]
  },
  {
   "cell_type": "code",
   "execution_count": null,
   "metadata": {},
   "outputs": [],
   "source": [
    "mu, sigma = 5.5 , 1.5\n",
    "diametros = np.random.normal(mu,sigma,nu) #array con diámetros\n",
    "#print(diametros,type(diametros),len(diametros))"
   ]
  },
  {
   "cell_type": "code",
   "execution_count": null,
   "metadata": {},
   "outputs": [],
   "source": [
    "#Gráfica del histograma de diámetros\n",
    "\n",
    "#plt.hist(diametros,20)\n",
    "#plt.show()\n"
   ]
  },
  {
   "cell_type": "code",
   "execution_count": null,
   "metadata": {},
   "outputs": [],
   "source": [
    "vel = np.zeros(len(diametros))\n",
    "for d,n in enumerate(diametros):\n",
    "    vel[d]=n*7.6"
   ]
  },
  {
   "cell_type": "markdown",
   "metadata": {},
   "source": [
    "## <stan style=\"color:cyan\">Función Cálculo del single fiber action potential (sum_SFAP en Matlab) </stan>"
   ]
  },
  {
   "cell_type": "markdown",
   "metadata": {},
   "source": [
    "Desde aquí abajo comienza la función"
   ]
  },
  {
   "cell_type": "code",
   "execution_count": null,
   "metadata": {},
   "outputs": [],
   "source": [
    "N = len(W) #cantidad de fibras del nervio\n",
    "x=np.array(list(range(0,200000,50))) #vector con resolución de 50 micras, igual que en pesosW()\n",
    "\n",
    "#Ver que estos valores, si yo los cambié arriba o que onda\n",
    "dx = 12000\n",
    "den = 1000\n",
    "\n",
    "#Para conseguir dd\n",
    "#TODO ver si se lo puede hacer más corto\n",
    "dd1 = np.arange(nn,0,-1)\n",
    "dd2 = np.arange(0,nn)\n",
    "for i,n in enumerate(dd1):\n",
    "    dd1[i]=dx-(n*den)\n",
    "for i,n in enumerate(dd2):\n",
    "    dd2[i]=dx+n*den\n",
    "dd = np.concatenate((dd1,dd2), axis=0)\n",
    "print(dd)\n",
    "\n",
    "fss = 100000 #subfrecuencia de muestreo (para implementar retardos)\n",
    "\n",
    "t11=np.arange(1/fss,t1[-1]+1/fss,1/fss) #vector de tiempo remuestrado usando fss\n",
    "resp_pos = np.zeros((N,len(t11))) #inicialización de la matriz respuesta\n"
   ]
  },
  {
   "cell_type": "markdown",
   "metadata": {},
   "source": [
    "Aquí sigue con el ciclo for "
   ]
  },
  {
   "cell_type": "code",
   "execution_count": null,
   "metadata": {},
   "outputs": [],
   "source": [
    "# CICLO FOR HORRIBLE ---------------------------------------------\n",
    "\n",
    "\n",
    "#! Primero vuelvo a resp un array, ver de cambiarlo arriba\n",
    "resp = np.array(resp)\n",
    "\n",
    "for i in range(0,N):\n",
    "    f = interp1d(t1,resp[i],fill_value=\"extrapolate\")\n",
    "    RESP = f(t11)\n",
    "    xx = np.array([i for (i,val) in enumerate(W[i]) if val!= 0])\n",
    "    d = x[xx[0]]\n",
    "    reti = np.round(((d/1000)/(vel[i]*1000))*fss)\n",
    "    ret = 0\n",
    "    S = np.zeros((len(dd),len(t11)))\n",
    "    #Comienza el segundo for :O \n",
    "    for j in range(len(dd)-1):\n",
    "        f1 = interp1d(x,W[i],fill_value=\"extrapolate\")\n",
    "        aux2 = f1(dd[j])\n",
    "        aux = RESP*dd[j]\n",
    "        S[j][int(reti+ret+1):len(aux)] = aux[1:(len(aux)-int(ret+reti))]\n",
    "        ret=np.round((den/1000)/(vel[i]*1000)*fss)+ret\n",
    "    resp_pos[i]= sum(S)\n",
    "sum_SFAP1 = sum(resp_pos)\n",
    "\n",
    "\n",
    "        "
   ]
  },
  {
   "cell_type": "code",
   "execution_count": null,
   "metadata": {},
   "outputs": [],
   "source": [
    "    def distribucion_normal(self,num_fibras,semilla = None):\n",
    "        np.random.seed(semilla)\n",
    "        radio = self.diametro/2\n",
    "        for i in range(num_fibras):\n",
    "            length = np.random.normal(0,radio)\n",
    "            angle = np.pi * np.random.uniform(0, 2) #? de 0 a pi o 2pi? este de es 0 a 2pi\n",
    "            while np.abs(length) > radio:\n",
    "                length = np.random.normal(0,radio)\n",
    "            x = length * np.cos(angle)\n",
    "            y = length * np.sin(angle)\n",
    "            self.fibras.append(Fibra(x,y))\n",
    "        self.cantidad_fibras = num_fibras"
   ]
  },
  {
   "cell_type": "code",
   "execution_count": null,
   "metadata": {},
   "outputs": [],
   "source": [
    "lista = [1,2,3,4,5]\n",
    "arreglo = np.array(lista)\n",
    "print(lista)\n",
    "print(arreglo)"
   ]
  },
  {
   "cell_type": "code",
   "execution_count": null,
   "metadata": {},
   "outputs": [],
   "source": [
    "lista = np.genfromtxt('C:/Users/aguir/Desktop/Prroyecto/fibras_2.csv', delimiter = ',')\n",
    "print(lista,type ( lista))"
   ]
  },
  {
   "cell_type": "code",
   "execution_count": null,
   "metadata": {},
   "outputs": [],
   "source": [
    "print(lista)"
   ]
  },
  {
   "cell_type": "code",
   "execution_count": null,
   "metadata": {},
   "outputs": [],
   "source": [
    "for i in lista:\n",
    "    print(type(float(i[0])),float(i[0]))\n"
   ]
  },
  {
   "cell_type": "code",
   "execution_count": null,
   "metadata": {},
   "outputs": [],
   "source": [
    "plt.gca().add_patch(plt.Circle((1, 0.5), 0.2, edgecolor = 'black',facecolor = 'None'))\n",
    "plt.axis('equal')\n",
    "plt.show()"
   ]
  },
  {
   "cell_type": "code",
   "execution_count": null,
   "metadata": {},
   "outputs": [],
   "source": [
    "radio = 250/2\n",
    "num_fibras = 200"
   ]
  },
  {
   "cell_type": "code",
   "execution_count": null,
   "metadata": {},
   "outputs": [],
   "source": [
    "longitud = np.random.uniform(0,radio**2, size = num_fibras)\n",
    "angulo = np.pi * np.random.uniform(0,2,size = num_fibras)\n",
    "x = np.sqrt(longitud) * np.cos(angulo)\n",
    "y = np.sqrt(longitud) * np.sin(angulo)"
   ]
  },
  {
   "cell_type": "code",
   "execution_count": null,
   "metadata": {},
   "outputs": [],
   "source": [
    "    def manual(self,lista_fibras):\n",
    "        \"\"\"Método con el cual se puebla el nervio con fibras de forma manual, ingresando una lista con las posiciones de las fibras.\n",
    "\n",
    "        Args:\n",
    "            lista_fibras (list): Lista con las posiciones de las fibras.\n",
    "            num_fibras (int): Número de fibras con las que se pobló el nervio.\n",
    "\n",
    "        Raises:\n",
    "            OutOfBounds: Error por encontrar una fibra que supere los límites del nervio.\n",
    "        \"\"\"\n",
    "        for f in lista_fibras:\n",
    "            if not is_inside_puntoencirculo(self.radio,f[0],f[1]):\n",
    "                "
   ]
  },
  {
   "cell_type": "code",
   "execution_count": null,
   "metadata": {},
   "outputs": [],
   "source": [
    "a = np.genfromtxt('C:/Users/aguir/Desktop/Prroyecto/fibras_convacios.csv',delimiter = ',')"
   ]
  },
  {
   "attachments": {},
   "cell_type": "markdown",
   "metadata": {},
   "source": [
    "## <stan style=\"color : cyan\"> Ubicación de nodos </stan>"
   ]
  },
  {
   "cell_type": "code",
   "execution_count": null,
   "metadata": {},
   "outputs": [],
   "source": [
    "nn = 8\n",
    "den = 5\n",
    "xe = 10"
   ]
  },
  {
   "cell_type": "code",
   "execution_count": null,
   "metadata": {},
   "outputs": [],
   "source": [
    "# ESTE SIRVE PARA TODOS\n",
    "np.linspace(xe-((den/2) * (nn-1)),xe+((den/2) * (nn-1)),nn)"
   ]
  },
  {
   "cell_type": "code",
   "execution_count": null,
   "metadata": {},
   "outputs": [],
   "source": [
    "nn = 9\n",
    "den = 4\n",
    "xe = 10"
   ]
  },
  {
   "cell_type": "code",
   "execution_count": null,
   "metadata": {},
   "outputs": [],
   "source": [
    "# NO USAR\n",
    "np.linspace(xe-(nn//den)*den,xe+(nn//den)*den,nn)"
   ]
  },
  {
   "attachments": {},
   "cell_type": "markdown",
   "metadata": {},
   "source": [
    "### <stan style=\"color: orange\">1. Variar la distancia entre nodos en un porcentaje</stan>"
   ]
  },
  {
   "cell_type": "code",
   "execution_count": null,
   "metadata": {},
   "outputs": [],
   "source": [
    "# ESTE SIRVE PARA TODOS\n",
    "np.linspace(xe-((den/2) * (nn-1)),xe+((den/2) * (nn-1)),nn)"
   ]
  },
  {
   "cell_type": "code",
   "execution_count": null,
   "metadata": {},
   "outputs": [],
   "source": [
    "np.array([1,10,100])*np.random.uniform(0.9,1.1)"
   ]
  },
  {
   "cell_type": "code",
   "execution_count": null,
   "metadata": {},
   "outputs": [],
   "source": [
    "a = 10\n",
    "var = 0\n",
    "a = a + a*np.random.uniform(-var/100,var/100)\n",
    "print(a)"
   ]
  },
  {
   "cell_type": "code",
   "execution_count": null,
   "metadata": {},
   "outputs": [],
   "source": [
    "nn = 9\n",
    "den = 4\n",
    "xe = 10"
   ]
  },
  {
   "cell_type": "code",
   "execution_count": null,
   "metadata": {},
   "outputs": [],
   "source": [
    "var = 10 #este será el porcentaje que va a variar"
   ]
  },
  {
   "cell_type": "code",
   "execution_count": null,
   "metadata": {},
   "outputs": [],
   "source": [
    "den = den + den * np.random.uniform(-var/100,var/100)\n",
    "print(den)\n",
    "np.linspace(xe-((den/2) * (nn-1)),xe+((den/2) * (nn-1)),nn)"
   ]
  },
  {
   "cell_type": "code",
   "execution_count": null,
   "metadata": {},
   "outputs": [],
   "source": [
    "#NO USO ESTO AL FINAL, USO EL DE ARRIBA\n",
    "den = den * np.random.uniform(1-var/100,1+var/100)\n",
    "print(den)\n",
    "np.linspace(xe-((den/2) * (nn-1)),xe+((den/2) * (nn-1)),nn)"
   ]
  },
  {
   "attachments": {},
   "cell_type": "markdown",
   "metadata": {},
   "source": [
    "### <stan style=\"color : orange\"> 2. Correr la ubicación de las fibras en un porcentaje </stan>"
   ]
  },
  {
   "cell_type": "code",
   "execution_count": null,
   "metadata": {},
   "outputs": [],
   "source": [
    "# ESTE SIRVE PARA TODOS\n",
    "np.linspace(xe-((den/2) * (nn-1)),xe+((den/2) * (nn-1)),nn)"
   ]
  },
  {
   "cell_type": "code",
   "execution_count": null,
   "metadata": {},
   "outputs": [],
   "source": [
    "lista = np.array([1,10,100])"
   ]
  },
  {
   "cell_type": "code",
   "execution_count": null,
   "metadata": {},
   "outputs": [],
   "source": [
    "lista + 1 #asi nomas le sumo un numero a todos"
   ]
  },
  {
   "cell_type": "code",
   "execution_count": null,
   "metadata": {},
   "outputs": [],
   "source": [
    "lista + np.random.uniform(-1,1) #aumo o quito numero aleatorios a toda la lista"
   ]
  },
  {
   "cell_type": "code",
   "execution_count": null,
   "metadata": {},
   "outputs": [],
   "source": [
    "nn = 9\n",
    "den = 4\n",
    "xe = 10"
   ]
  },
  {
   "cell_type": "code",
   "execution_count": null,
   "metadata": {},
   "outputs": [],
   "source": [
    "mov = 1 #+- la cantidad que se quiera mover"
   ]
  },
  {
   "cell_type": "code",
   "execution_count": null,
   "metadata": {},
   "outputs": [],
   "source": [
    "desp = np.random.uniform(-mov,mov)\n",
    "np.linspace(xe-((den/2) * (nn-1))+desp,xe+((den/2) * (nn-1))+desp,nn)"
   ]
  },
  {
   "cell_type": "code",
   "execution_count": null,
   "metadata": {},
   "outputs": [],
   "source": [
    "np.random.uniform(1,1)"
   ]
  },
  {
   "attachments": {},
   "cell_type": "markdown",
   "metadata": {},
   "source": [
    "### <stan style=\"color : orange\"> 3. Unir variación y desplazamiento </stan>"
   ]
  },
  {
   "cell_type": "code",
   "execution_count": null,
   "metadata": {},
   "outputs": [],
   "source": [
    "# FORMA GENERAL\n",
    "np.linspace(xe-((den/2) * (nn-1)),xe+((den/2) * (nn-1)),nn)"
   ]
  },
  {
   "cell_type": "code",
   "execution_count": null,
   "metadata": {},
   "outputs": [],
   "source": [
    "nn = 6\n",
    "den = 2\n",
    "xe = 10"
   ]
  },
  {
   "cell_type": "code",
   "execution_count": null,
   "metadata": {},
   "outputs": [],
   "source": [
    "movimiento = 2\n",
    "variacion = 10"
   ]
  },
  {
   "cell_type": "code",
   "execution_count": null,
   "metadata": {},
   "outputs": [],
   "source": [
    "den = 2\n",
    "desplazamiento = np.random.uniform(-movimiento,movimiento)\n",
    "den = den + den * np.random.uniform(-variacion/100,variacion/100)\n",
    "print(den,desplazamiento)"
   ]
  },
  {
   "cell_type": "code",
   "execution_count": null,
   "metadata": {},
   "outputs": [],
   "source": [
    "np.linspace(xe-((den/2) * (nn-1))+desplazamiento,xe+((den/2) * (nn-1))+desplazamiento,nn)"
   ]
  },
  {
   "cell_type": "code",
   "execution_count": null,
   "metadata": {},
   "outputs": [],
   "source": [
    "def funcion(param_a,param_b):\n",
    "    pass\n",
    "\n",
    "def otra_funcion(miparametro,tuparametro=0):\n",
    "    a = miparametro * tuparametro\n",
    "    funcion(param_b = 5,param_a = miparametro) #aqui tiene que ir en el mismo orden \n",
    "\n",
    "otra_funcion(5)"
   ]
  },
  {
   "attachments": {},
   "cell_type": "markdown",
   "metadata": {},
   "source": [
    "### <stan style = \"color : cyan\">Quitar elementos de un array con una condición</stan>"
   ]
  },
  {
   "cell_type": "code",
   "execution_count": null,
   "metadata": {},
   "outputs": [],
   "source": [
    "a = np.array([-2,-3,0,1,2,4])\n"
   ]
  },
  {
   "cell_type": "code",
   "execution_count": null,
   "metadata": {},
   "outputs": [],
   "source": [
    "a = a[a > 0]"
   ]
  },
  {
   "cell_type": "code",
   "execution_count": null,
   "metadata": {},
   "outputs": [],
   "source": [
    "a"
   ]
  },
  {
   "attachments": {},
   "cell_type": "markdown",
   "metadata": {},
   "source": [
    "### <stan style = \"color : cyan\">Numpy random normal</stan>"
   ]
  },
  {
   "cell_type": "code",
   "execution_count": null,
   "metadata": {},
   "outputs": [],
   "source": [
    "mu = 0\n",
    "sigma = 0\n",
    "np.random.normal(mu,sigma)"
   ]
  },
  {
   "cell_type": "code",
   "execution_count": null,
   "metadata": {},
   "outputs": [],
   "source": [
    "np.random.normal(0,5,5)"
   ]
  },
  {
   "attachments": {},
   "cell_type": "markdown",
   "metadata": {},
   "source": [
    "### <stan style = \"color : cyan\">Numpy random uniform</stan>"
   ]
  },
  {
   "cell_type": "code",
   "execution_count": null,
   "metadata": {},
   "outputs": [],
   "source": [
    "np.random.uniform(0,1,5)"
   ]
  },
  {
   "cell_type": "code",
   "execution_count": null,
   "metadata": {},
   "outputs": [],
   "source": [
    "longitud_fibra = 50000\n",
    "distancia_nodos = 10000\n",
    "variacion = 1000\n",
    "desplazamiento = 0"
   ]
  },
  {
   "cell_type": "code",
   "execution_count": null,
   "metadata": {},
   "outputs": [],
   "source": [
    "arr = np.arange(-longitud_fibra/2,longitud_fibra*1.5 +1,distancia_nodos)\n",
    "var = np.random.uniform(-variacion,variacion,len(arr)) + desplazamiento"
   ]
  },
  {
   "cell_type": "code",
   "execution_count": null,
   "metadata": {},
   "outputs": [],
   "source": [
    "arr = np.arange(-longitud_fibra/2,longitud_fibra*1.5 +1,distancia_nodos)\n",
    "var = np.random.normal(0,variacion,len(arr)) + desplazamiento"
   ]
  },
  {
   "cell_type": "code",
   "execution_count": null,
   "metadata": {},
   "outputs": [],
   "source": [
    "arr"
   ]
  },
  {
   "cell_type": "code",
   "execution_count": null,
   "metadata": {},
   "outputs": [],
   "source": [
    "var"
   ]
  },
  {
   "cell_type": "code",
   "execution_count": null,
   "metadata": {},
   "outputs": [],
   "source": [
    "arr + var"
   ]
  },
  {
   "cell_type": "code",
   "execution_count": null,
   "metadata": {},
   "outputs": [],
   "source": [
    "b = arr + var"
   ]
  },
  {
   "cell_type": "code",
   "execution_count": null,
   "metadata": {},
   "outputs": [],
   "source": [
    "b"
   ]
  },
  {
   "cell_type": "code",
   "execution_count": null,
   "metadata": {},
   "outputs": [],
   "source": [
    "b = b[(b>0) & (b<50000)]"
   ]
  },
  {
   "cell_type": "code",
   "execution_count": null,
   "metadata": {},
   "outputs": [],
   "source": [
    "np.random.uniform(-1,1)"
   ]
  },
  {
   "cell_type": "code",
   "execution_count": null,
   "metadata": {},
   "outputs": [],
   "source": [
    "a = np.array([1,3,2,2,6,8])"
   ]
  },
  {
   "cell_type": "code",
   "execution_count": null,
   "metadata": {},
   "outputs": [],
   "source": [
    "a = [1,2,3,4]"
   ]
  },
  {
   "cell_type": "code",
   "execution_count": null,
   "metadata": {},
   "outputs": [],
   "source": [
    "del a[-1]"
   ]
  },
  {
   "cell_type": "code",
   "execution_count": null,
   "metadata": {},
   "outputs": [],
   "source": [
    "a"
   ]
  },
  {
   "attachments": {},
   "cell_type": "markdown",
   "metadata": {},
   "source": [
    "### <stan style = \"color : cyan \">Dibujar con shapely  </stan>"
   ]
  },
  {
   "cell_type": "code",
   "execution_count": null,
   "metadata": {},
   "outputs": [],
   "source": [
    "#coordenadas = [(1,1),(1,-1),(-1,-1),(-1,1)]\n",
    "coord = Polygon([(1,1),(1,-1),(-1,-1),(-1,1)])\n",
    "plot_polygon(coord,color = 'red', facecolor='None',edgecolor = 'black')\n",
    "#plot_points(coord)\n",
    "plt.show()"
   ]
  },
  {
   "cell_type": "code",
   "execution_count": null,
   "metadata": {},
   "outputs": [],
   "source": [
    "cuadrado = Polygon([(0,0),(10,0),(10,10),(0,10)])\n",
    "plot_polygon(cuadrado, facecolor='None', edgecolor='red')\n",
    "coord = Polygon([(1,1),(1,-1),(-1,-1),(-1,1)])\n",
    "plot_polygon(coord, add_points = False,facecolor='None', edgecolor = 'red')\n",
    "plt.show()"
   ]
  },
  {
   "cell_type": "code",
   "execution_count": null,
   "metadata": {},
   "outputs": [],
   "source": [
    "fig = plt.figure(1, dpi=90)\n",
    "circ = Point((0,0)).buffer(1)\n",
    "#plot_points(circ)\n",
    "plot_polygon(circ, add_points=False,edgecolor = 'black',facecolor='None')"
   ]
  },
  {
   "cell_type": "code",
   "execution_count": null,
   "metadata": {},
   "outputs": [],
   "source": [
    "fig.grid(False)"
   ]
  },
  {
   "cell_type": "code",
   "execution_count": null,
   "metadata": {},
   "outputs": [],
   "source": [
    "plot_points(Point(0,0))"
   ]
  },
  {
   "cell_type": "code",
   "execution_count": null,
   "metadata": {},
   "outputs": [],
   "source": [
    "shape = Point(0,0).buffer(0)\n",
    "print(shape)\n"
   ]
  },
  {
   "cell_type": "code",
   "execution_count": null,
   "metadata": {},
   "outputs": [],
   "source": [
    "polygon1 = Polygon([(0,5),\n",
    "                    (1,1),\n",
    "                    (3,0),\n",
    "                    ])\n",
    "\n",
    " p = gpd.GeoSeries(polygon1)\n",
    " p.plot()\n",
    " plt.show()"
   ]
  },
  {
   "cell_type": "code",
   "execution_count": null,
   "metadata": {},
   "outputs": [],
   "source": [
    "punto = Point(0,0)\n",
    "circulo = Point(0,0).buffer(2)\n",
    "pol = Polygon([(1,1),(1,-1),(-1,-1),(-1,1)])"
   ]
  },
  {
   "cell_type": "code",
   "execution_count": null,
   "metadata": {},
   "outputs": [],
   "source": []
  },
  {
   "cell_type": "code",
   "execution_count": null,
   "metadata": {},
   "outputs": [],
   "source": [
    "p = gpd.GeoSeries(punto)\n",
    "p.plot(edgecolor = 'red', facecolor = 'None')\n",
    "plt.show()"
   ]
  },
  {
   "cell_type": "code",
   "execution_count": null,
   "metadata": {},
   "outputs": [],
   "source": []
  },
  {
   "cell_type": "code",
   "execution_count": null,
   "metadata": {},
   "outputs": [],
   "source": [
    "import matplotlib.pyplot as plt\n",
    "from shapely.geometry import Point\n",
    "from shapely.plotting import plot_polygon\n",
    "\n",
    "fig = plt.figure(1, dpi=90)\n",
    "\n",
    "a = Point(1, 1).buffer(1.5)\n",
    "b = Point(2, 1).buffer(1.5)\n",
    "\n",
    "# 1\n",
    "#ax = fig.add_subplot(121)\n",
    "#ax.grid(True)\n",
    "ax = plt.axes()\n",
    "#ax.grid(True)\n",
    "#plot_polygon(a, ax=ax, add_points=False)\n",
    "plot_polygon(a,ax=ax,add_points=False)\n",
    "#plot_polygon(b, ax=ax, add_points=False)\n",
    "\n",
    "#c = a.intersection(b)\n",
    "#plot_polygon(c, ax=ax, add_points=False)\n",
    "\n",
    "#ax.set_title('a.intersection(b)')\n",
    "\n",
    "\n",
    "#2\n",
    "#ax = fig.add_subplot(122)\n",
    "#\n",
    "#plot_polygon(a, ax=ax, add_points=False)\n",
    "#plot_polygon(b, ax=ax, add_points=False)\n",
    "#\n",
    "#c = a.symmetric_difference(b)\n",
    "#plot_polygon(c, ax=ax, add_points=False)\n",
    "#\n",
    "#ax.set_title('a.symmetric_difference(b)')\n",
    "\n",
    "\n",
    "#plt.show()"
   ]
  },
  {
   "cell_type": "code",
   "execution_count": null,
   "metadata": {},
   "outputs": [],
   "source": [
    "import matplotlib.pyplot as plt\n",
    "from shapely.geometry import Point\n",
    "from shapely.plotting import plot_polygon\n",
    "\n",
    "a = Point(1, 1).buffer(1.5)\n",
    "b = Point(2, 1)\n",
    "x,y = a.exterior.xy\n",
    "w,z = b.x,b.y\n",
    "\n",
    "plt.axis('equal')\n",
    "plt.plot(x,y)\n",
    "plt.plot(w,z)\n",
    "\n",
    "plt.show()\n"
   ]
  },
  {
   "cell_type": "code",
   "execution_count": null,
   "metadata": {},
   "outputs": [],
   "source": [
    "import matplotlib.pyplot as plt\n",
    "from shapely.geometry import Point\n",
    "from shapely.plotting import plot_polygon\n",
    "\n",
    "\n",
    "x,y = Point(1, 1).buffer(10).exterior.xy\n",
    "\n",
    "plt.axis('equal')\n",
    "plt.plot(x,y)\n",
    "\n",
    "plt.show()"
   ]
  },
  {
   "cell_type": "code",
   "execution_count": null,
   "metadata": {},
   "outputs": [],
   "source": [
    "lista = ['e1','e2','e3']\n",
    "\n",
    "for e in lista:\n",
    "    index = lista.index(e)\n",
    "    print(index)\n"
   ]
  },
  {
   "cell_type": "code",
   "execution_count": null,
   "metadata": {},
   "outputs": [],
   "source": [
    "d = np.random.normal(2,0)\n",
    "print(d)"
   ]
  },
  {
   "cell_type": "code",
   "execution_count": null,
   "metadata": {},
   "outputs": [],
   "source": [
    "a = np.array([[1,2,3],[4,5,6],[7,8,9]])"
   ]
  },
  {
   "cell_type": "code",
   "execution_count": null,
   "metadata": {},
   "outputs": [],
   "source": [
    "a[:,3]"
   ]
  },
  {
   "cell_type": "code",
   "execution_count": null,
   "metadata": {},
   "outputs": [],
   "source": [
    "np.array([[1,2,3],[4,5,6],[7,8,9]])[:,1]"
   ]
  },
  {
   "cell_type": "code",
   "execution_count": null,
   "metadata": {},
   "outputs": [],
   "source": [
    "[[73.23958313,3.92731714,2.5],[9.90834512,-38.99651803,2.5],[-57.91269168,39.38951769,2.5]]"
   ]
  },
  {
   "cell_type": "code",
   "execution_count": null,
   "metadata": {},
   "outputs": [],
   "source": [
    "a = np.array([[ 2.52311858e+01, -8.11397542e+01,  5.00000000e+00],\n",
    "       [ 4.68025803e+01,  3.84263151e+01,  5.00000000e+00],\n",
    "       [-7.49968319e+01,  9.04491870e+01,  5.00000000e+00],\n",
    "       [-1.05791373e+02,  3.81325669e+01,  5.00000000e+00],\n",
    "       [-2.71689366e+01, -7.73837089e+01,  5.00000000e+00],\n",
    "       [-1.13240664e+01,  1.14682326e+02,  5.00000000e+00],\n",
    "       [ 6.92916183e+01,  6.09061185e+00,  5.00000000e+00],\n",
    "       [ 6.61862081e+01, -7.88947501e+01,  5.00000000e+00],\n",
    "       [ 8.77197791e+01,  3.76309822e+01,  5.00000000e+00],\n",
    "       [-7.54855225e+01, -7.83548324e+01,  5.00000000e+00],\n",
    "       [-8.09183769e+01,  1.65342710e+01,  5.00000000e+00],\n",
    "       [-6.99526161e+01, -3.68794459e+01,  5.00000000e+00],\n",
    "       [-6.99146626e+01,  5.65192187e+01,  5.00000000e+00],\n",
    "       [ 9.64513679e+01, -1.82731042e+01,  5.00000000e+00],\n",
    "       [-1.07632461e+02, -4.61583003e+01,  5.00000000e+00],\n",
    "       [ 8.34964956e+01, -3.26494592e+01,  5.00000000e+00],\n",
    "       [-4.34147676e+01,  7.62816128e+01,  5.00000000e+00],\n",
    "       [ 5.17527933e+01, -7.40475129e+01,  5.00000000e+00],\n",
    "       [-4.13220670e+01, -5.16027760e+01,  5.00000000e+00],\n",
    "       [ 4.28629419e+01,  9.34062130e+01,  5.00000000e+00],\n",
    "       [-1.34884898e+01,  9.71445504e+01,  5.00000000e+00],\n",
    "       [-7.41548364e+01, -4.64176393e+01,  5.00000000e+00],\n",
    "       [-3.47172374e+01, -8.46711226e+01,  5.00000000e+00],\n",
    "       [ 2.00431464e+01, -7.22293318e+01,  5.00000000e+00],\n",
    "       [ 5.39503167e+00,  1.10591914e+02,  5.00000000e+00],\n",
    "       [ 5.70455459e+01, -5.68794552e+01,  5.00000000e+00],\n",
    "       [-6.12041635e+01, -7.02271503e+01,  5.00000000e+00]])"
   ]
  },
  {
   "cell_type": "code",
   "execution_count": null,
   "metadata": {},
   "outputs": [],
   "source": [
    "np.savetxt(\"fibras_condiametro.csv\", a, delimiter=\",\")"
   ]
  },
  {
   "cell_type": "code",
   "execution_count": null,
   "metadata": {},
   "outputs": [],
   "source": [
    "b = a[:,(0,1)]"
   ]
  },
  {
   "cell_type": "code",
   "execution_count": null,
   "metadata": {},
   "outputs": [],
   "source": [
    "np.savetxt(\"fibras_sindiametro.csv\", b, delimiter=\",\")"
   ]
  },
  {
   "attachments": {},
   "cell_type": "markdown",
   "metadata": {},
   "source": [
    "### <stan style=\"color: cyan\"> Borro los metodos manual y desde archivos separados</stan>"
   ]
  },
  {
   "cell_type": "code",
   "execution_count": null,
   "metadata": {},
   "outputs": [],
   "source": [
    "    def manual(self,diametro_fibra,lista_fibras):\n",
    "        \"\"\"Método con el cual se puebla el nervio con fibras de forma manual, ingresando una lista con las posiciones de las fibras.\n",
    "\n",
    "        Args:\n",
    "            diametro_fibra (float): Diámetro de las fibras. \n",
    "            lista_fibras (list): Lista con las posiciones de las fibras.\n",
    "\n",
    "        Raises:\n",
    "            OutOfBounds: Error por encontrar una fibra que supere los límites del nervio.\n",
    "        \"\"\"\n",
    "        f = [Fibra(x,y,diametro_fibra) for x,y in lista_fibras if is_inside_puntoencirculo(self.radio,x,y,self.centro_nervio_x,self.centro_nervio_y)]\n",
    "        if len(f)!=len(lista_fibras):\n",
    "            raise OutOfBounds (\"Se encontró por lo menos una fibra fuera de los límites del nervio.\")        \n",
    "        self.fibras= f\n",
    "        self.cantidad_fibras = len(lista_fibras)\n",
    "\n",
    "    def manual_condiametro(self,lista_fibras):\n",
    "        \"\"\"Método con el cual se puebla el nervio de forma manual, a partir de un array de 3 columnas: coordenadas x, coordenadas y, diámetros de las fibras.\n",
    "\n",
    "        Args:\n",
    "            lista_fibras (list): Lista con la información de las fibras.\n",
    "\n",
    "        Raises:\n",
    "            OutOfBounds: Al detectar por lo menos una fibra fuera de los límites del nervio.\n",
    "        \"\"\"\n",
    "            \n",
    "        f = [Fibra(x,y,d) for x,y,d in lista_fibras if is_inside_circencirc(d/2,x,y,self.radio,self.centro_nervio_x,self.centro_nervio_y)]\n",
    "        if len(f)!=len(lista_fibras):\n",
    "            raise OutOfBounds (\"Se encontró por lo menos una fibra fuera de los límites del nervio.\")        \n",
    "        self.fibras= f\n",
    "        self.cantidad_fibras = len(lista_fibras)"
   ]
  },
  {
   "cell_type": "code",
   "execution_count": null,
   "metadata": {},
   "outputs": [],
   "source": [
    "    def desde_archivo(self,diametro_fibra,ubicacion_archivo):\n",
    "        \"\"\"Método con el cual se carga un archivo con ubicación de fibras y se puebla el nervio con ellas.\n",
    "\n",
    "        Args:\n",
    "            diametro_fibra (float): Diámetro de las fibras en micrómetros.\n",
    "            ubicacion_archivo (str):Dirección donde se encuentra el archivo csv con la ubicación de las fibras.\n",
    "\n",
    "        Raises:\n",
    "            LoadingError: Error de carga del archivo.\n",
    "            ValueError: Se levanta cuando el archivo tiene un elemento no numérico.\n",
    "            OutOfBounds: Se levanta cuando se encuentra una fibra posicionada fuera del diámetro del nervio.\n",
    "        \"\"\"\n",
    "        try:\n",
    "            lista_fibras = np.genfromtxt(ubicacion_archivo, delimiter = ',')\n",
    "        except Exception as e:\n",
    "            raise LoadingError('Fallo en carga de archivo.') from e\n",
    "        \n",
    "        if not np.isnan(sum(lista_fibras)).any() and np.issubdtype(lista_fibras.dtype, np.number):\n",
    "            self.manual(diametro_fibra,lista_fibras)\n",
    "        else:\n",
    "            raise ValueError (\"La lista contiene caracteres que no son números.\")\n",
    "    \n",
    "    def desde_archivo_condiametro(self,ubicacion_archivo):\n",
    "        \"\"\"Método con el cual se puebla un nervio a partir de la carga de un archivo con la información de las fibras, las cuales deben organizarse en 3 columnas: coordenadas x, coordenadas y, diámetros de las fibras.\n",
    "\n",
    "        Args:\n",
    "            ubicacion_archivo (str):Dirección donde se encuentra el archivo csv con la información de las fibras.\n",
    "\n",
    "        Raises:\n",
    "            LoadingError: Error de carga del archivo.\n",
    "            ValueError: Se levanta cuando el archivo tiene un elemento no numérico.\n",
    "            OutOfBounds: Se levanta cuando se encuentra una fibra posicionada fuera del diámetro del nervio.\n",
    "        \"\"\"\n",
    "        try:\n",
    "            lista_fibras = np.genfromtxt(ubicacion_archivo, delimiter = ',')\n",
    "        except Exception as e:\n",
    "            raise LoadingError('Fallo en carga de archivo.') from e\n",
    "\n",
    "        if not np.isnan(sum(lista_fibras)).any() and np.issubdtype(lista_fibras.dtype, np.number):\n",
    "            self.manual_condiametro(lista_fibras)   \n",
    "        else:\n",
    "            raise ValueError (\"La lista contiene caracteres que no son números.\")"
   ]
  },
  {
   "attachments": {},
   "cell_type": "markdown",
   "metadata": {},
   "source": [
    "### <stan style=\"color : cyan\">Np column stack</stan>"
   ]
  },
  {
   "cell_type": "code",
   "execution_count": null,
   "metadata": {},
   "outputs": [],
   "source": [
    "a = np.array([1,2,3])\n",
    "b = np.array([4,5,6])\n",
    "c = np.array([7,8,9])\n",
    "matriz = np.column_stack((a,b,c))\n",
    "print(matriz)"
   ]
  },
  {
   "attachments": {},
   "cell_type": "markdown",
   "metadata": {},
   "source": [
    "### <stan style=\"color : cyan\">Métodos uniformes que borro</stan>"
   ]
  },
  {
   "cell_type": "code",
   "execution_count": null,
   "metadata": {},
   "outputs": [],
   "source": [
    "# Uniforme con superposición y diámetro fijo    \n",
    "def distribucion_uniforme(self,num_fibras,semilla,diametro_fibra):\n",
    "        \"\"\"Método con el cual se puebla el nervio con fibras con distribución uniforme.\n",
    "        El diámetro de las fibras es el mismo para todas las fibras con este método.\n",
    "\n",
    "        Args:\n",
    "            num_fibras (int): Número de fibras que tendrá el nervio.\n",
    "            semilla (int, optional): Número de la semilla. Por defecto es None.\n",
    "            diametro_fibra (float): Diámetro de la fibra en micrones. Por defecto es 0, si se trata de fibras puntuales.\n",
    "        \"\"\"\n",
    "        #Tiene centro en (0,0), implementar el traslado \n",
    "        np.random.seed(semilla)\n",
    "        longitud = np.random.uniform(0,self.radio**2, size = num_fibras)\n",
    "        angulo = np.pi * np.random.uniform(0,2,size = num_fibras)\n",
    "        x = np.sqrt(longitud) * np.cos(angulo)\n",
    "        y = np.sqrt(longitud) * np.sin(angulo)\n",
    "        matriz = np.column_stack((x,y))\n",
    "        self.fibras = [Fibra(x,y,diametro_fibra) for x,y in matriz]\n",
    "        self.cantidad_fibras = num_fibras"
   ]
  },
  {
   "cell_type": "code",
   "execution_count": null,
   "metadata": {},
   "outputs": [],
   "source": [
    "#Uniforme sin superposición con diámetro fijo\n",
    "def uniforme_sin_superposicion(self,num_fibras,semilla,diametro_fibra):\n",
    "        \"\"\"Método para poblar el nervio con el cual se evita la superposición de fibras entre sí, siendo contenidas dentro de los límites del nervio.\n",
    "\n",
    "        Args:\n",
    "            num_fibras (int): Número de fibras que tendrá el nervio.\n",
    "            semilla (int, optional): Número de la semilla. Por defecto es None.\n",
    "            diametro_fibra (float): Diámetro de la fibra en micrones.\n",
    "        \"\"\"\n",
    "        np.random.seed(semilla)\n",
    "\n",
    "        if diametro_fibra == 0 :\n",
    "            raise InputError(\"Para este método es necesario ingresar un diámetro de fibras distinto a cero.\")\n",
    " \n",
    "        lista = []\n",
    "        while len(lista) < num_fibras:\n",
    "            choque = False\n",
    "            length = np.random.uniform(0,self.radio**2)\n",
    "            angle = np.pi * np.random.uniform(0, 2) \n",
    "            x = np.sqrt(length) * np.cos(angle)\n",
    "            y = np.sqrt(length) * np.sin(angle)\n",
    "\n",
    "            for a,b in lista:\n",
    "                if distancia_entre_puntos(x,y,a,b) < diametro_fibra:\n",
    "                    choque = True\n",
    "            if choque is False and is_inside_circencirc(diametro_fibra/2,x,y,self.radio,self.centro_nervio_x,self.centro_nervio_y):\n",
    "                lista.append([x,y])\n",
    "        self.fibras = [Fibra(x,y,diametro_fibra) for x,y in lista]\n",
    "        self.cantidad_fibras = num_fibras"
   ]
  },
  {
   "attachments": {},
   "cell_type": "markdown",
   "metadata": {},
   "source": [
    "### <stan style = \"color : orange \"> Pesos longitudinales lineal </stan>"
   ]
  },
  {
   "cell_type": "code",
   "execution_count": null,
   "metadata": {},
   "outputs": [],
   "source": [
    "dist = [1,2,3,7,4,2,8,9]\n",
    "b = 5"
   ]
  },
  {
   "cell_type": "code",
   "execution_count": null,
   "metadata": {},
   "outputs": [],
   "source": [
    "[ (1-(x)/b)  if (x>=0 and x<b) else 0 for x in dist]"
   ]
  },
  {
   "cell_type": "code",
   "execution_count": null,
   "metadata": {},
   "outputs": [],
   "source": [
    "lista = [10,10,10,10,10,10,10,10,10,10,10,10,10]\n",
    "pos = list(range(1,21))\n",
    "pesos = []\n",
    "z = 8\n",
    "d = 5\n",
    "a = 1\n",
    "\n",
    "pesos = [ 1-(abs(x-z)/d) if (x>z-d and x<z-a) or (x>z+a and x<z+d) \n",
    "         else 1 if (x>=z-a and x<=z+a) \n",
    "         else 0 \n",
    "         for x in pos ]\n"
   ]
  },
  {
   "cell_type": "code",
   "execution_count": null,
   "metadata": {},
   "outputs": [],
   "source": [
    "pesos"
   ]
  },
  {
   "cell_type": "code",
   "execution_count": null,
   "metadata": {},
   "outputs": [],
   "source": [
    "list(range(1,21))"
   ]
  },
  {
   "cell_type": "code",
   "execution_count": null,
   "metadata": {},
   "outputs": [],
   "source": [
    "def funcion_trapecio(x,z,d,a):\n",
    "    if (x>z-d-a and x<z-a):\n",
    "        return (x-z+d+a)/d\n",
    "    elif (x>z+a and x<z+a+d):\n",
    "        return (z+a+d-x)/d\n",
    "    elif (x>=z-a and x<=z+a):\n",
    "        return 1\n",
    "    else:\n",
    "        return 0"
   ]
  },
  {
   "cell_type": "code",
   "execution_count": null,
   "metadata": {},
   "outputs": [],
   "source": [
    "def funcion_gaussiana2(x,z,d,a,mu):\n",
    "    factor = 1/ (1/((d/3)*np.sqrt(2*np.pi)))\n",
    "    \n",
    "    if (x>z-d-a and x<z-a):\n",
    "        coeficiente = 1/((d/3)*np.sqrt(2*np.pi))\n",
    "        exponente = -(x - (mu -a))**2 / (2 * (d/3)**2)\n",
    "        return factor*coeficiente*np.exp(exponente)\n",
    "    elif (x>z+a and x<z+a+d):\n",
    "        coeficiente = 1/((d/3)*np.sqrt(2*np.pi))\n",
    "        exponente = -(x - (mu +a))**2 / (2 * (d/3 -a)**2)\n",
    "        return factor*coeficiente*np.exp(exponente)\n",
    "    elif (x>=z-a and x<=z+a):\n",
    "        return 1"
   ]
  },
  {
   "cell_type": "code",
   "execution_count": null,
   "metadata": {},
   "outputs": [],
   "source": [
    "def funcion_gaussiana(x,z,d,a,mu):\n",
    "    coeficiente = 1/((d/3)*np.sqrt(2*np.pi))\n",
    "    exponente = -(x - mu)**2 / (2 * (d/3)**2)\n",
    "    if (x>z-d-a and x<z-a):\n",
    "        return coeficiente*np.exp(exponente)\n",
    "    elif (x>z+a and x<z+a+d):\n",
    "        return coeficiente*np.exp(exponente)\n",
    "    elif (x>=z-a and x<=z+a):\n",
    "        return 1"
   ]
  },
  {
   "cell_type": "code",
   "execution_count": null,
   "metadata": {},
   "outputs": [],
   "source": [
    "def funcion_gaussiana3(x,z,d,a):\n",
    "    coeficiente = 1/((d/3)*np.sqrt(2*np.pi))\n",
    "    factor = 1/coeficiente\n",
    "    if (x<z-a):\n",
    "        exponente = -(x - (z -a))**2 / (2 * (d/3)**2)\n",
    "        return factor*coeficiente*np.exp(exponente)\n",
    "    elif (x>z+a):\n",
    "        exponente = -(x - (z +a))**2 / (2 * (d/3)**2)\n",
    "        return factor*coeficiente*np.exp(exponente)\n",
    "    elif (x>=z-a and x<=z+a):\n",
    "        return 1\n",
    "    else:\n",
    "        return 0"
   ]
  },
  {
   "cell_type": "code",
   "execution_count": null,
   "metadata": {},
   "outputs": [],
   "source": [
    "plt.plot(pos,y,'r .')"
   ]
  },
  {
   "cell_type": "code",
   "execution_count": null,
   "metadata": {},
   "outputs": [],
   "source": [
    "plt.plot(pos,y)"
   ]
  },
  {
   "cell_type": "code",
   "execution_count": null,
   "metadata": {},
   "outputs": [],
   "source": [
    "y"
   ]
  },
  {
   "cell_type": "code",
   "execution_count": null,
   "metadata": {},
   "outputs": [],
   "source": [
    "def funcion_constante(x,z,d,a,valor):\n",
    "    if x>=z-d-a and x<=z+d+a:\n",
    "        return valor\n",
    "    else:\n",
    "        return 0"
   ]
  },
  {
   "cell_type": "code",
   "execution_count": null,
   "metadata": {},
   "outputs": [],
   "source": [
    "pos = list(range(1,101))\n",
    "y = [funcion_constante(x=x,z=50,d=20,a=5,valor = 50) for x in pos]"
   ]
  },
  {
   "cell_type": "code",
   "execution_count": null,
   "metadata": {},
   "outputs": [],
   "source": [
    "plt.plot(pos,y,'r .')"
   ]
  },
  {
   "cell_type": "code",
   "execution_count": null,
   "metadata": {},
   "outputs": [],
   "source": [
    "plt.plot(pos,y)"
   ]
  },
  {
   "cell_type": "code",
   "execution_count": null,
   "metadata": {},
   "outputs": [],
   "source": [
    "y"
   ]
  },
  {
   "cell_type": "code",
   "execution_count": null,
   "metadata": {},
   "outputs": [],
   "source": [
    "a = np.array([2,2,2])\n",
    "b = np.array([[2,2,2,2],[1,1,1,1,1],[3,3,3]],dtype=object)"
   ]
  },
  {
   "cell_type": "code",
   "execution_count": null,
   "metadata": {},
   "outputs": [],
   "source": [
    "lista_enteros = [1, 2, 3]\n",
    "lista_listas = [[4, 5], [6, 7], [8, 9]]\n",
    "\n",
    "resultado = []\n",
    "\n",
    "for i in range(len(lista_enteros)):\n",
    "    for j in range(len(lista_listas[i])):\n",
    "        resultado.append(lista_enteros[i] * lista_listas[i][j])\n",
    "        \n",
    "print(resultado)"
   ]
  },
  {
   "cell_type": "code",
   "execution_count": null,
   "metadata": {},
   "outputs": [],
   "source": [
    "lista_enteros = [1, 2, 3]\n",
    "lista_listas = [[4, 0], [6, 7], [8, 9]]\n",
    "\n",
    "resultado = []\n",
    "\n",
    "for i in range(len(lista_enteros)):\n",
    "    resultado_fila = []\n",
    "    for j in range(len(lista_listas[i])):\n",
    "        resultado_fila.append(lista_enteros[i] * lista_listas[i][j])\n",
    "    resultado.append(resultado_fila)\n",
    "        \n",
    "print(resultado)"
   ]
  },
  {
   "cell_type": "code",
   "execution_count": null,
   "metadata": {},
   "outputs": [],
   "source": [
    "lista_enteros = [1, 0, 3]\n",
    "lista_listas = [[4, 0], [6, 7], [8, 9]]\n",
    "\n",
    "resultado = [[entero * elemento for elemento in lista] for entero, lista in zip(lista_enteros, lista_listas)]\n",
    "\n",
    "print(resultado)"
   ]
  },
  {
   "cell_type": "code",
   "execution_count": null,
   "metadata": {},
   "outputs": [],
   "source": [
    "lista1 = [1, 1, 3, 1, 5]\n",
    "lista2 = [0, 0, 0, 4, 0]\n",
    "\n",
    "lista_filtrada = [lista1[i] for i, valor in enumerate(lista2) if valor == 0]\n",
    "\n",
    "print(lista_filtrada)"
   ]
  },
  {
   "cell_type": "code",
   "execution_count": null,
   "metadata": {},
   "outputs": [],
   "source": [
    "lista1 = [1, 1, 3, 9, 5] # lista1 = self.nervio.obtener_lista_fibras\n",
    "lista2 = [0, 2, 0, 4, 2] # lista2 = self.electrodos[0].wmax\n",
    "\n",
    "nueva_lista = [lista1[i] for i, valor in enumerate(lista2) if valor != 0]\n",
    "\n",
    "print(nueva_lista)"
   ]
  },
  {
   "cell_type": "code",
   "execution_count": null,
   "metadata": {},
   "outputs": [],
   "source": [
    "n = 5\n",
    "m = 7\n",
    "\n",
    "# Creamos la lista de tamaño n\n",
    "lista_n = []\n",
    "for i in range(n):\n",
    "    # Creamos la lista de tamaño m con todos los elementos iguales a cero\n",
    "    lista_m = [0] * m\n",
    "    # Cambiamos el valor en la posición x a uno\n",
    "    x = 3 # puedes cambiar este valor a cualquier posición que desees\n",
    "    lista_m[x] = 1\n",
    "    # Añadimos la lista_m a la lista_n\n",
    "    lista_n.append(lista_m)\n",
    "\n",
    "# Imprimimos la lista_n\n",
    "print(lista_n)"
   ]
  },
  {
   "cell_type": "code",
   "execution_count": null,
   "metadata": {},
   "outputs": [],
   "source": [
    "t_inicio = 5\n",
    "f_muestreo = 2000\n",
    "t_estimulo = 10\n",
    "cant_muestras = f_muestreo*t_estimulo\n",
    "posicion = t_inicio*f_muestreo\n",
    "duracion = 0\n",
    "num_fibras = 5\n",
    "\n",
    "\n",
    "estimulo = np.array([np.array([1 if (j >= posicion and j<= (posicion+duracion)) else 0 for j in range(cant_muestras)]) for i in range(num_fibras)])"
   ]
  },
  {
   "cell_type": "code",
   "execution_count": null,
   "metadata": {},
   "outputs": [],
   "source": [
    "np.savetxt('estimulo.csv',estimulo, delimiter=',')"
   ]
  },
  {
   "cell_type": "code",
   "execution_count": null,
   "metadata": {},
   "outputs": [],
   "source": [
    "for i in range(len(estimulo)):\n",
    "    plt.plot(estimulo[i])\n",
    "plt.show()"
   ]
  },
  {
   "cell_type": "code",
   "execution_count": null,
   "metadata": {},
   "outputs": [],
   "source": [
    "type(np.array([1,2]))"
   ]
  },
  {
   "cell_type": "code",
   "execution_count": null,
   "metadata": {},
   "outputs": [],
   "source": [
    "a = 10\n",
    "c = 3\n",
    "signal = [0 for x in range(a)]\n",
    "est = [1,1,1,1,1]\n",
    "b = len(est)\n",
    "print(signal)"
   ]
  },
  {
   "cell_type": "code",
   "execution_count": null,
   "metadata": {},
   "outputs": [],
   "source": [
    "signal[c-1:c+b] = est\n",
    "signal = signal[0:a]\n",
    "print(signal)"
   ]
  },
  {
   "cell_type": "code",
   "execution_count": null,
   "metadata": {},
   "outputs": [],
   "source": [
    "est[0:b-(a-c)+1]"
   ]
  },
  {
   "cell_type": "code",
   "execution_count": null,
   "metadata": {},
   "outputs": [],
   "source": [
    "signal[c:a]"
   ]
  },
  {
   "cell_type": "code",
   "execution_count": null,
   "metadata": {},
   "outputs": [],
   "source": [
    "m = 10 # Tamaño de la lista de ceros\n",
    "n = 9 # Tamaño de la lista con los nuevos valores\n",
    "i = 2 # Posición desde la cual se deben reemplazar los valores\n",
    "\n",
    "# Lista de ceros\n",
    "lista_ceros = [0]*m\n",
    "\n",
    "# Lista con los nuevos valores\n",
    "lista_nuevos_valores = [1, 2, 3, 4, 5]\n",
    "\n",
    "# Reemplazo de valores\n",
    "if n>=m-i:\n",
    "    for j in range(m-i):\n",
    "        lista_ceros[i+j] = lista_nuevos_valores[j]\n",
    "else:\n",
    "    for j in range(n):\n",
    "        lista_ceros[i+j] = lista_nuevos_valores[j]\n",
    "\n",
    "print(lista_ceros)"
   ]
  },
  {
   "cell_type": "code",
   "execution_count": null,
   "metadata": {},
   "outputs": [],
   "source": [
    "def reemplazar_lista(lista_ceros, lista_numeros, posicion):\n",
    "    m = len(lista_ceros)\n",
    "    n = len(lista_numeros)\n",
    "    i = posicion\n",
    "    \n",
    "    if n > m - i:\n",
    "        n = m - i\n",
    "    \n",
    "    for j in range(n):\n",
    "        lista_ceros[i+j] = lista_numeros[j]\n",
    "    \n",
    "    return lista_ceros"
   ]
  },
  {
   "cell_type": "code",
   "execution_count": null,
   "metadata": {},
   "outputs": [],
   "source": [
    "def reemplazar_lista(lista_ceros, lista_numeros, posicion):\n",
    "    m = len(lista_ceros)\n",
    "    n = len(lista_numeros)\n",
    "    i = posicion\n",
    "    \n",
    "    if n > m - i:\n",
    "        n = m - i\n",
    "    \n",
    "    lista_ceros[i:i+n] = lista_numeros[:n]\n",
    "    \n",
    "    return lista_ceros"
   ]
  },
  {
   "cell_type": "code",
   "execution_count": null,
   "metadata": {},
   "outputs": [],
   "source": [
    "lista_ceros = [0]*10\n",
    "lista_numeros = [1] * 5\n",
    "posicion = 0\n",
    "reemplazar_lista(lista_ceros, lista_numeros, posicion)"
   ]
  },
  {
   "cell_type": "code",
   "execution_count": null,
   "metadata": {},
   "outputs": [],
   "source": [
    "a = [1,2,'holi']"
   ]
  },
  {
   "cell_type": "code",
   "execution_count": null,
   "metadata": {},
   "outputs": [],
   "source": [
    "a = np.array([1,2,3,4])"
   ]
  },
  {
   "cell_type": "code",
   "execution_count": null,
   "metadata": {},
   "outputs": [],
   "source": [
    "np.array(a)"
   ]
  },
  {
   "cell_type": "code",
   "execution_count": null,
   "metadata": {},
   "outputs": [],
   "source": [
    "b = np.tile(a,(5,1))"
   ]
  },
  {
   "cell_type": "code",
   "execution_count": null,
   "metadata": {},
   "outputs": [],
   "source": [
    "b"
   ]
  },
  {
   "cell_type": "code",
   "execution_count": null,
   "metadata": {},
   "outputs": [],
   "source": [
    "arr = np.array([1,'hola',1])"
   ]
  },
  {
   "cell_type": "code",
   "execution_count": null,
   "metadata": {},
   "outputs": [],
   "source": [
    "arr = np.array([\"Hola\", \"mundo\", \"!\"])"
   ]
  },
  {
   "cell_type": "code",
   "execution_count": null,
   "metadata": {},
   "outputs": [],
   "source": [
    "\n",
    "if arr.dtype.kind in np.typecodes[\"AllInteger\"] + np.typecodes[\"Float\"]:\n",
    "    print(\"El array contiene valores numéricos\")\n",
    "else:\n",
    "    print(\"El array no contiene valores numéricos\")"
   ]
  },
  {
   "cell_type": "code",
   "execution_count": null,
   "metadata": {},
   "outputs": [],
   "source": [
    "arr = np.array([1, 2.2, 3, 4, 5])\n",
    "if np.issubdtype(arr.dtype, np.number):\n",
    "    print(\"El array contiene valores numéricos\")\n",
    "else:\n",
    "    print(\"El array no contiene valores numéricos\")"
   ]
  },
  {
   "cell_type": "code",
   "execution_count": null,
   "metadata": {},
   "outputs": [],
   "source": [
    "\n",
    "# Cargar datos desde el archivo CSV\n",
    "datos = np.loadtxt(\"array.csv\", delimiter=\",\")\n",
    "\n",
    "# Imprimir los datos cargados\n",
    "#print(datos)\n",
    "\n",
    "# Imprimir la forma de los datos (número de filas y columnas)\n",
    "print(datos.shape)"
   ]
  },
  {
   "cell_type": "code",
   "execution_count": 15,
   "metadata": {},
   "outputs": [],
   "source": [
    "a = np.zeros((5,20))"
   ]
  },
  {
   "cell_type": "code",
   "execution_count": null,
   "metadata": {},
   "outputs": [],
   "source": [
    "len(a[0][2:5])"
   ]
  },
  {
   "cell_type": "code",
   "execution_count": null,
   "metadata": {},
   "outputs": [],
   "source": [
    "a[0][2:5]"
   ]
  },
  {
   "cell_type": "code",
   "execution_count": 16,
   "metadata": {},
   "outputs": [],
   "source": [
    "arr = np.empty((2,5))"
   ]
  },
  {
   "cell_type": "code",
   "execution_count": 3,
   "metadata": {},
   "outputs": [],
   "source": [
    "arr = np.array([[1,'hola',1,1],[2,2,2,2],[3,3,3,3]])"
   ]
  },
  {
   "cell_type": "code",
   "execution_count": 4,
   "metadata": {},
   "outputs": [
    {
     "data": {
      "text/plain": [
       "array([['1', 'hola', '1', '1'],\n",
       "       ['2', '2', '2', '2'],\n",
       "       ['3', '3', '3', '3']], dtype='<U11')"
      ]
     },
     "execution_count": 4,
     "metadata": {},
     "output_type": "execute_result"
    }
   ],
   "source": [
    "arr"
   ]
  },
  {
   "cell_type": "code",
   "execution_count": 18,
   "metadata": {},
   "outputs": [],
   "source": [
    "def is_numeric_array(arr):\n",
    "    return np.isnan(sum(arr)).any()"
   ]
  },
  {
   "cell_type": "code",
   "execution_count": 19,
   "metadata": {},
   "outputs": [
    {
     "data": {
      "text/plain": [
       "True"
      ]
     },
     "execution_count": 19,
     "metadata": {},
     "output_type": "execute_result"
    }
   ],
   "source": [
    "is_numeric_array(arr)"
   ]
  },
  {
   "cell_type": "code",
   "execution_count": null,
   "metadata": {},
   "outputs": [],
   "source": [
    "def is_numeric_array(arr):\n",
    "    return  np.issubdtype(arr.dtype, np.number)\n",
    "\n",
    "def is_numeric_nested_array(arr):\n",
    "    vfunc = np.vectorize(is_numeric_array)\n",
    "    return vfunc(arr).all()"
   ]
  },
  {
   "cell_type": "code",
   "execution_count": 58,
   "metadata": {},
   "outputs": [],
   "source": [
    "a = np.array([1,1,1])"
   ]
  },
  {
   "cell_type": "code",
   "execution_count": 2,
   "metadata": {},
   "outputs": [
    {
     "name": "stdout",
     "output_type": "stream",
     "text": [
      "[[1 2 3]\n",
      " [1 2 3]\n",
      " [1 2 3]\n",
      " [1 2 3]] <class 'numpy.ndarray'>\n"
     ]
    }
   ],
   "source": [
    "\n",
    "arr = np.array([1, 2, 3])  # array conocido\n",
    "n = 4  # número de copias\n",
    "\n",
    "new_arr = np.repeat([arr], n, axis=0)  # crear un array con n copias de arr\n",
    "\n",
    "print(new_arr,type(new_arr[0]))"
   ]
  },
  {
   "cell_type": "code",
   "execution_count": 8,
   "metadata": {},
   "outputs": [
    {
     "name": "stdout",
     "output_type": "stream",
     "text": [
      "[0.33333333 0.66666667 1.        ]\n",
      "[0.33333333 0.66666667 1.        ]\n",
      "[0.33333333 0.66666667 1.        ]\n",
      "[0.33333333 0.66666667 1.        ]\n"
     ]
    }
   ],
   "source": [
    "for i in new_arr:\n",
    "    i = i/max(i)\n",
    "    print(i)"
   ]
  },
  {
   "cell_type": "code",
   "execution_count": 10,
   "metadata": {},
   "outputs": [
    {
     "data": {
      "text/plain": [
       "array([[1, 2, 3],\n",
       "       [1, 2, 3],\n",
       "       [1, 2, 3],\n",
       "       [1, 2, 3]])"
      ]
     },
     "execution_count": 10,
     "metadata": {},
     "output_type": "execute_result"
    }
   ],
   "source": [
    "new_arr"
   ]
  },
  {
   "cell_type": "code",
   "execution_count": 12,
   "metadata": {},
   "outputs": [
    {
     "name": "stdout",
     "output_type": "stream",
     "text": [
      "[[0.33333333 0.66666667 1.        ]\n",
      " [0.66666667 0.83333333 1.        ]\n",
      " [0.77777778 0.88888889 1.        ]]\n"
     ]
    }
   ],
   "source": [
    "# Creamos un numpy array con varios arrays dentro\n",
    "arr = np.array([[1, 2, 3], [4, 5, 6], [7, 8, 9]])\n",
    "\n",
    "# Encontramos el valor máximo en cada array y dividimos cada array por su valor máximo\n",
    "arr_norm = arr / np.amax(arr, axis=1, keepdims=True)\n",
    "\n",
    "print(arr_norm)"
   ]
  }
 ],
 "metadata": {
  "kernelspec": {
   "display_name": "env",
   "language": "python",
   "name": "python3"
  },
  "language_info": {
   "codemirror_mode": {
    "name": "ipython",
    "version": 3
   },
   "file_extension": ".py",
   "mimetype": "text/x-python",
   "name": "python",
   "nbconvert_exporter": "python",
   "pygments_lexer": "ipython3",
   "version": "3.9.1"
  },
  "orig_nbformat": 4,
  "vscode": {
   "interpreter": {
    "hash": "929332d5510375a6e59867eb15c6694920affb6ac30e7451fa3ee6d079df4e3a"
   }
  }
 },
 "nbformat": 4,
 "nbformat_minor": 2
}
